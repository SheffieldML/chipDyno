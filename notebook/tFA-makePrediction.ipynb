{
 "metadata": {
  "name": "",
  "signature": "sha256:f1ea2a23c5b062ca5e88a02b9b5a9fe979fa40ac8fd8b7bb0bc339618ddb3491"
 },
 "nbformat": 3,
 "nbformat_minor": 0,
 "worksheets": [
  {
   "cells": [
    {
     "cell_type": "heading",
     "level": 1,
     "metadata": {},
     "source": [
      "Inferring Transcription Factor Activities by Combining Binding Information with Gene Expression Profiles"
     ]
    },
    {
     "cell_type": "code",
     "collapsed": false,
     "input": [
      "import numpy as np\n",
      "import pylab as pb\n",
      "import GPy\n",
      "import scipy.io\n",
      "import matplotlib.pyplot as plt\n",
      "\n",
      "%matplotlib inline"
     ],
     "language": "python",
     "metadata": {},
     "outputs": [
      {
       "output_type": "stream",
       "stream": "stderr",
       "text": [
        "/home/muhammad/mlprojects/GPy/GPy/util/linalg.py:48: UserWarning: warning: caught this exception:'module' object has no attribute '_dotblas'\n",
        "  warnings.warn(\"warning: caught this exception:\" + str(e))\n"
       ]
      }
     ],
     "prompt_number": 1
    },
    {
     "cell_type": "code",
     "collapsed": false,
     "input": [
      "data = GPy.util.datasets.spellman_yeast_cdc15()\n",
      "Y = data['Y'].fillna(0) # Replace missing values with zero following Sanguinetti et al.\n",
      "t = data['t']\n",
      "print data['info'], data['details']\n",
      "#print Y"
     ],
     "language": "python",
     "metadata": {},
     "outputs": [
      {
       "output_type": "stream",
       "stream": "stdout",
       "text": [
        "Time series of synchronized yeast cells from the CDC-15 experiment of Spellman et al (1998). Two colour spotted cDNA array data set of a series of experiments to identify which genes in Yeast are cell cycle regulated.\n"
       ]
      }
     ],
     "prompt_number": 2
    },
    {
     "cell_type": "code",
     "collapsed": false,
     "input": [
      "print Y.shape"
     ],
     "language": "python",
     "metadata": {},
     "outputs": [
      {
       "output_type": "stream",
       "stream": "stdout",
       "text": [
        "(23, 6178)\n"
       ]
      }
     ],
     "prompt_number": 3
    },
    {
     "cell_type": "code",
     "collapsed": false,
     "input": [
      "#def plot_gene(gene_name='YBR265W'): # Test gene\n",
      "def plot_gene(gene_name='YER124C'): # Gene used in the paper\n",
      "    plt.plot(data['t'], data['Y'][gene_name], 'rx')\n",
      "    plt.title('Gene: ' + gene_name)\n",
      "    plt.xlabel('time/minutes')\n",
      "plot_gene('YER124C')\n",
      "#plot_gene('YBR265W')"
     ],
     "language": "python",
     "metadata": {},
     "outputs": [
      {
       "metadata": {},
       "output_type": "display_data",
       "png": "[encoded data removed]",
       "text": [
        "<matplotlib.figure.Figure at 0x7ff3af703510>"
       ]
      }
     ],
     "prompt_number": 4
    },
    {
     "cell_type": "code",
     "collapsed": false,
     "input": [
      "data = GPy.util.datasets.lee_yeast_ChIP()\n",
      "# set S to find relationships where p-value is less than 1e-3\n",
      "S = data['Y'].T<1e-3\n",
      "\n",
      "#print S.columns\n",
      "#S=S[:,0:5]\n",
      "#TF=transcription_Factors[0:7]"
     ],
     "language": "python",
     "metadata": {},
     "outputs": [],
     "prompt_number": 5
    },
    {
     "cell_type": "code",
     "collapsed": false,
     "input": [
      "intersect = list(set(S.columns) & set(Y.columns))\n",
      "# this is the new value for n\n",
      "print 'There are n=', len(intersect), 'overlapping genes.'\n",
      "# Now reset S and Y to have the overlap of genes\n",
      "Y = Y[intersect].T # now an n by T matrix\n",
      "S = S[intersect].T # now an n by q matrix\n",
      "#S=S[:,0:5]\n",
      "print S.shape"
     ],
     "language": "python",
     "metadata": {},
     "outputs": [
      {
       "output_type": "stream",
       "stream": "stdout",
       "text": [
        "There are n= 6099 overlapping genes.\n",
        "(6099, 113)\n"
       ]
      }
     ],
     "prompt_number": 6
    },
    {
     "cell_type": "code",
     "collapsed": false,
     "input": [
      "#print S.as_matrix(columns=None).shape\n",
      "Snew= S.as_matrix(columns=None)\n",
      "S = Snew.astype(int)\n",
      "#plt.imshow(S[0:113,:])\n",
      "S=S[:,0:10] # Select the number of transcription factor here\n",
      "S=S[:,0:10] # Select the number of transcription factor here\n",
      "#print S\n",
      "#plt.imshow(S[0:7,:])\n"
     ],
     "language": "python",
     "metadata": {},
     "outputs": [],
     "prompt_number": 7
    },
    {
     "cell_type": "code",
     "collapsed": false,
     "input": [
      "# step 1, find the SVD of S.\n",
      "n, q = S.shape\n",
      "T = Y.shape[1]\n",
      "R, Lambda1, V = np.linalg.svd(S)\n",
      "# Extract first q columns for Q\n",
      "Q = R[:, :q]\n",
      "# remaining columns for U\n",
      "U = R[:, q:]\n",
      "Lambda=np.zeros(q*q).reshape(q,q)\n",
      "for i in range(q):\n",
      "    Lambda[i,i]=Lambda1[i]\n"
     ],
     "language": "python",
     "metadata": {},
     "outputs": [],
     "prompt_number": 8
    },
    {
     "cell_type": "code",
     "collapsed": false,
     "input": [
      "Q.shape\n",
      "U.shape\n",
      "Y.shape"
     ],
     "language": "python",
     "metadata": {},
     "outputs": [
      {
       "metadata": {},
       "output_type": "pyout",
       "prompt_number": 9,
       "text": [
        "(6099, 23)"
       ]
      }
     ],
     "prompt_number": 9
    },
    {
     "cell_type": "code",
     "collapsed": false,
     "input": [
      "# Find sigma2 by looking at variance of y_u\n",
      "Y_u = np.dot(U.T, Y)\n",
      "sigma2 = 1./(T*(n-q))*(Y_u*Y_u).sum()\n",
      "print \"sigma2 found as\", sigma2\n"
     ],
     "language": "python",
     "metadata": {},
     "outputs": [
      {
       "output_type": "stream",
       "stream": "stdout",
       "text": [
        "sigma2 found as 0.184203509978\n"
       ]
      }
     ],
     "prompt_number": 10
    },
    {
     "cell_type": "code",
     "collapsed": false,
     "input": [
      "# Prepare the data for processing in GPy\n",
      "Y_q = np.dot(Q.T, Y) # project data onto the principal subspace of X \n",
      "\n",
      "# Generate the input associated with each Y, the TF and the time point.\n",
      "x0, x1 = np.asarray(np.meshgrid(t.flatten(),np.arange(q)))\n",
      "X = np.hstack([x0.flatten()[:, None], x1.flatten()[:, None]])\n",
      "np.save(\"temp/Xt.npy\",X)\n",
      "y = Y_q.flatten()[:, None]"
     ],
     "language": "python",
     "metadata": {},
     "outputs": [],
     "prompt_number": 11
    },
    {
     "cell_type": "code",
     "collapsed": false,
     "input": [
      "print y.shape, T,q\n",
      "#print m.Y.shape"
     ],
     "language": "python",
     "metadata": {},
     "outputs": [
      {
       "output_type": "stream",
       "stream": "stdout",
       "text": [
        "(230, 1) 23 10\n"
       ]
      }
     ],
     "prompt_number": 12
    },
    {
     "cell_type": "code",
     "collapsed": false,
     "input": [
      "kern = GPy.kern.RBF(1, active_dims=[0])*GPy.kern.Coregionalize(1,q,rank=q, active_dims=[1])\n",
      "#kern = GPy.kern.OU(1, active_dims=[0])*GPy.kern.Coregionalize(1,q,rank=5, active_dims=[1])\n",
      "m = GPy.models.GPRegression(X, y, kern)\n",
      "m.mul.rbf.lengthscale = 70\n",
      "m.Gaussian_noise.variance = sigma2\n",
      "#m.Gaussian_noise.variance.constrain_fixed()\n",
      "#()#kern, t, y_q)\n",
      "#m.sigma2 = constrained_fixed(sigma2)\n",
      "#m.optimize(messages=True)"
     ],
     "language": "python",
     "metadata": {},
     "outputs": [],
     "prompt_number": 13
    },
    {
     "cell_type": "code",
     "collapsed": false,
     "input": [
      "print m"
     ],
     "language": "python",
     "metadata": {},
     "outputs": [
      {
       "output_type": "stream",
       "stream": "stdout",
       "text": [
        "\n",
        "Name                 : GP regression\n",
        "Log-likelihood       : -326.391364637\n",
        "Number of Parameters : 113\n",
        "Updates              : True\n",
        "Parameters:\n",
        "  GP_regression.           |      Value       |  Constraint  |  Prior  |  Tied to\n",
        "  \u001b[1mmul.rbf.variance       \u001b[0;0m  |             1.0  |     +ve      |         |         \n",
        "  \u001b[1mmul.rbf.lengthscale    \u001b[0;0m  |            70.0  |     +ve      |         |         \n",
        "  \u001b[1mmul.coregion.W         \u001b[0;0m  |        (10, 10)  |              |         |         \n",
        "  \u001b[1mmul.coregion.kappa     \u001b[0;0m  |           (10,)  |     +ve      |         |         \n",
        "  \u001b[1mGaussian_noise.variance\u001b[0;0m  |  0.184203509978  |     +ve      |         |         \n"
       ]
      }
     ],
     "prompt_number": 14
    },
    {
     "cell_type": "code",
     "collapsed": false,
     "input": [
      "m.optimize(messages=True)"
     ],
     "language": "python",
     "metadata": {},
     "outputs": [
      {
       "output_type": "stream",
       "stream": "stdout",
       "text": [
        "Running L-BFGS-B (Scipy implementation) Code:\n",
        " secs      i      f              |g|        \n",
        "\r",
        " 0.00089  0000   3.263914e+02           nan"
       ]
      },
      {
       "output_type": "stream",
       "stream": "stdout",
       "text": [
        " \r",
        "  0.033  0001   3.263914e+02   1.601007e+04"
       ]
      },
      {
       "output_type": "stream",
       "stream": "stdout",
       "text": [
        " \r",
        "   0.12  0002   2.705955e+02   1.197242e+02"
       ]
      },
      {
       "output_type": "stream",
       "stream": "stdout",
       "text": [
        " \r",
        "   0.14  0003   2.696215e+02   9.444560e+01"
       ]
      },
      {
       "output_type": "stream",
       "stream": "stdout",
       "text": [
        " \r",
        "   0.16  0004   2.642603e+02   2.148570e+02"
       ]
      },
      {
       "output_type": "stream",
       "stream": "stdout",
       "text": [
        " \r",
        "   0.19  0005   2.601334e+02   3.522602e+02"
       ]
      },
      {
       "output_type": "stream",
       "stream": "stdout",
       "text": [
        " \r",
        "   0.22  0006   2.542837e+02   2.886988e+02"
       ]
      },
      {
       "output_type": "stream",
       "stream": "stdout",
       "text": [
        " \n",
        "\r",
        "   0.24  0007   2.471468e+02   3.028641e+01"
       ]
      },
      {
       "output_type": "stream",
       "stream": "stdout",
       "text": [
        " \r",
        "   0.26  0008   2.456437e+02   2.237011e+01"
       ]
      },
      {
       "output_type": "stream",
       "stream": "stdout",
       "text": [
        " \r",
        "   0.29  0009   2.450823e+02   3.430119e+01"
       ]
      },
      {
       "output_type": "stream",
       "stream": "stdout",
       "text": [
        " \r",
        "   0.31  0010   2.432692e+02   2.058706e+01"
       ]
      },
      {
       "output_type": "stream",
       "stream": "stdout",
       "text": [
        " \r",
        "   0.33  0011   2.415498e+02   9.276399e+00"
       ]
      },
      {
       "output_type": "stream",
       "stream": "stdout",
       "text": [
        " \r",
        "   0.35  0012   2.406063e+02   4.472993e-01"
       ]
      },
      {
       "output_type": "stream",
       "stream": "stdout",
       "text": [
        " \r",
        "   0.38  0013   2.401928e+02   4.263006e-01"
       ]
      },
      {
       "output_type": "stream",
       "stream": "stdout",
       "text": [
        " \r",
        "    0.4  0014   2.402032e+02   5.234975e+00"
       ]
      },
      {
       "output_type": "stream",
       "stream": "stdout",
       "text": [
        " \r",
        "   0.42  0015   2.397869e+02   1.523406e+00"
       ]
      },
      {
       "output_type": "stream",
       "stream": "stdout",
       "text": [
        " \r",
        "   0.44  0016   2.398553e+02   4.244051e+01"
       ]
      },
      {
       "output_type": "stream",
       "stream": "stdout",
       "text": [
        " \r",
        "   0.46  0017   2.396186e+02   1.278347e+01"
       ]
      },
      {
       "output_type": "stream",
       "stream": "stdout",
       "text": [
        " \r",
        "   0.49  0018   2.393298e+02   9.831319e-01"
       ]
      },
      {
       "output_type": "stream",
       "stream": "stdout",
       "text": [
        " \r",
        "   0.51  0019   2.391634e+02   9.760208e-01"
       ]
      },
      {
       "output_type": "stream",
       "stream": "stdout",
       "text": [
        " \r",
        "   0.53  0020   2.390582e+02   1.890458e+00"
       ]
      },
      {
       "output_type": "stream",
       "stream": "stdout",
       "text": [
        " \n",
        "\r",
        "   0.56  0021   2.388696e+02   7.741615e-01"
       ]
      },
      {
       "output_type": "stream",
       "stream": "stdout",
       "text": [
        " \r",
        "   0.58  0022   2.387032e+02   8.175970e-01"
       ]
      },
      {
       "output_type": "stream",
       "stream": "stdout",
       "text": [
        " \r",
        "    0.6  0023   2.385447e+02   1.151878e+00"
       ]
      },
      {
       "output_type": "stream",
       "stream": "stdout",
       "text": [
        " \r",
        "   0.62  0024   2.382012e+02   3.246382e+00"
       ]
      },
      {
       "output_type": "stream",
       "stream": "stdout",
       "text": [
        " \r",
        "   0.65  0025   2.373742e+02   6.986386e+00"
       ]
      },
      {
       "output_type": "stream",
       "stream": "stdout",
       "text": [
        " \r",
        "   0.67  0026   2.359021e+02   1.228299e+01"
       ]
      },
      {
       "output_type": "stream",
       "stream": "stdout",
       "text": [
        " \r",
        "    0.7  0027   2.357431e+02   3.591147e-01"
       ]
      },
      {
       "output_type": "stream",
       "stream": "stdout",
       "text": [
        " \r",
        "   0.72  0028   2.359150e+02   2.972961e+00"
       ]
      },
      {
       "output_type": "stream",
       "stream": "stdout",
       "text": [
        " \r",
        "   0.74  0029   2.357330e+02   5.193267e-02"
       ]
      },
      {
       "output_type": "stream",
       "stream": "stdout",
       "text": [
        " \r",
        "   0.76  0030   2.357281e+02   1.310195e-02"
       ]
      },
      {
       "output_type": "stream",
       "stream": "stdout",
       "text": [
        " \r",
        "   0.78  0031   2.357250e+02   4.440782e-02"
       ]
      },
      {
       "output_type": "stream",
       "stream": "stdout",
       "text": [
        " \r",
        "   0.81  0032   2.357133e+02   2.669798e-01"
       ]
      },
      {
       "output_type": "stream",
       "stream": "stdout",
       "text": [
        " \r",
        "   0.83  0033   2.356895e+02   7.491336e-01"
       ]
      },
      {
       "output_type": "stream",
       "stream": "stdout",
       "text": [
        " \r",
        "   0.85  0034   2.356196e+02   2.440814e+00"
       ]
      },
      {
       "output_type": "stream",
       "stream": "stdout",
       "text": [
        " \r",
        "   0.88  0035   2.354245e+02   6.656437e+00"
       ]
      },
      {
       "output_type": "stream",
       "stream": "stdout",
       "text": [
        " \r",
        "    0.9  0036   2.358171e+02   2.602573e+01"
       ]
      },
      {
       "output_type": "stream",
       "stream": "stdout",
       "text": [
        " \r",
        "   0.92  0037   2.349973e+02   1.635030e+01"
       ]
      },
      {
       "output_type": "stream",
       "stream": "stdout",
       "text": [
        " \r",
        "   0.94  0038   2.361936e+02           nan"
       ]
      },
      {
       "output_type": "stream",
       "stream": "stdout",
       "text": [
        " \r",
        "   0.96  0039   2.349973e+02   1.635030e+01"
       ]
      },
      {
       "output_type": "stream",
       "stream": "stdout",
       "text": [
        " \r",
        "   0.99  0040   2.349973e+02   1.635030e+01"
       ]
      },
      {
       "output_type": "stream",
       "stream": "stdout",
       "text": [
        "\n",
        "Optimization finished in 0.98511 Seconds\n",
        "\n"
       ]
      }
     ],
     "prompt_number": 15
    },
    {
     "cell_type": "code",
     "collapsed": false,
     "input": [
      "m.plot(fixed_inputs=[(1, 2)]) # this would plot ACE2.\n",
      "#print m"
     ],
     "language": "python",
     "metadata": {},
     "outputs": [
      {
       "metadata": {},
       "output_type": "pyout",
       "prompt_number": 16,
       "text": [
        "{'dataplot': [<matplotlib.lines.Line2D at 0x7ff3af1df690>],\n",
        " 'gpplot': [[<matplotlib.lines.Line2D at 0x7ff3af251250>],\n",
        "  [<matplotlib.patches.Polygon at 0x7ff3af2514d0>],\n",
        "  [<matplotlib.lines.Line2D at 0x7ff3af251ad0>],\n",
        "  [<matplotlib.lines.Line2D at 0x7ff3af1df050>]]}"
       ]
      },
      {
       "metadata": {},
       "output_type": "display_data",
       "png": "[encoded data removed]",
       "text": [
        "<matplotlib.figure.Figure at 0x7ff3af06b750>"
       ]
      }
     ],
     "prompt_number": 16
    },
    {
     "cell_type": "code",
     "collapsed": false,
     "input": [
      "m.plot(fixed_inputs=[(1, 2)]) # this would plot ACE2."
     ],
     "language": "python",
     "metadata": {},
     "outputs": [
      {
       "metadata": {},
       "output_type": "pyout",
       "prompt_number": 17,
       "text": [
        "{'dataplot': [<matplotlib.lines.Line2D at 0x7ff3af130910>],\n",
        " 'gpplot': [[<matplotlib.lines.Line2D at 0x7ff3af1214d0>],\n",
        "  [<matplotlib.patches.Polygon at 0x7ff3af121710>],\n",
        "  [<matplotlib.lines.Line2D at 0x7ff3af121d50>],\n",
        "  [<matplotlib.lines.Line2D at 0x7ff3af1302d0>]]}"
       ]
      },
      {
       "metadata": {},
       "output_type": "display_data",
       "png": "[encoded data removed]",
       "text": [
        "<matplotlib.figure.Figure at 0x7ff3af20b210>"
       ]
      }
     ],
     "prompt_number": 17
    },
    {
     "cell_type": "code",
     "collapsed": false,
     "input": [],
     "language": "python",
     "metadata": {},
     "outputs": [],
     "prompt_number": 17
    },
    {
     "cell_type": "code",
     "collapsed": false,
     "input": [
      "np.save(\"temp/V.npy\", V)\n",
      "np.save(\"temp/Lambda.npy\", Lambda)\n",
      "np.save(\"temp/Q.npy\", Q)\n",
      "print 'V:', V.shape\n",
      "print 'Lambda:', Lambda.shape\n",
      "print 'Q:', Q.shape"
     ],
     "language": "python",
     "metadata": {},
     "outputs": [
      {
       "output_type": "stream",
       "stream": "stdout",
       "text": [
        "V: (10, 10)\n",
        "Lambda: (10, 10)\n",
        "Q: (6099, 10)\n"
       ]
      }
     ],
     "prompt_number": 18
    },
    {
     "cell_type": "code",
     "collapsed": false,
     "input": [
      "si=np.dot(m.mul.coregion.W,m.mul.coregion.W.T)+np.diag(m.mul.coregion.kappa)\n",
      "#we have si , V, Lambda \n",
      "#np.save(\"/home/sura/GPy/TF/Si.npy\", si)\n",
      "np.save(\"temp/Si.npy\", si)\n",
      "print si.shape"
     ],
     "language": "python",
     "metadata": {},
     "outputs": [
      {
       "output_type": "stream",
       "stream": "stdout",
       "text": [
        "(10, 10)\n"
       ]
      }
     ],
     "prompt_number": 19
    },
    {
     "cell_type": "code",
     "collapsed": false,
     "input": [
      "\n",
      "import sys\n",
      "import warnings\n",
      "from GPy import kern\n",
      "from GPy.util.linalg import dtrtrs\n",
      "#from GPy.model import Model\n",
      "#from parameterization import ObsAr\n",
      "from GPy import likelihoods\n",
      "from GPy.util import diag\n",
      "from GPy.util.linalg import pdinv, dpotrs, tdot\n",
      "from GPy.util.linalg import pdinv, dpotrs, dpotri, symmetrify, jitchol\n",
      "from GPy.likelihoods.gaussian import Gaussian\n",
      "#from GPy.inference.latent_function_inference import exact_gaussian_inference, expectation_propagation, LatentFunctionInference\n",
      "#from parameterization.variational import VariationalPosterior\n",
      "#from GPy.plotting.matplot_dep.base_plots import x_frame1D\n",
      "#import Tango\n",
      "#from base_plots import gpplot, x_frame1D, x_frame2D\n",
      "from GPy.plotting.matplot_dep.base_plots import gpplot, x_frame1D, x_frame2D\n",
      "#from ...util.misc import param_to_array\n",
      "from GPy.util.misc import param_to_array\n",
      "#from ...models.gp_coregionalized_regression import GPCoregionalizedRegression\n",
      "from GPy.models.gp_coregionalized_regression import GPCoregionalizedRegression\n",
      "#from ...models.sparse_gp_coregionalized_regression import SparseGPCoregionalizedRegression\n",
      "from GPy.models.sparse_gp_coregionalized_regression import SparseGPCoregionalizedRegression"
     ],
     "language": "python",
     "metadata": {},
     "outputs": [],
     "prompt_number": 20
    },
    {
     "cell_type": "code",
     "collapsed": false,
     "input": [
      "X.shape\n",
      "G=np.zeros(200).reshape(200)\n",
      "print G.shape\n"
     ],
     "language": "python",
     "metadata": {},
     "outputs": [
      {
       "output_type": "stream",
       "stream": "stdout",
       "text": [
        "(200,)\n"
       ]
      }
     ],
     "prompt_number": 21
    },
    {
     "cell_type": "code",
     "collapsed": false,
     "input": [],
     "language": "python",
     "metadata": {},
     "outputs": [],
     "prompt_number": 21
    },
    {
     "cell_type": "code",
     "collapsed": false,
     "input": [
      "def _raw_predict_post(self, _Xnew, full_cov=False, kern=None):\n",
      "\n",
      "    YYT_factor = self.Y\n",
      "    \n",
      "    si=np.load(\"temp/Si.npy\")\n",
      "    Vv=np.load(\"temp/V.npy\")\n",
      "    Lambda=np.load(\"temp/Lambda.npy\")\n",
      "    Q=np.load(\"temp/Q.npy\")\n",
      "    t=np.load(\"temp/Xt.npy\")\n",
      "    t=t[:23,:2]\n",
      "    t[:,0]=self.X[0:23,0]\n",
      "    t[:,1]=_Xnew[0,1]\n",
      "    #t[:,2]=_Xnew[0,2]\n",
      "\n",
      "    #K1= self.kern.mul.rbf.K(t)#self.X)\n",
      "    \n",
      "    K1=self.mul.coregion.K(t)\n",
      "    #K1=self.mul.mul.coregion.K(t)\n",
      "    #print 'K.shape',K.shape  \n",
      "\n",
      "\n",
      "    #np.save(\"/Users/suraAlrashid/GPy/TF/K.npy\",K)\n",
      "\n",
      "\n",
      "    te=np.dot(np.dot(np.dot(Lambda,Vv.T), si),np.dot(Vv,Lambda))\n",
      "    K=np.kron(K1,te)\n",
      "    \n",
      "    #print 'te.shape:',te.shape\n",
      "\n",
      "    Ky = K.copy()\n",
      "    diag.add(Ky, self.likelihood.gaussian_variance(self.Y_metadata))\n",
      "    #print 'Ky.shape:', Ky.shape\n",
      "\n",
      "    _,LW,_,_ = pdinv(Ky)\n",
      "    #print 'LW.shape:', LW.shape\n",
      "    \n",
      "    YYT_factor=YYT_factor.reshape(YYT_factor.shape[0],1)\n",
      "\n",
      "    #print 'YYT_factor',YYT_factor.shape\n",
      "    alpha, _ = dpotrs(LW, YYT_factor, lower=1)\n",
      "\n",
      "\n",
      "    \"\"\"K = kern.K(X)\"\"\"\n",
      "    self.woodbury_chol=LW \n",
      "    self.woodbury_vector=alpha \n",
      "    self.woodbury_inv, _ = dpotri(self.woodbury_chol, lower=1)\n",
      "\n",
      "    symmetrify(self.woodbury_inv)\n",
      "\n",
      "    te1=si\n",
      "    te2=np.dot( si,np.dot(Vv,Lambda))\n",
      "    te3=np.dot(np.dot(Lambda,Vv.T), si)\n",
      "    te=np.dot(np.dot(np.dot(Lambda,Vv.T), si),np.dot(Vv,Lambda))\n",
      "\n",
      "\n",
      "    \"\"\"mu=self.posterior.mean(self.likelihood)\n",
      "    var=self.posterior.covariance(self.likelihood)\"\"\"\n",
      "\n",
      "    #Kx = self.kern.mul.rbf.K(t,_Xnew)\n",
      "    Kx=self.mul.coregion.K(t,_Xnew)\n",
      "    #Kx=self.mul.mul.coregion.K(t,_Xnew)\n",
      "    #print 'Kx',Kx\n",
      "\n",
      "    mu  = np.dot(np.kron(Kx.T,te2), self.woodbury_vector)\n",
      "    #mu  = np.dot(np.kron(K1,te2), self.woodbury_vector)\n",
      "   #print 'mu.',mu\n",
      "\n",
      "    #Kxx = self.kern.mul.rbf.K(_Xnew)\n",
      "    Kxx=self.mul.coregion.K(_Xnew)\n",
      "    #Kxx=self.mul.mul.coregion.K(_Xnew)\n",
      "    \n",
      "    var = np.atleast_3d(np.kron(Kxx,te1)) - np.tensordot(np.dot(np.atleast_3d(self.woodbury_inv).T, np.kron(Kx,te2)), np.kron(Kx,te3), [1,0]).T\n",
      "    #var = np.atleast_3d(np.kron(K1,te1)) - np.tensordot(np.dot(np.atleast_3d(self.woodbury_inv).T, np.kron(K1,te2)), np.kron(K1,te3), [1,0]).T\n",
      "\n",
      "    #print 'var',var.shape\n",
      "    #K = self.kern.mul.rbf.K(t)\n",
      "\n",
      "    #pb.figure()\n",
      "    #full_K = np.vstack([np.hstack([K, Kx]), np.hstack([Kx.T, Kxx])])\n",
      "\n",
      "    #pb.imshow(full_K)\n",
      "    #pb.colorbar\n",
      "    return mu, var\n",
      "\n"
     ],
     "language": "python",
     "metadata": {},
     "outputs": [],
     "prompt_number": 22
    },
    {
     "cell_type": "code",
     "collapsed": false,
     "input": [
      "def predict_post(self, Xnew, full_cov=False, Y_metadata=None, kern=None):\n",
      "    #predict the latent function values\n",
      "    mu, var = _raw_predict_post(self,Xnew, full_cov=full_cov, kern=kern)\n",
      "    #print mu.shape, var.shape\n",
      "    # now push through likelihood\n",
      "    mean, var = self.likelihood.predictive_values(mu, var, full_cov, Y_metadata)\n",
      "    return mean, var\n",
      "\n",
      "\n",
      "def predict_quantiles_post(self, X, quantiles=(2.5, 97.5), Y_metadata=None):\n",
      "    m, v = _raw_predict_post(self,X,  full_cov=False)\n",
      "    #print 'predict_quantiles_post, sura '\n",
      "    return self.likelihood.predictive_quantiles(m, v, quantiles, Y_metadata)\n"
     ],
     "language": "python",
     "metadata": {},
     "outputs": [],
     "prompt_number": 23
    },
    {
     "cell_type": "code",
     "collapsed": false,
     "input": [
      "\n",
      "def plot_postt(model, newfig=True,plot_limits=None, which_data_rows='all',\n",
      "        which_data_ycols='all', fixed_inputs=[],\n",
      "        levels=20, samples=0, fignum=None, ax=None, resolution=None,\n",
      "        plot_raw=False,\n",
      "        linecol='darkBlue',fillcol='lightBlue', Y_metadata=None, data_symbol='kx'):\n",
      "    #deal with optional arguments\n",
      "    if which_data_rows == 'all':\n",
      "        which_data_rows = slice(None)\n",
      "    if which_data_ycols == 'all':\n",
      "        which_data_ycols = np.arange(model.output_dim)\n",
      "    #if len(which_data_ycols)==0:\n",
      "        #raise ValueError('No data selected for plotting')\n",
      "    if ax is None:\n",
      "        if newfig:\n",
      "            fig = pb.figure(num=fignum)\n",
      "            ax = fig.add_subplot(111)\n",
      "        else :\n",
      "            \n",
      "            fig = pb.gcf()\n",
      "            ax = fig.add_subplot(111)\n",
      "\n",
      "    if hasattr(model, 'has_uncertain_inputs') and model.has_uncertain_inputs():\n",
      "        X = model.X.mean\n",
      "        X_variance = param_to_array(model.X.variance)\n",
      "    else:\n",
      "        X = model.X\n",
      "    X, Y = param_to_array(X, model.Y)\n",
      "    if hasattr(model, 'Z'): Z = param_to_array(model.Z)\n",
      "\n",
      "    #work out what the inputs are for plotting (1D or 2D)\n",
      "    fixed_dims = np.array([i for i,v in fixed_inputs])\n",
      "    free_dims = np.setdiff1d(np.arange(model.input_dim),fixed_dims)\n",
      "    plots = {}\n",
      "    #one dimensional plotting\n",
      "    #print len(free_dims)\n",
      "    if len(free_dims) == 1:\n",
      "\n",
      "        #define the frame on which to plot\n",
      "        \n",
      "        t=np.load(\"temp/Xt.npy\")\n",
      "        t=t[:23,:2]\n",
      "\n",
      "        Xnew, xmin, xmax = x_frame1D(X[:,free_dims], plot_limits=plot_limits, resolution=resolution or 200)\n",
      "        #print Xnew.shape,'XNew'\n",
      "        Xgrid = np.empty((Xnew.shape[0],model.input_dim))\n",
      "        Xgrid[:,free_dims] = Xnew\n",
      "        for i,vz in fixed_inputs:\n",
      "            Xgrid[:,i] = vz\n",
      "        #print 'Xgrid',Xgrid\n",
      "        #print 'xgrid',Xgrid.shape\n",
      "        #make a prediction on the frame and plot it\n",
      "        ii= [v for i,v in fixed_inputs]\n",
      "        ii =ii[0]\n",
      "        if plot_raw:\n",
      "            m, v = _raw_predict_post(model,Xgrid)\n",
      "            np.save(\"temp/m.npy\",m[200*ii:200*(ii+1), 0])\n",
      "           \n",
      "\n",
      "            lower = m - 2*np.sqrt(v)\n",
      "            upper = m + 2*np.sqrt(v)\n",
      "        else:\n",
      "            if isinstance(model,GPCoregionalizedRegression) or isinstance(model,SparseGPCoregionalizedRegression):\n",
      "                meta = {'output_index': Xgrid[:,-1:].astype(np.int)}\n",
      "            else:\n",
      "                meta = None\n",
      "            m, v = predict_post(model,Xgrid, full_cov=False, Y_metadata=meta)\n",
      "            #print 'meta',meta\n",
      "            lower, upper = predict_quantiles_post(model,Xgrid, Y_metadata=meta)\n",
      "\n",
      "            np.save(\"temp/m.npy\",m[200*ii:200*(ii+1), 0])\n",
      "            #print 'm[200*ii:200*(ii+1)',m[200*ii:200*(ii+1),0], ii\n",
      "            #rr=m[200*ii:200*(ii+1),0]-m[200*(ii+1):200*(ii+1+1),0]\n",
      "            #print rr\n",
      "        #print m.shape, Xnew.shape\n",
      "        #if not plot_raw: plots['dataplot'] = ax.plot(X[which_data_rows,free_dims], Y[which_data_rows, d], data_symbol, mew=1.5)\n",
      "        \n",
      "            # the end block\n",
      "        \n",
      "\n",
      "        \n",
      "        for d in which_data_ycols:\n",
      "            \n",
      "            #print 'm[:d]',m[:,d].shape, 'Xnew',Xnew.shape, 'lower[:,d] ,upper[: ,d]', lower[:,d].shape ,upper[: ,d].shape\n",
      "            plots['gpplot'] = gpplot(Xnew, m[200*ii:200*(ii+1), d], lower[200*ii:200*(ii+1), d], upper[200*ii:200*(ii+1), d], ax=ax, edgecol=linecol, fillcol=fillcol)\n",
      "            \n",
      "            \n",
      "            #print 'X[which_data_rows,free_dims]',X[which_data_rows,free_dims].shape,X[which_data_rows,free_dims]\n",
      "\n",
      "            #print 'Y[which_data_rows, d]',Y[which_data_rows, d].shape,Y[which_data_rows, d]\n",
      "\n",
      "            if fixed_inputs==[(1,0),(2,0)] :\n",
      "                \n",
      "                if not plot_raw: plots['dataplot'] =ax.plot(X[which_data_rows,free_dims], Y[which_data_rows, d], 'kx', color=linecol,mew=1,label=\" 129 Ntg\")\n",
      "            if fixed_inputs==[(1,0),(2,1)] :\n",
      "                if not plot_raw: plots['dataplot'] =ax.plot(X[which_data_rows,free_dims], Y[which_data_rows, d], 'kx', color=linecol,mew=1,label=\" 129 SOD1\")\n",
      "            if fixed_inputs==[(1,0),(2,2)]  :\n",
      "                if not plot_raw: plots['dataplot'] =ax.plot(X[which_data_rows,free_dims], Y[which_data_rows, d], 'kx', color=linecol,mew=1,label=\"C57 Ntg\")\n",
      "            if  fixed_inputs==[(1,0),(2,3)] :\n",
      "                if not plot_raw: plots['dataplot'] =ax.plot(X[which_data_rows,free_dims], Y[which_data_rows, d], 'kx', color=linecol,mew=1,label=\"C57 SOD1\") \n",
      "            else :\n",
      "                if not plot_raw: plots['dataplot'] =ax.plot(X[which_data_rows,free_dims], Y[which_data_rows, d], 'kx', color=linecol,mew=1) \n",
      "            \n",
      "        \n",
      "            ax.legend(bbox_to_anchor=(1,1.4)) \n",
      "        #optionally plot some samples\n",
      "        if samples: #NOTE not tested with fixed_inputs\n",
      "            Ysim = model.posterior_samples(Xgrid, samples)\n",
      "            for yi in Ysim.T:\n",
      "                plots['posterior_samples'] = ax.plot(Xnew, yi[:,None], Tango.colorsHex['darkBlue'], linewidth=0.25)\n",
      "                #ax.plot(Xnew, yi[:,None], marker='x', linestyle='--',color=Tango.colorsHex['darkBlue']) #TODO apply this line for discrete outputs.\n",
      "\n",
      "\n",
      "        #add error bars for uncertain (if input uncertainty is being modelled)\n",
      "        if hasattr(model,\"has_uncertain_inputs\") and model.has_uncertain_inputs():\n",
      "            plots['xerrorbar'] = ax.errorbar(X[which_data_rows, free_dims].flatten(), Y[which_data_rows, which_data_ycols].flatten(),\n",
      "                        xerr=2 * np.sqrt(X_variance[which_data_rows, free_dims].flatten()),\n",
      "                        ecolor='k', fmt=None, elinewidth=.5, alpha=.5)\n",
      "\n",
      "\n",
      "        #set the limits of the plot to some sensible values\n",
      "        ymin, ymax = min(np.append(Y[which_data_rows, which_data_ycols].flatten(), lower)), max(np.append(Y[which_data_rows, which_data_ycols].flatten(), upper))\n",
      "        ymin, ymax = ymin - 0.1 * (ymax - ymin), ymax + 0.1 * (ymax - ymin)\n",
      "        #print ymin,ymax\n",
      "        ax.set_xlim(xmin, xmax)\n",
      "        ax.set_ylim(-3,3)\n",
      "        #ax.set_ylim(ymin, ymax)\n",
      "\n",
      "        #add inducing inputs (if a sparse model is used)\n",
      "        if hasattr(model,\"Z\"):\n",
      "            #Zu = model.Z[:,free_dims] * model._Xscale[:,free_dims] + model._Xoffset[:,free_dims]\n",
      "            if isinstance(model,SparseGPCoregionalizedRegression):\n",
      "                Z = Z[Z[:,-1] == Y_metadata['output_index'],:]\n",
      "            Zu = Z[:,free_dims]\n",
      "            z_height = ax.get_ylim()[0]\n",
      "            plots['inducing_inputs'] = ax.plot(Zu, np.zeros_like(Zu) + z_height, 'r|', mew=1.5, markersize=12)\n",
      "    else:\n",
      "        raise NotImplementedError, \"Cannot define a frame with more than two input dimensions\"\n",
      "    return plots\n",
      "#\n"
     ],
     "language": "python",
     "metadata": {},
     "outputs": [],
     "prompt_number": 24
    },
    {
     "cell_type": "code",
     "collapsed": false,
     "input": [
      "for i in range(q):\n",
      "    plot_postt(m,fixed_inputs=[(1, i)],linecol='Red',which_data_rows=range(0,23*q))#,1)])\n",
      "    #plot_postt(m,fixed_inputs=[(1, 0),(2,i)],linecol='Red',which_data_rows=range(0,16*q))#,1)])\n",
      "    #plot_postt(m,fixed_inputs=[(1, 1),(2,i)],linecol='Blue',which_data_rows=range(16*q,32*q))#,newfig=False)   #,(1,0)])#,(1,0),(1,0),(1,0),(1,2)])\n",
      "    #plot_postt(m,fixed_inputs=[(1, 2),(2,i)],linecol='Green',which_data_rows=range(32*q,48*q))#,newfig=False)   #,(1,0)])#,(1,0),(1,0),(1,0),(1,3)])\n",
      "    #plot_postt(m,fixed_inputs=[(1, 3),(2,i)],linecol='Yellow',which_data_rows=range(48*q,64*q))#,newfig=False) #,(1,0)])#,(1,0),(1,0),(1,0),(1,4)])\n",
      "       \n",
      "    mm=np.load(\"temp/m.npy\")\n",
      "    mm.reshape(-1,1)\n",
      "    \n",
      "    G= np.hstack((G,mm))\n",
      "    "
     ],
     "language": "python",
     "metadata": {},
     "outputs": [
      {
       "output_type": "stream",
       "stream": "stderr",
       "text": [
        " /usr/lib/pymodules/python2.7/matplotlib/axes.py:4747: UserWarning:No labeled objects found. Use label='...' kwarg on individual plots.\n"
       ]
      },
      {
       "metadata": {},
       "output_type": "display_data",
       "png": "[encoded data removed]",
       "text": [
        "<matplotlib.figure.Figure at 0x7ff3af145910>"
       ]
      },
      {
       "metadata": {},
       "output_type": "display_data",
       "png": "[encoded data removed]",
       "text": [
        "<matplotlib.figure.Figure at 0x7ff3ae1dffd0>"
       ]
      },
      {
       "metadata": {},
       "output_type": "display_data",
       "png": "[encoded data removed]",
       "text": [
        "<matplotlib.figure.Figure at 0x7ff3ae067c90>"
       ]
      },
      {
       "metadata": {},
       "output_type": "display_data",
       "png": "[encoded data removed]",
       "text": [
        "<matplotlib.figure.Figure at 0x7ff3ae0959d0>"
       ]
      },
      {
       "metadata": {},
       "output_type": "display_data",
       "png": "[encoded data removed]",
       "text": [
        "<matplotlib.figure.Figure at 0x7ff3adf10fd0>"
       ]
      },
      {
       "metadata": {},
       "output_type": "display_data",
       "png": "[encoded data removed]",
       "text": [
        "<matplotlib.figure.Figure at 0x7ff3ade98e90>"
       ]
      },
      {
       "metadata": {},
       "output_type": "display_data",
       "png": "[encoded data removed]",
       "text": [
        "<matplotlib.figure.Figure at 0x7ff3ade453d0>"
       ]
      },
      {
       "metadata": {},
       "output_type": "display_data",
       "png": "[encoded data removed]",
       "text": [
        "<matplotlib.figure.Figure at 0x7ff3add4ae50>"
       ]
      },
      {
       "metadata": {},
       "output_type": "display_data",
       "png": "[encoded data removed]",
       "text": [
        "<matplotlib.figure.Figure at 0x7ff3adcebe50>"
       ]
      },
      {
       "metadata": {},
       "output_type": "display_data",
       "png": "[encoded data removed]",
       "text": [
        "<matplotlib.figure.Figure at 0x7ff3adc6b710>"
       ]
      }
     ],
     "prompt_number": 25
    },
    {
     "cell_type": "code",
     "collapsed": false,
     "input": [
      "print G"
     ],
     "language": "python",
     "metadata": {},
     "outputs": [
      {
       "output_type": "stream",
       "stream": "stdout",
       "text": [
        "[ 0.          0.          0.         ..., -0.05867399 -0.02432315\n",
        "  0.0258843 ]\n"
       ]
      }
     ],
     "prompt_number": 26
    },
    {
     "cell_type": "code",
     "collapsed": false,
     "input": [
      "G.shape"
     ],
     "language": "python",
     "metadata": {},
     "outputs": [
      {
       "metadata": {},
       "output_type": "pyout",
       "prompt_number": 27,
       "text": [
        "(2200,)"
       ]
      }
     ],
     "prompt_number": 27
    },
    {
     "cell_type": "code",
     "collapsed": false,
     "input": [
      "plt.plot(G[1580:1600])"
     ],
     "language": "python",
     "metadata": {},
     "outputs": [
      {
       "metadata": {},
       "output_type": "pyout",
       "prompt_number": 28,
       "text": [
        "[<matplotlib.lines.Line2D at 0x7ff3ada5a150>]"
       ]
      },
      {
       "metadata": {},
       "output_type": "display_data",
       "png": "[encoded data removed]",
       "text": [
        "<matplotlib.figure.Figure at 0x7ff3af21c110>"
       ]
      }
     ],
     "prompt_number": 28
    },
    {
     "cell_type": "code",
     "collapsed": false,
     "input": [],
     "language": "python",
     "metadata": {},
     "outputs": [],
     "prompt_number": 28
    }
   ],
   "metadata": {}
  }
 ]
}