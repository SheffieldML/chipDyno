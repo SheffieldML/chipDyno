{
 "metadata": {
  "name": "",
  "signature": "sha256:cb0727f0f69b640a8e6785573e85e5b6182a46c68271a9cd53834f44446661a9"
 },
 "nbformat": 3,
 "nbformat_minor": 0,
 "worksheets": []
}