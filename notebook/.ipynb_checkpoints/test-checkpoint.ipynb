{
 "metadata": {
  "name": "",
  "signature": "sha256:dafe20c093941099df29d7a06fa1c8ed7da772d014110b9c96fa8574a7aff09d"
 },
 "nbformat": 3,
 "nbformat_minor": 0,
 "worksheets": [
  {
   "cells": [
    {
     "cell_type": "code",
     "collapsed": false,
     "input": [
      "import pickle\n",
      "\n",
      "f = open('store.pckl')\n",
      "object = pickle.load(f)\n",
      "f.close()"
     ],
     "language": "python",
     "metadata": {},
     "outputs": []
    }
   ],
   "metadata": {}
  }
 ]
}