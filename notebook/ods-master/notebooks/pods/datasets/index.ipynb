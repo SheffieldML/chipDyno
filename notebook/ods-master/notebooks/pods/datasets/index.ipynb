{
 "metadata": {
  "name": "",
  "signature": "sha256:1e90e760f4031a4f06b84ce2255831364e3f72ce03fa6c0490ae593345cedd5c"
 },
 "nbformat": 3,
 "nbformat_minor": 0,
 "worksheets": [
  {
   "cells": [
    {
     "cell_type": "markdown",
     "metadata": {},
     "source": [
      "# Description of Datasets Available in GPy\n",
      "\n",
      "## Open Data Science Initiative\n",
      "\n",
      "### 4th June 2014 Neil D. Lawrence\n",
      "\n",
      "The GPy toolbox provides easy access to various data sets. The data sets are accessed through calls to the `GPy.util.datasets` module. This module contains functions which download and preprocess the data for you, presenting it in a dictionary with a standard format for use in `GPy`. On download you will also be informed of any licensing restrictions and relevant citations for the data. The data is then cached on your local drive. \n",
      "\n",
      "Here are some descriptions of the data sets in different notebooks.\n",
      "\n",
      "### Count Data\n",
      "* [`pods.datasets.google_trends()`](./googleTrendsData.ipynb) download data from Google trends. Based on an original [notebook](https://github.com/sahuguet/notebooks/blob/master/GoogleTrends%20meet%20Notebook.ipynb) by [sahuguet](https://github.com/sahuguet).\n",
      "\n",
      "### Regression Data\n",
      "* [`pods.datasets.mauna_loa()`](./maunaLoaData.ipynb) download the latest version of the Mauna Loa data set. This is data giving carbon dioxide concentrations from the Mauna Loa observatory in Hawaii.\n",
      "\n",
      "### Other Data\n",
      "\n",
      "* [`pods.datasets.spellman_yeast()`](./spellmanYeastData.ipynb) download the yeast cell cycle gene expression data set from [Spellman et al (1998)](http://www.molbiolcell.org/content/9/12/3273.full).\n",
      "* [`pods.datasets.lee_yeast()`](./leeYeastChip.ipynb) download the yeast connectivity data from [Lee et al (2002)](http://www.sciencemag.org/content/298/5594/799).\n",
      "* [`pods.datasets.ceres()`](./ceres.ipynb) celestial observations of the dwarf planet Ceres by Giuseppe Piazzi.\n",
      "\n",
      "### Adding a Data Set\n",
      "\n",
      "* [Adding a Data Set](./addingDataSet.ipynb) Overview of how to add a new data set to GPy.\n"
     ]
    },
    {
     "cell_type": "code",
     "collapsed": false,
     "input": [],
     "language": "python",
     "metadata": {},
     "outputs": []
    }
   ],
   "metadata": {}
  }
 ]
}