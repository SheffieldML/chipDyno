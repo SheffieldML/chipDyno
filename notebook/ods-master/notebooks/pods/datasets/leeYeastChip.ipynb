{
 "metadata": {
  "name": "",
  "signature": "sha256:6452a928d00c19fd63cd5e19326fe146bba427936adcfd1633fe59534f438d60"
 },
 "nbformat": 3,
 "nbformat_minor": 0,
 "worksheets": [
  {
   "cells": [
    {
     "cell_type": "markdown",
     "metadata": {},
     "source": [
      "# Datasets: The Lee Yeast Connectivity Data\n",
      "\n",
      "## Open Data Science Initiative\n",
      "\n",
      "### 29th May 2014 Neil D. Lawrence"
     ]
    },
    {
     "cell_type": "markdown",
     "metadata": {},
     "source": [
      "This data set collection is from an early publication on [Chromatin immunoprecipitation](http://en.wikipedia.org/wiki/Chromatin_immunoprecipitation) experiments to determine which transcription factors bind to which genes in yeast [Lee et al (2002)](http://www.sciencemag.org/content/298/5594/799)."
     ]
    },
    {
     "cell_type": "code",
     "collapsed": false,
     "input": [
      "import pods\n",
      "import pylab as plt\n",
      "%matplotlib inline"
     ],
     "language": "python",
     "metadata": {},
     "outputs": [],
     "prompt_number": 1
    },
    {
     "cell_type": "code",
     "collapsed": false,
     "input": [
      "data = pods.datasets.lee_yeast_ChIP()"
     ],
     "language": "python",
     "metadata": {},
     "outputs": [
      {
       "output_type": "stream",
       "stream": "stdout",
       "text": [
        "Acquiring resource: lee_yeast_ChIP\n",
        "\n",
        "Details of data: \n",
        "Binding location analysis for 106 regulators in yeast. The data consists of p-values for binding of regulators to genes derived from ChIP-chip experiments.\n",
        "\n",
        "Please cite:\n",
        "Tong Ihn Lee, Nicola J. Rinaldi, Francois Robert, Duncan T. Odom, Ziv Bar-Joseph, Georg K. Gerber, Nancy M. Hannett, Christopher T. Harbison, Craig M. Thompson, Itamar Simon, Julia Zeitlinger, Ezra G. Jennings, Heather L. Murray, D. Benjamin Gordon, Bing Ren, John J. Wyrick, Jean-Bosco Tagne, Thomas L. Volkert, Ernest Fraenkel, David K. Gifford, Richard A. Young 'Transcriptional Regulatory Networks in Saccharomyces cerevisiae' Science 298 (5594) pg 799--804. DOI: 10.1126/science.1075090\n",
        "\n",
        "After downloading the data will take up 1674161 bytes of space.\n",
        "\n",
        "Data will be stored in /Users/neill/ods_data_cache/lee_yeast_ChIP.\n",
        "\n",
        "Do you wish to proceed with the download? [yes/no]\n"
       ]
      },
      {
       "name": "stdout",
       "output_type": "stream",
       "stream": "stdout",
       "text": [
        "yes\n"
       ]
      },
      {
       "output_type": "stream",
       "stream": "stdout",
       "text": [
        "binding_by_gene.tsv\n",
        "Downloading  http://jura.wi.mit.edu/young_public/regulatory_network/binding_by_gene.tsv -> /Users/neill/ods_data_cache/lee_yeast_ChIP/binding_by_gene.tsv\n",
        "\r"
       ]
      },
      {
       "output_type": "stream",
       "stream": "stdout",
       "text": [
        "[                              ]   0.008/9.047MB"
       ]
      },
      {
       "output_type": "stream",
       "stream": "stdout",
       "text": [
        "                                                \r",
        "[                              ]   0.016/9.047MB"
       ]
      },
      {
       "output_type": "stream",
       "stream": "stdout",
       "text": [
        "                                                \r",
        "[                              ]   0.023/9.047MB"
       ]
      },
      {
       "output_type": "stream",
       "stream": "stdout",
       "text": [
        "                                                \r",
        "[                              ]   0.031/9.047MB"
       ]
      },
      {
       "output_type": "stream",
       "stream": "stdout",
       "text": [
        "                                                \r",
        "[                              ]   0.039/9.047MB"
       ]
      },
      {
       "output_type": "stream",
       "stream": "stdout",
       "text": [
        "                                                \r",
        "[                              ]   0.047/9.047MB"
       ]
      },
      {
       "output_type": "stream",
       "stream": "stdout",
       "text": [
        "                                                \r",
        "[                              ]   0.055/9.047MB"
       ]
      },
      {
       "output_type": "stream",
       "stream": "stdout",
       "text": [
        "                                                \r",
        "[                              ]   0.062/9.047MB"
       ]
      },
      {
       "output_type": "stream",
       "stream": "stdout",
       "text": [
        "                                                \r",
        "[                              ]   0.070/9.047MB"
       ]
      },
      {
       "output_type": "stream",
       "stream": "stdout",
       "text": [
        "                                                \r",
        "[                              ]   0.078/9.047MB"
       ]
      },
      {
       "output_type": "stream",
       "stream": "stdout",
       "text": [
        "                                                \r",
        "[                              ]   0.086/9.047MB"
       ]
      },
      {
       "output_type": "stream",
       "stream": "stdout",
       "text": [
        "                                                \r",
        "[                              ]   0.094/9.047MB"
       ]
      },
      {
       "output_type": "stream",
       "stream": "stdout",
       "text": [
        "                                                \r",
        "[                              ]   0.102/9.047MB"
       ]
      },
      {
       "output_type": "stream",
       "stream": "stdout",
       "text": [
        "                                                \r",
        "[                              ]   0.109/9.047MB"
       ]
      },
      {
       "output_type": "stream",
       "stream": "stdout",
       "text": [
        "                                                \r",
        "[                              ]   0.117/9.047MB"
       ]
      },
      {
       "output_type": "stream",
       "stream": "stdout",
       "text": [
        "                                                \r",
        "[                              ]   0.125/9.047MB"
       ]
      },
      {
       "output_type": "stream",
       "stream": "stdout",
       "text": [
        "                                                \r",
        "[                              ]   0.133/9.047MB"
       ]
      },
      {
       "output_type": "stream",
       "stream": "stdout",
       "text": [
        "                                                \r",
        "[                              ]   0.141/9.047MB"
       ]
      },
      {
       "output_type": "stream",
       "stream": "stdout",
       "text": [
        "                                                \r",
        "[                              ]   0.148/9.047MB"
       ]
      },
      {
       "output_type": "stream",
       "stream": "stdout",
       "text": [
        "                                                \r",
        "[                              ]   0.156/9.047MB"
       ]
      },
      {
       "output_type": "stream",
       "stream": "stdout",
       "text": [
        "                                                \r",
        "[                              ]   0.164/9.047MB"
       ]
      },
      {
       "output_type": "stream",
       "stream": "stdout",
       "text": [
        "                                                \r",
        "[                              ]   0.172/9.047MB"
       ]
      },
      {
       "output_type": "stream",
       "stream": "stdout",
       "text": [
        "                                                \r",
        "[                              ]   0.180/9.047MB"
       ]
      },
      {
       "output_type": "stream",
       "stream": "stdout",
       "text": [
        "                                                \r",
        "[                              ]   0.188/9.047MB"
       ]
      },
      {
       "output_type": "stream",
       "stream": "stdout",
       "text": [
        "                                                \r",
        "[                              ]   0.195/9.047MB"
       ]
      },
      {
       "output_type": "stream",
       "stream": "stdout",
       "text": [
        "                                                \r",
        "[                              ]   0.203/9.047MB"
       ]
      },
      {
       "output_type": "stream",
       "stream": "stdout",
       "text": [
        "                                                \r",
        "[                              ]   0.211/9.047MB"
       ]
      },
      {
       "output_type": "stream",
       "stream": "stdout",
       "text": [
        "                                                \r",
        "[                              ]   0.219/9.047MB"
       ]
      },
      {
       "output_type": "stream",
       "stream": "stdout",
       "text": [
        "                                                \r",
        "[                              ]   0.227/9.047MB"
       ]
      },
      {
       "output_type": "stream",
       "stream": "stdout",
       "text": [
        "                                                \r",
        "[                              ]   0.234/9.047MB"
       ]
      },
      {
       "output_type": "stream",
       "stream": "stdout",
       "text": [
        "                                                \r",
        "[                              ]   0.242/9.047MB"
       ]
      },
      {
       "output_type": "stream",
       "stream": "stdout",
       "text": [
        "                                                \r",
        "[                              ]   0.250/9.047MB"
       ]
      },
      {
       "output_type": "stream",
       "stream": "stdout",
       "text": [
        "                                                \r",
        "[                              ]   0.258/9.047MB"
       ]
      },
      {
       "output_type": "stream",
       "stream": "stdout",
       "text": [
        "                                                \r",
        "[                              ]   0.266/9.047MB"
       ]
      },
      {
       "output_type": "stream",
       "stream": "stdout",
       "text": [
        "                                                \r",
        "[                              ]   0.273/9.047MB"
       ]
      },
      {
       "output_type": "stream",
       "stream": "stdout",
       "text": [
        "                                                \r",
        "[                              ]   0.281/9.047MB"
       ]
      },
      {
       "output_type": "stream",
       "stream": "stdout",
       "text": [
        "                                                \r",
        "[                              ]   0.289/9.047MB"
       ]
      },
      {
       "output_type": "stream",
       "stream": "stdout",
       "text": [
        "                                                \r",
        "[                              ]   0.297/9.047MB"
       ]
      },
      {
       "output_type": "stream",
       "stream": "stdout",
       "text": [
        "                                                \r",
        "[=                             ]   0.305/9.047MB"
       ]
      },
      {
       "output_type": "stream",
       "stream": "stdout",
       "text": [
        "                                                \r",
        "[=                             ]   0.312/9.047MB"
       ]
      },
      {
       "output_type": "stream",
       "stream": "stdout",
       "text": [
        "                                                \r",
        "[=                             ]   0.320/9.047MB"
       ]
      },
      {
       "output_type": "stream",
       "stream": "stdout",
       "text": [
        "                                                \r",
        "[=                             ]   0.328/9.047MB"
       ]
      },
      {
       "output_type": "stream",
       "stream": "stdout",
       "text": [
        "                                                \r",
        "[=                             ]   0.336/9.047MB"
       ]
      },
      {
       "output_type": "stream",
       "stream": "stdout",
       "text": [
        "                                                \r",
        "[=                             ]   0.344/9.047MB"
       ]
      },
      {
       "output_type": "stream",
       "stream": "stdout",
       "text": [
        "                                                \r",
        "[=                             ]   0.352/9.047MB"
       ]
      },
      {
       "output_type": "stream",
       "stream": "stdout",
       "text": [
        "                                                \r",
        "[=                             ]   0.359/9.047MB"
       ]
      },
      {
       "output_type": "stream",
       "stream": "stdout",
       "text": [
        "                                                \r",
        "[=                             ]   0.367/9.047MB"
       ]
      },
      {
       "output_type": "stream",
       "stream": "stdout",
       "text": [
        "                                                \r",
        "[=                             ]   0.375/9.047MB"
       ]
      },
      {
       "output_type": "stream",
       "stream": "stdout",
       "text": [
        "                                                \r",
        "[=                             ]   0.383/9.047MB"
       ]
      },
      {
       "output_type": "stream",
       "stream": "stdout",
       "text": [
        "                                                \r",
        "[=                             ]   0.391/9.047MB"
       ]
      },
      {
       "output_type": "stream",
       "stream": "stdout",
       "text": [
        "                                                \r",
        "[=                             ]   0.398/9.047MB"
       ]
      },
      {
       "output_type": "stream",
       "stream": "stdout",
       "text": [
        "                                                \r",
        "[=                             ]   0.406/9.047MB"
       ]
      },
      {
       "output_type": "stream",
       "stream": "stdout",
       "text": [
        "                                                \r",
        "[=                             ]   0.414/9.047MB"
       ]
      },
      {
       "output_type": "stream",
       "stream": "stdout",
       "text": [
        "                                                \r",
        "[=                             ]   0.422/9.047MB"
       ]
      },
      {
       "output_type": "stream",
       "stream": "stdout",
       "text": [
        "                                                \r",
        "[=                             ]   0.430/9.047MB"
       ]
      },
      {
       "output_type": "stream",
       "stream": "stdout",
       "text": [
        "                                                \r",
        "[=                             ]   0.438/9.047MB"
       ]
      },
      {
       "output_type": "stream",
       "stream": "stdout",
       "text": [
        "                                                \r",
        "[=                             ]   0.445/9.047MB"
       ]
      },
      {
       "output_type": "stream",
       "stream": "stdout",
       "text": [
        "                                                \r",
        "[=                             ]   0.453/9.047MB"
       ]
      },
      {
       "output_type": "stream",
       "stream": "stdout",
       "text": [
        "                                                \r",
        "[=                             ]   0.461/9.047MB"
       ]
      },
      {
       "output_type": "stream",
       "stream": "stdout",
       "text": [
        "                                                \r",
        "[=                             ]   0.469/9.047MB"
       ]
      },
      {
       "output_type": "stream",
       "stream": "stdout",
       "text": [
        "                                                \r",
        "[=                             ]   0.477/9.047MB"
       ]
      },
      {
       "output_type": "stream",
       "stream": "stdout",
       "text": [
        "                                                \r",
        "[=                             ]   0.484/9.047MB"
       ]
      },
      {
       "output_type": "stream",
       "stream": "stdout",
       "text": [
        "                                                \r",
        "[=                             ]   0.492/9.047MB"
       ]
      },
      {
       "output_type": "stream",
       "stream": "stdout",
       "text": [
        "                                                \r",
        "[=                             ]   0.500/9.047MB"
       ]
      },
      {
       "output_type": "stream",
       "stream": "stdout",
       "text": [
        "                                                \r",
        "[=                             ]   0.508/9.047MB"
       ]
      },
      {
       "output_type": "stream",
       "stream": "stdout",
       "text": [
        "                                                \r",
        "[=                             ]   0.516/9.047MB"
       ]
      },
      {
       "output_type": "stream",
       "stream": "stdout",
       "text": [
        "                                                \r",
        "[=                             ]   0.523/9.047MB"
       ]
      },
      {
       "output_type": "stream",
       "stream": "stdout",
       "text": [
        "                                                \r",
        "[=                             ]   0.531/9.047MB"
       ]
      },
      {
       "output_type": "stream",
       "stream": "stdout",
       "text": [
        "                                                \r",
        "[=                             ]   0.539/9.047MB"
       ]
      },
      {
       "output_type": "stream",
       "stream": "stdout",
       "text": [
        "                                                \r",
        "[=                             ]   0.547/9.047MB"
       ]
      },
      {
       "output_type": "stream",
       "stream": "stdout",
       "text": [
        "                                                \r",
        "[=                             ]   0.555/9.047MB"
       ]
      },
      {
       "output_type": "stream",
       "stream": "stdout",
       "text": [
        "                                                \r",
        "[=                             ]   0.562/9.047MB"
       ]
      },
      {
       "output_type": "stream",
       "stream": "stdout",
       "text": [
        "                                                \r",
        "[=                             ]   0.570/9.047MB"
       ]
      },
      {
       "output_type": "stream",
       "stream": "stdout",
       "text": [
        "                                                \r",
        "[=                             ]   0.578/9.047MB"
       ]
      },
      {
       "output_type": "stream",
       "stream": "stdout",
       "text": [
        "                                                \r",
        "[=                             ]   0.586/9.047MB"
       ]
      },
      {
       "output_type": "stream",
       "stream": "stdout",
       "text": [
        "                                                \r",
        "[=                             ]   0.594/9.047MB"
       ]
      },
      {
       "output_type": "stream",
       "stream": "stdout",
       "text": [
        "                                                \r",
        "[=                             ]   0.602/9.047MB"
       ]
      },
      {
       "output_type": "stream",
       "stream": "stdout",
       "text": [
        "                                                \r",
        "[==                            ]   0.609/9.047MB"
       ]
      },
      {
       "output_type": "stream",
       "stream": "stdout",
       "text": [
        "                                                \r",
        "[==                            ]   0.617/9.047MB"
       ]
      },
      {
       "output_type": "stream",
       "stream": "stdout",
       "text": [
        "                                                \r",
        "[==                            ]   0.625/9.047MB"
       ]
      },
      {
       "output_type": "stream",
       "stream": "stdout",
       "text": [
        "                                                \r",
        "[==                            ]   0.633/9.047MB"
       ]
      },
      {
       "output_type": "stream",
       "stream": "stdout",
       "text": [
        "                                                \r",
        "[==                            ]   0.641/9.047MB"
       ]
      },
      {
       "output_type": "stream",
       "stream": "stdout",
       "text": [
        "                                                \r",
        "[==                            ]   0.648/9.047MB"
       ]
      },
      {
       "output_type": "stream",
       "stream": "stdout",
       "text": [
        "                                                \r",
        "[==                            ]   0.656/9.047MB"
       ]
      },
      {
       "output_type": "stream",
       "stream": "stdout",
       "text": [
        "                                                \r",
        "[==                            ]   0.664/9.047MB"
       ]
      },
      {
       "output_type": "stream",
       "stream": "stdout",
       "text": [
        "                                                \r",
        "[==                            ]   0.672/9.047MB"
       ]
      },
      {
       "output_type": "stream",
       "stream": "stdout",
       "text": [
        "                                                \r",
        "[==                            ]   0.680/9.047MB"
       ]
      },
      {
       "output_type": "stream",
       "stream": "stdout",
       "text": [
        "                                                \r",
        "[==                            ]   0.688/9.047MB"
       ]
      },
      {
       "output_type": "stream",
       "stream": "stdout",
       "text": [
        "                                                \r",
        "[==                            ]   0.695/9.047MB"
       ]
      },
      {
       "output_type": "stream",
       "stream": "stdout",
       "text": [
        "                                                \r",
        "[==                            ]   0.703/9.047MB"
       ]
      },
      {
       "output_type": "stream",
       "stream": "stdout",
       "text": [
        "                                                \r",
        "[==                            ]   0.711/9.047MB"
       ]
      },
      {
       "output_type": "stream",
       "stream": "stdout",
       "text": [
        "                                                \r",
        "[==                            ]   0.719/9.047MB"
       ]
      },
      {
       "output_type": "stream",
       "stream": "stdout",
       "text": [
        "                                                \r",
        "[==                            ]   0.727/9.047MB"
       ]
      },
      {
       "output_type": "stream",
       "stream": "stdout",
       "text": [
        "                                                \r",
        "[==                            ]   0.734/9.047MB"
       ]
      },
      {
       "output_type": "stream",
       "stream": "stdout",
       "text": [
        "                                                \r",
        "[==                            ]   0.742/9.047MB"
       ]
      },
      {
       "output_type": "stream",
       "stream": "stdout",
       "text": [
        "                                                \r",
        "[==                            ]   0.750/9.047MB"
       ]
      },
      {
       "output_type": "stream",
       "stream": "stdout",
       "text": [
        "                                                \r",
        "[==                            ]   0.758/9.047MB"
       ]
      },
      {
       "output_type": "stream",
       "stream": "stdout",
       "text": [
        "                                                \r",
        "[==                            ]   0.766/9.047MB"
       ]
      },
      {
       "output_type": "stream",
       "stream": "stdout",
       "text": [
        "                                                \r",
        "[==                            ]   0.773/9.047MB"
       ]
      },
      {
       "output_type": "stream",
       "stream": "stdout",
       "text": [
        "                                                \r",
        "[==                            ]   0.781/9.047MB"
       ]
      },
      {
       "output_type": "stream",
       "stream": "stdout",
       "text": [
        "                                                \r",
        "[==                            ]   0.789/9.047MB"
       ]
      },
      {
       "output_type": "stream",
       "stream": "stdout",
       "text": [
        "                                                \r",
        "[==                            ]   0.797/9.047MB"
       ]
      },
      {
       "output_type": "stream",
       "stream": "stdout",
       "text": [
        "                                                \r",
        "[==                            ]   0.805/9.047MB"
       ]
      },
      {
       "output_type": "stream",
       "stream": "stdout",
       "text": [
        "                                                \r",
        "[==                            ]   0.812/9.047MB"
       ]
      },
      {
       "output_type": "stream",
       "stream": "stdout",
       "text": [
        "                                                \r",
        "[==                            ]   0.820/9.047MB"
       ]
      },
      {
       "output_type": "stream",
       "stream": "stdout",
       "text": [
        "                                                \r",
        "[==                            ]   0.828/9.047MB"
       ]
      },
      {
       "output_type": "stream",
       "stream": "stdout",
       "text": [
        "                                                \r",
        "[==                            ]   0.836/9.047MB"
       ]
      },
      {
       "output_type": "stream",
       "stream": "stdout",
       "text": [
        "                                                \r",
        "[==                            ]   0.844/9.047MB"
       ]
      },
      {
       "output_type": "stream",
       "stream": "stdout",
       "text": [
        "                                                \r",
        "[==                            ]   0.852/9.047MB"
       ]
      },
      {
       "output_type": "stream",
       "stream": "stdout",
       "text": [
        "                                                \r",
        "[==                            ]   0.859/9.047MB"
       ]
      },
      {
       "output_type": "stream",
       "stream": "stdout",
       "text": [
        "                                                \r",
        "[==                            ]   0.867/9.047MB"
       ]
      },
      {
       "output_type": "stream",
       "stream": "stdout",
       "text": [
        "                                                \r",
        "[==                            ]   0.875/9.047MB"
       ]
      },
      {
       "output_type": "stream",
       "stream": "stdout",
       "text": [
        "                                                \r",
        "[==                            ]   0.883/9.047MB"
       ]
      },
      {
       "output_type": "stream",
       "stream": "stdout",
       "text": [
        "                                                \r",
        "[==                            ]   0.891/9.047MB"
       ]
      },
      {
       "output_type": "stream",
       "stream": "stdout",
       "text": [
        "                                                \r",
        "[==                            ]   0.898/9.047MB"
       ]
      },
      {
       "output_type": "stream",
       "stream": "stdout",
       "text": [
        "                                                \r",
        "[===                           ]   0.906/9.047MB"
       ]
      },
      {
       "output_type": "stream",
       "stream": "stdout",
       "text": [
        "                                                \r",
        "[===                           ]   0.914/9.047MB"
       ]
      },
      {
       "output_type": "stream",
       "stream": "stdout",
       "text": [
        "                                                \r",
        "[===                           ]   0.922/9.047MB"
       ]
      },
      {
       "output_type": "stream",
       "stream": "stdout",
       "text": [
        "                                                \r",
        "[===                           ]   0.930/9.047MB"
       ]
      },
      {
       "output_type": "stream",
       "stream": "stdout",
       "text": [
        "                                                \r",
        "[===                           ]   0.938/9.047MB"
       ]
      },
      {
       "output_type": "stream",
       "stream": "stdout",
       "text": [
        "                                                \r",
        "[===                           ]   0.945/9.047MB"
       ]
      },
      {
       "output_type": "stream",
       "stream": "stdout",
       "text": [
        "                                                \r",
        "[===                           ]   0.953/9.047MB"
       ]
      },
      {
       "output_type": "stream",
       "stream": "stdout",
       "text": [
        "                                                \r",
        "[===                           ]   0.961/9.047MB"
       ]
      },
      {
       "output_type": "stream",
       "stream": "stdout",
       "text": [
        "                                                \r",
        "[===                           ]   0.969/9.047MB"
       ]
      },
      {
       "output_type": "stream",
       "stream": "stdout",
       "text": [
        "                                                \r",
        "[===                           ]   0.977/9.047MB"
       ]
      },
      {
       "output_type": "stream",
       "stream": "stdout",
       "text": [
        "                                                \r",
        "[===                           ]   0.984/9.047MB"
       ]
      },
      {
       "output_type": "stream",
       "stream": "stdout",
       "text": [
        "                                                \r",
        "[===                           ]   0.992/9.047MB"
       ]
      },
      {
       "output_type": "stream",
       "stream": "stdout",
       "text": [
        "                                                \r",
        "[===                           ]   1.000/9.047MB"
       ]
      },
      {
       "output_type": "stream",
       "stream": "stdout",
       "text": [
        "                                                \r",
        "[===                           ]   1.008/9.047MB"
       ]
      },
      {
       "output_type": "stream",
       "stream": "stdout",
       "text": [
        "                                                \r",
        "[===                           ]   1.016/9.047MB"
       ]
      },
      {
       "output_type": "stream",
       "stream": "stdout",
       "text": [
        "                                                \r",
        "[===                           ]   1.023/9.047MB"
       ]
      },
      {
       "output_type": "stream",
       "stream": "stdout",
       "text": [
        "                                                \r",
        "[===                           ]   1.031/9.047MB"
       ]
      },
      {
       "output_type": "stream",
       "stream": "stdout",
       "text": [
        "                                                \r",
        "[===                           ]   1.039/9.047MB"
       ]
      },
      {
       "output_type": "stream",
       "stream": "stdout",
       "text": [
        "                                                \r",
        "[===                           ]   1.047/9.047MB"
       ]
      },
      {
       "output_type": "stream",
       "stream": "stdout",
       "text": [
        "                                                \r",
        "[===                           ]   1.055/9.047MB"
       ]
      },
      {
       "output_type": "stream",
       "stream": "stdout",
       "text": [
        "                                                \r",
        "[===                           ]   1.062/9.047MB"
       ]
      },
      {
       "output_type": "stream",
       "stream": "stdout",
       "text": [
        "                                                \r",
        "[===                           ]   1.070/9.047MB"
       ]
      },
      {
       "output_type": "stream",
       "stream": "stdout",
       "text": [
        "                                                \r",
        "[===                           ]   1.078/9.047MB"
       ]
      },
      {
       "output_type": "stream",
       "stream": "stdout",
       "text": [
        "                                                \r",
        "[===                           ]   1.086/9.047MB"
       ]
      },
      {
       "output_type": "stream",
       "stream": "stdout",
       "text": [
        "                                                \r",
        "[===                           ]   1.094/9.047MB"
       ]
      },
      {
       "output_type": "stream",
       "stream": "stdout",
       "text": [
        "                                                \r",
        "[===                           ]   1.102/9.047MB"
       ]
      },
      {
       "output_type": "stream",
       "stream": "stdout",
       "text": [
        "                                                \r",
        "[===                           ]   1.109/9.047MB"
       ]
      },
      {
       "output_type": "stream",
       "stream": "stdout",
       "text": [
        "                                                \r",
        "[===                           ]   1.117/9.047MB"
       ]
      },
      {
       "output_type": "stream",
       "stream": "stdout",
       "text": [
        "                                                \r",
        "[===                           ]   1.125/9.047MB"
       ]
      },
      {
       "output_type": "stream",
       "stream": "stdout",
       "text": [
        "                                                \r",
        "[===                           ]   1.133/9.047MB"
       ]
      },
      {
       "output_type": "stream",
       "stream": "stdout",
       "text": [
        "                                                \r",
        "[===                           ]   1.141/9.047MB"
       ]
      },
      {
       "output_type": "stream",
       "stream": "stdout",
       "text": [
        "                                                \r",
        "[===                           ]   1.148/9.047MB"
       ]
      },
      {
       "output_type": "stream",
       "stream": "stdout",
       "text": [
        "                                                \r",
        "[===                           ]   1.156/9.047MB"
       ]
      },
      {
       "output_type": "stream",
       "stream": "stdout",
       "text": [
        "                                                \r",
        "[===                           ]   1.164/9.047MB"
       ]
      },
      {
       "output_type": "stream",
       "stream": "stdout",
       "text": [
        "                                                \r",
        "[===                           ]   1.172/9.047MB"
       ]
      },
      {
       "output_type": "stream",
       "stream": "stdout",
       "text": [
        "                                                \r",
        "[===                           ]   1.180/9.047MB"
       ]
      },
      {
       "output_type": "stream",
       "stream": "stdout",
       "text": [
        "                                                \r",
        "[===                           ]   1.188/9.047MB"
       ]
      },
      {
       "output_type": "stream",
       "stream": "stdout",
       "text": [
        "                                                \r",
        "[===                           ]   1.195/9.047MB"
       ]
      },
      {
       "output_type": "stream",
       "stream": "stdout",
       "text": [
        "                                                \r",
        "[===                           ]   1.203/9.047MB"
       ]
      },
      {
       "output_type": "stream",
       "stream": "stdout",
       "text": [
        "                                                \r",
        "[====                          ]   1.211/9.047MB"
       ]
      },
      {
       "output_type": "stream",
       "stream": "stdout",
       "text": [
        "                                                \r",
        "[====                          ]   1.219/9.047MB"
       ]
      },
      {
       "output_type": "stream",
       "stream": "stdout",
       "text": [
        "                                                \r",
        "[====                          ]   1.227/9.047MB"
       ]
      },
      {
       "output_type": "stream",
       "stream": "stdout",
       "text": [
        "                                                \r",
        "[====                          ]   1.234/9.047MB"
       ]
      },
      {
       "output_type": "stream",
       "stream": "stdout",
       "text": [
        "                                                \r",
        "[====                          ]   1.242/9.047MB"
       ]
      },
      {
       "output_type": "stream",
       "stream": "stdout",
       "text": [
        "                                                \r",
        "[====                          ]   1.250/9.047MB"
       ]
      },
      {
       "output_type": "stream",
       "stream": "stdout",
       "text": [
        "                                                \r",
        "[====                          ]   1.258/9.047MB"
       ]
      },
      {
       "output_type": "stream",
       "stream": "stdout",
       "text": [
        "                                                \r",
        "[====                          ]   1.266/9.047MB"
       ]
      },
      {
       "output_type": "stream",
       "stream": "stdout",
       "text": [
        "                                                \r",
        "[====                          ]   1.273/9.047MB"
       ]
      },
      {
       "output_type": "stream",
       "stream": "stdout",
       "text": [
        "                                                \r",
        "[====                          ]   1.281/9.047MB"
       ]
      },
      {
       "output_type": "stream",
       "stream": "stdout",
       "text": [
        "                                                \r",
        "[====                          ]   1.289/9.047MB"
       ]
      },
      {
       "output_type": "stream",
       "stream": "stdout",
       "text": [
        "                                                \r",
        "[====                          ]   1.297/9.047MB"
       ]
      },
      {
       "output_type": "stream",
       "stream": "stdout",
       "text": [
        "                                                \r",
        "[====                          ]   1.305/9.047MB"
       ]
      },
      {
       "output_type": "stream",
       "stream": "stdout",
       "text": [
        "                                                \r",
        "[====                          ]   1.312/9.047MB"
       ]
      },
      {
       "output_type": "stream",
       "stream": "stdout",
       "text": [
        "                                                \r",
        "[====                          ]   1.320/9.047MB"
       ]
      },
      {
       "output_type": "stream",
       "stream": "stdout",
       "text": [
        "                                                \r",
        "[====                          ]   1.328/9.047MB"
       ]
      },
      {
       "output_type": "stream",
       "stream": "stdout",
       "text": [
        "                                                \r",
        "[====                          ]   1.336/9.047MB"
       ]
      },
      {
       "output_type": "stream",
       "stream": "stdout",
       "text": [
        "                                                \r",
        "[====                          ]   1.344/9.047MB"
       ]
      },
      {
       "output_type": "stream",
       "stream": "stdout",
       "text": [
        "                                                \r",
        "[====                          ]   1.352/9.047MB"
       ]
      },
      {
       "output_type": "stream",
       "stream": "stdout",
       "text": [
        "                                                \r",
        "[====                          ]   1.359/9.047MB"
       ]
      },
      {
       "output_type": "stream",
       "stream": "stdout",
       "text": [
        "                                                \r",
        "[====                          ]   1.367/9.047MB"
       ]
      },
      {
       "output_type": "stream",
       "stream": "stdout",
       "text": [
        "                                                \r",
        "[====                          ]   1.375/9.047MB"
       ]
      },
      {
       "output_type": "stream",
       "stream": "stdout",
       "text": [
        "                                                \r",
        "[====                          ]   1.383/9.047MB"
       ]
      },
      {
       "output_type": "stream",
       "stream": "stdout",
       "text": [
        "                                                \r",
        "[====                          ]   1.391/9.047MB"
       ]
      },
      {
       "output_type": "stream",
       "stream": "stdout",
       "text": [
        "                                                \r",
        "[====                          ]   1.398/9.047MB"
       ]
      },
      {
       "output_type": "stream",
       "stream": "stdout",
       "text": [
        "                                                \r",
        "[====                          ]   1.406/9.047MB"
       ]
      },
      {
       "output_type": "stream",
       "stream": "stdout",
       "text": [
        "                                                \r",
        "[====                          ]   1.414/9.047MB"
       ]
      },
      {
       "output_type": "stream",
       "stream": "stdout",
       "text": [
        "                                                \r",
        "[====                          ]   1.422/9.047MB"
       ]
      },
      {
       "output_type": "stream",
       "stream": "stdout",
       "text": [
        "                                                \r",
        "[====                          ]   1.430/9.047MB"
       ]
      },
      {
       "output_type": "stream",
       "stream": "stdout",
       "text": [
        "                                                \r",
        "[====                          ]   1.438/9.047MB"
       ]
      },
      {
       "output_type": "stream",
       "stream": "stdout",
       "text": [
        "                                                \r",
        "[====                          ]   1.445/9.047MB"
       ]
      },
      {
       "output_type": "stream",
       "stream": "stdout",
       "text": [
        "                                                \r",
        "[====                          ]   1.453/9.047MB"
       ]
      },
      {
       "output_type": "stream",
       "stream": "stdout",
       "text": [
        "                                                \r",
        "[====                          ]   1.461/9.047MB"
       ]
      },
      {
       "output_type": "stream",
       "stream": "stdout",
       "text": [
        "                                                \r",
        "[====                          ]   1.469/9.047MB"
       ]
      },
      {
       "output_type": "stream",
       "stream": "stdout",
       "text": [
        "                                                \r",
        "[====                          ]   1.477/9.047MB"
       ]
      },
      {
       "output_type": "stream",
       "stream": "stdout",
       "text": [
        "                                                \r",
        "[====                          ]   1.484/9.047MB"
       ]
      },
      {
       "output_type": "stream",
       "stream": "stdout",
       "text": [
        "                                                \r",
        "[====                          ]   1.492/9.047MB"
       ]
      },
      {
       "output_type": "stream",
       "stream": "stdout",
       "text": [
        "                                                \r",
        "[====                          ]   1.500/9.047MB"
       ]
      },
      {
       "output_type": "stream",
       "stream": "stdout",
       "text": [
        "                                                \r",
        "[=====                         ]   1.508/9.047MB"
       ]
      },
      {
       "output_type": "stream",
       "stream": "stdout",
       "text": [
        "                                                \r",
        "[=====                         ]   1.516/9.047MB"
       ]
      },
      {
       "output_type": "stream",
       "stream": "stdout",
       "text": [
        "                                                \r",
        "[=====                         ]   1.523/9.047MB"
       ]
      },
      {
       "output_type": "stream",
       "stream": "stdout",
       "text": [
        "                                                \r",
        "[=====                         ]   1.531/9.047MB"
       ]
      },
      {
       "output_type": "stream",
       "stream": "stdout",
       "text": [
        "                                                \r",
        "[=====                         ]   1.539/9.047MB"
       ]
      },
      {
       "output_type": "stream",
       "stream": "stdout",
       "text": [
        "                                                \r",
        "[=====                         ]   1.547/9.047MB"
       ]
      },
      {
       "output_type": "stream",
       "stream": "stdout",
       "text": [
        "                                                \r",
        "[=====                         ]   1.555/9.047MB"
       ]
      },
      {
       "output_type": "stream",
       "stream": "stdout",
       "text": [
        "                                                \r",
        "[=====                         ]   1.562/9.047MB"
       ]
      },
      {
       "output_type": "stream",
       "stream": "stdout",
       "text": [
        "                                                \r",
        "[=====                         ]   1.570/9.047MB"
       ]
      },
      {
       "output_type": "stream",
       "stream": "stdout",
       "text": [
        "                                                \r",
        "[=====                         ]   1.578/9.047MB"
       ]
      },
      {
       "output_type": "stream",
       "stream": "stdout",
       "text": [
        "                                                \r",
        "[=====                         ]   1.586/9.047MB"
       ]
      },
      {
       "output_type": "stream",
       "stream": "stdout",
       "text": [
        "                                                \r",
        "[=====                         ]   1.594/9.047MB"
       ]
      },
      {
       "output_type": "stream",
       "stream": "stdout",
       "text": [
        "                                                \r",
        "[=====                         ]   1.602/9.047MB"
       ]
      },
      {
       "output_type": "stream",
       "stream": "stdout",
       "text": [
        "                                                \r",
        "[=====                         ]   1.609/9.047MB"
       ]
      },
      {
       "output_type": "stream",
       "stream": "stdout",
       "text": [
        "                                                \r",
        "[=====                         ]   1.617/9.047MB"
       ]
      },
      {
       "output_type": "stream",
       "stream": "stdout",
       "text": [
        "                                                \r",
        "[=====                         ]   1.625/9.047MB"
       ]
      },
      {
       "output_type": "stream",
       "stream": "stdout",
       "text": [
        "                                                \r",
        "[=====                         ]   1.633/9.047MB"
       ]
      },
      {
       "output_type": "stream",
       "stream": "stdout",
       "text": [
        "                                                \r",
        "[=====                         ]   1.641/9.047MB"
       ]
      },
      {
       "output_type": "stream",
       "stream": "stdout",
       "text": [
        "                                                \r",
        "[=====                         ]   1.648/9.047MB"
       ]
      },
      {
       "output_type": "stream",
       "stream": "stdout",
       "text": [
        "                                                \r",
        "[=====                         ]   1.656/9.047MB"
       ]
      },
      {
       "output_type": "stream",
       "stream": "stdout",
       "text": [
        "                                                \r",
        "[=====                         ]   1.664/9.047MB"
       ]
      },
      {
       "output_type": "stream",
       "stream": "stdout",
       "text": [
        "                                                \r",
        "[=====                         ]   1.672/9.047MB"
       ]
      },
      {
       "output_type": "stream",
       "stream": "stdout",
       "text": [
        "                                                \r",
        "[=====                         ]   1.680/9.047MB"
       ]
      },
      {
       "output_type": "stream",
       "stream": "stdout",
       "text": [
        "                                                \r",
        "[=====                         ]   1.688/9.047MB"
       ]
      },
      {
       "output_type": "stream",
       "stream": "stdout",
       "text": [
        "                                                \r",
        "[=====                         ]   1.695/9.047MB"
       ]
      },
      {
       "output_type": "stream",
       "stream": "stdout",
       "text": [
        "                                                \r",
        "[=====                         ]   1.703/9.047MB"
       ]
      },
      {
       "output_type": "stream",
       "stream": "stdout",
       "text": [
        "                                                \r",
        "[=====                         ]   1.711/9.047MB"
       ]
      },
      {
       "output_type": "stream",
       "stream": "stdout",
       "text": [
        "                                                \r",
        "[=====                         ]   1.719/9.047MB"
       ]
      },
      {
       "output_type": "stream",
       "stream": "stdout",
       "text": [
        "                                                \r",
        "[=====                         ]   1.727/9.047MB"
       ]
      },
      {
       "output_type": "stream",
       "stream": "stdout",
       "text": [
        "                                                \r",
        "[=====                         ]   1.734/9.047MB"
       ]
      },
      {
       "output_type": "stream",
       "stream": "stdout",
       "text": [
        "                                                \r",
        "[=====                         ]   1.742/9.047MB"
       ]
      },
      {
       "output_type": "stream",
       "stream": "stdout",
       "text": [
        "                                                \r",
        "[=====                         ]   1.750/9.047MB"
       ]
      },
      {
       "output_type": "stream",
       "stream": "stdout",
       "text": [
        "                                                \r",
        "[=====                         ]   1.758/9.047MB"
       ]
      },
      {
       "output_type": "stream",
       "stream": "stdout",
       "text": [
        "                                                \r",
        "[=====                         ]   1.766/9.047MB"
       ]
      },
      {
       "output_type": "stream",
       "stream": "stdout",
       "text": [
        "                                                \r",
        "[=====                         ]   1.773/9.047MB"
       ]
      },
      {
       "output_type": "stream",
       "stream": "stdout",
       "text": [
        "                                                \r",
        "[=====                         ]   1.781/9.047MB"
       ]
      },
      {
       "output_type": "stream",
       "stream": "stdout",
       "text": [
        "                                                \r",
        "[=====                         ]   1.789/9.047MB"
       ]
      },
      {
       "output_type": "stream",
       "stream": "stdout",
       "text": [
        "                                                \r",
        "[=====                         ]   1.797/9.047MB"
       ]
      },
      {
       "output_type": "stream",
       "stream": "stdout",
       "text": [
        "                                                \r",
        "[=====                         ]   1.805/9.047MB"
       ]
      },
      {
       "output_type": "stream",
       "stream": "stdout",
       "text": [
        "                                                \r",
        "[======                        ]   1.812/9.047MB"
       ]
      },
      {
       "output_type": "stream",
       "stream": "stdout",
       "text": [
        "                                                \r",
        "[======                        ]   1.820/9.047MB"
       ]
      },
      {
       "output_type": "stream",
       "stream": "stdout",
       "text": [
        "                                                \r",
        "[======                        ]   1.828/9.047MB"
       ]
      },
      {
       "output_type": "stream",
       "stream": "stdout",
       "text": [
        "                                                \r",
        "[======                        ]   1.836/9.047MB"
       ]
      },
      {
       "output_type": "stream",
       "stream": "stdout",
       "text": [
        "                                                \r",
        "[======                        ]   1.844/9.047MB"
       ]
      },
      {
       "output_type": "stream",
       "stream": "stdout",
       "text": [
        "                                                \r",
        "[======                        ]   1.852/9.047MB"
       ]
      },
      {
       "output_type": "stream",
       "stream": "stdout",
       "text": [
        "                                                \r",
        "[======                        ]   1.859/9.047MB"
       ]
      },
      {
       "output_type": "stream",
       "stream": "stdout",
       "text": [
        "                                                \r",
        "[======                        ]   1.867/9.047MB"
       ]
      },
      {
       "output_type": "stream",
       "stream": "stdout",
       "text": [
        "                                                \r",
        "[======                        ]   1.875/9.047MB"
       ]
      },
      {
       "output_type": "stream",
       "stream": "stdout",
       "text": [
        "                                                \r",
        "[======                        ]   1.883/9.047MB"
       ]
      },
      {
       "output_type": "stream",
       "stream": "stdout",
       "text": [
        "                                                \r",
        "[======                        ]   1.891/9.047MB"
       ]
      },
      {
       "output_type": "stream",
       "stream": "stdout",
       "text": [
        "                                                \r",
        "[======                        ]   1.898/9.047MB"
       ]
      },
      {
       "output_type": "stream",
       "stream": "stdout",
       "text": [
        "                                                \r",
        "[======                        ]   1.906/9.047MB"
       ]
      },
      {
       "output_type": "stream",
       "stream": "stdout",
       "text": [
        "                                                \r",
        "[======                        ]   1.914/9.047MB"
       ]
      },
      {
       "output_type": "stream",
       "stream": "stdout",
       "text": [
        "                                                \r",
        "[======                        ]   1.922/9.047MB"
       ]
      },
      {
       "output_type": "stream",
       "stream": "stdout",
       "text": [
        "                                                \r",
        "[======                        ]   1.930/9.047MB"
       ]
      },
      {
       "output_type": "stream",
       "stream": "stdout",
       "text": [
        "                                                \r",
        "[======                        ]   1.938/9.047MB"
       ]
      },
      {
       "output_type": "stream",
       "stream": "stdout",
       "text": [
        "                                                \r",
        "[======                        ]   1.945/9.047MB"
       ]
      },
      {
       "output_type": "stream",
       "stream": "stdout",
       "text": [
        "                                                \r",
        "[======                        ]   1.953/9.047MB"
       ]
      },
      {
       "output_type": "stream",
       "stream": "stdout",
       "text": [
        "                                                \r",
        "[======                        ]   1.961/9.047MB"
       ]
      },
      {
       "output_type": "stream",
       "stream": "stdout",
       "text": [
        "                                                \r",
        "[======                        ]   1.969/9.047MB"
       ]
      },
      {
       "output_type": "stream",
       "stream": "stdout",
       "text": [
        "                                                \r",
        "[======                        ]   1.977/9.047MB"
       ]
      },
      {
       "output_type": "stream",
       "stream": "stdout",
       "text": [
        "                                                \r",
        "[======                        ]   1.984/9.047MB"
       ]
      },
      {
       "output_type": "stream",
       "stream": "stdout",
       "text": [
        "                                                \r",
        "[======                        ]   1.992/9.047MB"
       ]
      },
      {
       "output_type": "stream",
       "stream": "stdout",
       "text": [
        "                                                \r",
        "[======                        ]   2.000/9.047MB"
       ]
      },
      {
       "output_type": "stream",
       "stream": "stdout",
       "text": [
        "                                                \r",
        "[======                        ]   2.008/9.047MB"
       ]
      },
      {
       "output_type": "stream",
       "stream": "stdout",
       "text": [
        "                                                \r",
        "[======                        ]   2.016/9.047MB"
       ]
      },
      {
       "output_type": "stream",
       "stream": "stdout",
       "text": [
        "                                                \r",
        "[======                        ]   2.023/9.047MB"
       ]
      },
      {
       "output_type": "stream",
       "stream": "stdout",
       "text": [
        "                                                \r",
        "[======                        ]   2.031/9.047MB"
       ]
      },
      {
       "output_type": "stream",
       "stream": "stdout",
       "text": [
        "                                                \r",
        "[======                        ]   2.039/9.047MB"
       ]
      },
      {
       "output_type": "stream",
       "stream": "stdout",
       "text": [
        "                                                \r",
        "[======                        ]   2.047/9.047MB"
       ]
      },
      {
       "output_type": "stream",
       "stream": "stdout",
       "text": [
        "                                                \r",
        "[======                        ]   2.055/9.047MB"
       ]
      },
      {
       "output_type": "stream",
       "stream": "stdout",
       "text": [
        "                                                \r",
        "[======                        ]   2.062/9.047MB"
       ]
      },
      {
       "output_type": "stream",
       "stream": "stdout",
       "text": [
        "                                                \r",
        "[======                        ]   2.070/9.047MB"
       ]
      },
      {
       "output_type": "stream",
       "stream": "stdout",
       "text": [
        "                                                \r",
        "[======                        ]   2.078/9.047MB"
       ]
      },
      {
       "output_type": "stream",
       "stream": "stdout",
       "text": [
        "                                                \r",
        "[======                        ]   2.086/9.047MB"
       ]
      },
      {
       "output_type": "stream",
       "stream": "stdout",
       "text": [
        "                                                \r",
        "[======                        ]   2.094/9.047MB"
       ]
      },
      {
       "output_type": "stream",
       "stream": "stdout",
       "text": [
        "                                                \r",
        "[======                        ]   2.102/9.047MB"
       ]
      },
      {
       "output_type": "stream",
       "stream": "stdout",
       "text": [
        "                                                \r",
        "[======                        ]   2.109/9.047MB"
       ]
      },
      {
       "output_type": "stream",
       "stream": "stdout",
       "text": [
        "                                                \r",
        "[=======                       ]   2.117/9.047MB"
       ]
      },
      {
       "output_type": "stream",
       "stream": "stdout",
       "text": [
        "                                                \r",
        "[=======                       ]   2.125/9.047MB"
       ]
      },
      {
       "output_type": "stream",
       "stream": "stdout",
       "text": [
        "                                                \r",
        "[=======                       ]   2.133/9.047MB"
       ]
      },
      {
       "output_type": "stream",
       "stream": "stdout",
       "text": [
        "                                                \r",
        "[=======                       ]   2.141/9.047MB"
       ]
      },
      {
       "output_type": "stream",
       "stream": "stdout",
       "text": [
        "                                                \r",
        "[=======                       ]   2.148/9.047MB"
       ]
      },
      {
       "output_type": "stream",
       "stream": "stdout",
       "text": [
        "                                                \r",
        "[=======                       ]   2.156/9.047MB"
       ]
      },
      {
       "output_type": "stream",
       "stream": "stdout",
       "text": [
        "                                                \r",
        "[=======                       ]   2.164/9.047MB"
       ]
      },
      {
       "output_type": "stream",
       "stream": "stdout",
       "text": [
        "                                                \r",
        "[=======                       ]   2.172/9.047MB"
       ]
      },
      {
       "output_type": "stream",
       "stream": "stdout",
       "text": [
        "                                                \r",
        "[=======                       ]   2.180/9.047MB"
       ]
      },
      {
       "output_type": "stream",
       "stream": "stdout",
       "text": [
        "                                                \r",
        "[=======                       ]   2.188/9.047MB"
       ]
      },
      {
       "output_type": "stream",
       "stream": "stdout",
       "text": [
        "                                                \r",
        "[=======                       ]   2.195/9.047MB"
       ]
      },
      {
       "output_type": "stream",
       "stream": "stdout",
       "text": [
        "                                                \r",
        "[=======                       ]   2.203/9.047MB"
       ]
      },
      {
       "output_type": "stream",
       "stream": "stdout",
       "text": [
        "                                                \r",
        "[=======                       ]   2.211/9.047MB"
       ]
      },
      {
       "output_type": "stream",
       "stream": "stdout",
       "text": [
        "                                                \r",
        "[=======                       ]   2.219/9.047MB"
       ]
      },
      {
       "output_type": "stream",
       "stream": "stdout",
       "text": [
        "                                                \r",
        "[=======                       ]   2.227/9.047MB"
       ]
      },
      {
       "output_type": "stream",
       "stream": "stdout",
       "text": [
        "                                                \r",
        "[=======                       ]   2.234/9.047MB"
       ]
      },
      {
       "output_type": "stream",
       "stream": "stdout",
       "text": [
        "                                                \r",
        "[=======                       ]   2.242/9.047MB"
       ]
      },
      {
       "output_type": "stream",
       "stream": "stdout",
       "text": [
        "                                                \r",
        "[=======                       ]   2.250/9.047MB"
       ]
      },
      {
       "output_type": "stream",
       "stream": "stdout",
       "text": [
        "                                                \r",
        "[=======                       ]   2.258/9.047MB"
       ]
      },
      {
       "output_type": "stream",
       "stream": "stdout",
       "text": [
        "                                                \r",
        "[=======                       ]   2.266/9.047MB"
       ]
      },
      {
       "output_type": "stream",
       "stream": "stdout",
       "text": [
        "                                                \r",
        "[=======                       ]   2.273/9.047MB"
       ]
      },
      {
       "output_type": "stream",
       "stream": "stdout",
       "text": [
        "                                                \r",
        "[=======                       ]   2.281/9.047MB"
       ]
      },
      {
       "output_type": "stream",
       "stream": "stdout",
       "text": [
        "                                                \r",
        "[=======                       ]   2.289/9.047MB"
       ]
      },
      {
       "output_type": "stream",
       "stream": "stdout",
       "text": [
        "                                                \r",
        "[=======                       ]   2.297/9.047MB"
       ]
      },
      {
       "output_type": "stream",
       "stream": "stdout",
       "text": [
        "                                                \r",
        "[=======                       ]   2.305/9.047MB"
       ]
      },
      {
       "output_type": "stream",
       "stream": "stdout",
       "text": [
        "                                                \r",
        "[=======                       ]   2.312/9.047MB"
       ]
      },
      {
       "output_type": "stream",
       "stream": "stdout",
       "text": [
        "                                                \r",
        "[=======                       ]   2.320/9.047MB"
       ]
      },
      {
       "output_type": "stream",
       "stream": "stdout",
       "text": [
        "                                                \r",
        "[=======                       ]   2.328/9.047MB"
       ]
      },
      {
       "output_type": "stream",
       "stream": "stdout",
       "text": [
        "                                                \r",
        "[=======                       ]   2.336/9.047MB"
       ]
      },
      {
       "output_type": "stream",
       "stream": "stdout",
       "text": [
        "                                                \r",
        "[=======                       ]   2.344/9.047MB"
       ]
      },
      {
       "output_type": "stream",
       "stream": "stdout",
       "text": [
        "                                                \r",
        "[=======                       ]   2.352/9.047MB"
       ]
      },
      {
       "output_type": "stream",
       "stream": "stdout",
       "text": [
        "                                                \r",
        "[=======                       ]   2.359/9.047MB"
       ]
      },
      {
       "output_type": "stream",
       "stream": "stdout",
       "text": [
        "                                                \r",
        "[=======                       ]   2.367/9.047MB"
       ]
      },
      {
       "output_type": "stream",
       "stream": "stdout",
       "text": [
        "                                                \r",
        "[=======                       ]   2.375/9.047MB"
       ]
      },
      {
       "output_type": "stream",
       "stream": "stdout",
       "text": [
        "                                                \r",
        "[=======                       ]   2.383/9.047MB"
       ]
      },
      {
       "output_type": "stream",
       "stream": "stdout",
       "text": [
        "                                                \r",
        "[=======                       ]   2.391/9.047MB"
       ]
      },
      {
       "output_type": "stream",
       "stream": "stdout",
       "text": [
        "                                                \r",
        "[=======                       ]   2.398/9.047MB"
       ]
      },
      {
       "output_type": "stream",
       "stream": "stdout",
       "text": [
        "                                                \r",
        "[=======                       ]   2.406/9.047MB"
       ]
      },
      {
       "output_type": "stream",
       "stream": "stdout",
       "text": [
        "                                                \r",
        "[========                      ]   2.414/9.047MB"
       ]
      },
      {
       "output_type": "stream",
       "stream": "stdout",
       "text": [
        "                                                \r",
        "[========                      ]   2.422/9.047MB"
       ]
      },
      {
       "output_type": "stream",
       "stream": "stdout",
       "text": [
        "                                                \r",
        "[========                      ]   2.430/9.047MB"
       ]
      },
      {
       "output_type": "stream",
       "stream": "stdout",
       "text": [
        "                                                \r",
        "[========                      ]   2.438/9.047MB"
       ]
      },
      {
       "output_type": "stream",
       "stream": "stdout",
       "text": [
        "                                                \r",
        "[========                      ]   2.445/9.047MB"
       ]
      },
      {
       "output_type": "stream",
       "stream": "stdout",
       "text": [
        "                                                \r",
        "[========                      ]   2.453/9.047MB"
       ]
      },
      {
       "output_type": "stream",
       "stream": "stdout",
       "text": [
        "                                                \r",
        "[========                      ]   2.461/9.047MB"
       ]
      },
      {
       "output_type": "stream",
       "stream": "stdout",
       "text": [
        "                                                \r",
        "[========                      ]   2.469/9.047MB"
       ]
      },
      {
       "output_type": "stream",
       "stream": "stdout",
       "text": [
        "                                                \r",
        "[========                      ]   2.477/9.047MB"
       ]
      },
      {
       "output_type": "stream",
       "stream": "stdout",
       "text": [
        "                                                \r",
        "[========                      ]   2.484/9.047MB"
       ]
      },
      {
       "output_type": "stream",
       "stream": "stdout",
       "text": [
        "                                                \r",
        "[========                      ]   2.492/9.047MB"
       ]
      },
      {
       "output_type": "stream",
       "stream": "stdout",
       "text": [
        "                                                \r",
        "[========                      ]   2.500/9.047MB"
       ]
      },
      {
       "output_type": "stream",
       "stream": "stdout",
       "text": [
        "                                                \r",
        "[========                      ]   2.508/9.047MB"
       ]
      },
      {
       "output_type": "stream",
       "stream": "stdout",
       "text": [
        "                                                \r",
        "[========                      ]   2.516/9.047MB"
       ]
      },
      {
       "output_type": "stream",
       "stream": "stdout",
       "text": [
        "                                                \r",
        "[========                      ]   2.523/9.047MB"
       ]
      },
      {
       "output_type": "stream",
       "stream": "stdout",
       "text": [
        "                                                \r",
        "[========                      ]   2.531/9.047MB"
       ]
      },
      {
       "output_type": "stream",
       "stream": "stdout",
       "text": [
        "                                                \r",
        "[========                      ]   2.539/9.047MB"
       ]
      },
      {
       "output_type": "stream",
       "stream": "stdout",
       "text": [
        "                                                \r",
        "[========                      ]   2.547/9.047MB"
       ]
      },
      {
       "output_type": "stream",
       "stream": "stdout",
       "text": [
        "                                                \r",
        "[========                      ]   2.555/9.047MB"
       ]
      },
      {
       "output_type": "stream",
       "stream": "stdout",
       "text": [
        "                                                \r",
        "[========                      ]   2.562/9.047MB"
       ]
      },
      {
       "output_type": "stream",
       "stream": "stdout",
       "text": [
        "                                                \r",
        "[========                      ]   2.570/9.047MB"
       ]
      },
      {
       "output_type": "stream",
       "stream": "stdout",
       "text": [
        "                                                \r",
        "[========                      ]   2.578/9.047MB"
       ]
      },
      {
       "output_type": "stream",
       "stream": "stdout",
       "text": [
        "                                                \r",
        "[========                      ]   2.586/9.047MB"
       ]
      },
      {
       "output_type": "stream",
       "stream": "stdout",
       "text": [
        "                                                \r",
        "[========                      ]   2.594/9.047MB"
       ]
      },
      {
       "output_type": "stream",
       "stream": "stdout",
       "text": [
        "                                                \r",
        "[========                      ]   2.602/9.047MB"
       ]
      },
      {
       "output_type": "stream",
       "stream": "stdout",
       "text": [
        "                                                \r",
        "[========                      ]   2.609/9.047MB"
       ]
      },
      {
       "output_type": "stream",
       "stream": "stdout",
       "text": [
        "                                                \r",
        "[========                      ]   2.617/9.047MB"
       ]
      },
      {
       "output_type": "stream",
       "stream": "stdout",
       "text": [
        "                                                \r",
        "[========                      ]   2.625/9.047MB"
       ]
      },
      {
       "output_type": "stream",
       "stream": "stdout",
       "text": [
        "                                                \r",
        "[========                      ]   2.633/9.047MB"
       ]
      },
      {
       "output_type": "stream",
       "stream": "stdout",
       "text": [
        "                                                \r",
        "[========                      ]   2.641/9.047MB"
       ]
      },
      {
       "output_type": "stream",
       "stream": "stdout",
       "text": [
        "                                                \r",
        "[========                      ]   2.648/9.047MB"
       ]
      },
      {
       "output_type": "stream",
       "stream": "stdout",
       "text": [
        "                                                \r",
        "[========                      ]   2.656/9.047MB"
       ]
      },
      {
       "output_type": "stream",
       "stream": "stdout",
       "text": [
        "                                                \r",
        "[========                      ]   2.664/9.047MB"
       ]
      },
      {
       "output_type": "stream",
       "stream": "stdout",
       "text": [
        "                                                \r",
        "[========                      ]   2.672/9.047MB"
       ]
      },
      {
       "output_type": "stream",
       "stream": "stdout",
       "text": [
        "                                                \r",
        "[========                      ]   2.680/9.047MB"
       ]
      },
      {
       "output_type": "stream",
       "stream": "stdout",
       "text": [
        "                                                \r",
        "[========                      ]   2.688/9.047MB"
       ]
      },
      {
       "output_type": "stream",
       "stream": "stdout",
       "text": [
        "                                                \r",
        "[========                      ]   2.695/9.047MB"
       ]
      },
      {
       "output_type": "stream",
       "stream": "stdout",
       "text": [
        "                                                \r",
        "[========                      ]   2.703/9.047MB"
       ]
      },
      {
       "output_type": "stream",
       "stream": "stdout",
       "text": [
        "                                                \r",
        "[========                      ]   2.711/9.047MB"
       ]
      },
      {
       "output_type": "stream",
       "stream": "stdout",
       "text": [
        "                                                \r",
        "[=========                     ]   2.719/9.047MB"
       ]
      },
      {
       "output_type": "stream",
       "stream": "stdout",
       "text": [
        "                                                \r",
        "[=========                     ]   2.727/9.047MB"
       ]
      },
      {
       "output_type": "stream",
       "stream": "stdout",
       "text": [
        "                                                \r",
        "[=========                     ]   2.734/9.047MB"
       ]
      },
      {
       "output_type": "stream",
       "stream": "stdout",
       "text": [
        "                                                \r",
        "[=========                     ]   2.742/9.047MB"
       ]
      },
      {
       "output_type": "stream",
       "stream": "stdout",
       "text": [
        "                                                \r",
        "[=========                     ]   2.750/9.047MB"
       ]
      },
      {
       "output_type": "stream",
       "stream": "stdout",
       "text": [
        "                                                \r",
        "[=========                     ]   2.758/9.047MB"
       ]
      },
      {
       "output_type": "stream",
       "stream": "stdout",
       "text": [
        "                                                \r",
        "[=========                     ]   2.766/9.047MB"
       ]
      },
      {
       "output_type": "stream",
       "stream": "stdout",
       "text": [
        "                                                \r",
        "[=========                     ]   2.773/9.047MB"
       ]
      },
      {
       "output_type": "stream",
       "stream": "stdout",
       "text": [
        "                                                \r",
        "[=========                     ]   2.781/9.047MB"
       ]
      },
      {
       "output_type": "stream",
       "stream": "stdout",
       "text": [
        "                                                \r",
        "[=========                     ]   2.789/9.047MB"
       ]
      },
      {
       "output_type": "stream",
       "stream": "stdout",
       "text": [
        "                                                \r",
        "[=========                     ]   2.797/9.047MB"
       ]
      },
      {
       "output_type": "stream",
       "stream": "stdout",
       "text": [
        "                                                \r",
        "[=========                     ]   2.805/9.047MB"
       ]
      },
      {
       "output_type": "stream",
       "stream": "stdout",
       "text": [
        "                                                \r",
        "[=========                     ]   2.812/9.047MB"
       ]
      },
      {
       "output_type": "stream",
       "stream": "stdout",
       "text": [
        "                                                \r",
        "[=========                     ]   2.820/9.047MB"
       ]
      },
      {
       "output_type": "stream",
       "stream": "stdout",
       "text": [
        "                                                \r",
        "[=========                     ]   2.828/9.047MB"
       ]
      },
      {
       "output_type": "stream",
       "stream": "stdout",
       "text": [
        "                                                \r",
        "[=========                     ]   2.836/9.047MB"
       ]
      },
      {
       "output_type": "stream",
       "stream": "stdout",
       "text": [
        "                                                \r",
        "[=========                     ]   2.844/9.047MB"
       ]
      },
      {
       "output_type": "stream",
       "stream": "stdout",
       "text": [
        "                                                \r",
        "[=========                     ]   2.852/9.047MB"
       ]
      },
      {
       "output_type": "stream",
       "stream": "stdout",
       "text": [
        "                                                \r",
        "[=========                     ]   2.859/9.047MB"
       ]
      },
      {
       "output_type": "stream",
       "stream": "stdout",
       "text": [
        "                                                \r",
        "[=========                     ]   2.867/9.047MB"
       ]
      },
      {
       "output_type": "stream",
       "stream": "stdout",
       "text": [
        "                                                \r",
        "[=========                     ]   2.875/9.047MB"
       ]
      },
      {
       "output_type": "stream",
       "stream": "stdout",
       "text": [
        "                                                \r",
        "[=========                     ]   2.883/9.047MB"
       ]
      },
      {
       "output_type": "stream",
       "stream": "stdout",
       "text": [
        "                                                \r",
        "[=========                     ]   2.891/9.047MB"
       ]
      },
      {
       "output_type": "stream",
       "stream": "stdout",
       "text": [
        "                                                \r",
        "[=========                     ]   2.898/9.047MB"
       ]
      },
      {
       "output_type": "stream",
       "stream": "stdout",
       "text": [
        "                                                \r",
        "[=========                     ]   2.906/9.047MB"
       ]
      },
      {
       "output_type": "stream",
       "stream": "stdout",
       "text": [
        "                                                \r",
        "[=========                     ]   2.914/9.047MB"
       ]
      },
      {
       "output_type": "stream",
       "stream": "stdout",
       "text": [
        "                                                \r",
        "[=========                     ]   2.922/9.047MB"
       ]
      },
      {
       "output_type": "stream",
       "stream": "stdout",
       "text": [
        "                                                \r",
        "[=========                     ]   2.930/9.047MB"
       ]
      },
      {
       "output_type": "stream",
       "stream": "stdout",
       "text": [
        "                                                \r",
        "[=========                     ]   2.938/9.047MB"
       ]
      },
      {
       "output_type": "stream",
       "stream": "stdout",
       "text": [
        "                                                \r",
        "[=========                     ]   2.945/9.047MB"
       ]
      },
      {
       "output_type": "stream",
       "stream": "stdout",
       "text": [
        "                                                \r",
        "[=========                     ]   2.953/9.047MB"
       ]
      },
      {
       "output_type": "stream",
       "stream": "stdout",
       "text": [
        "                                                \r",
        "[=========                     ]   2.961/9.047MB"
       ]
      },
      {
       "output_type": "stream",
       "stream": "stdout",
       "text": [
        "                                                \r",
        "[=========                     ]   2.969/9.047MB"
       ]
      },
      {
       "output_type": "stream",
       "stream": "stdout",
       "text": [
        "                                                \r",
        "[=========                     ]   2.977/9.047MB"
       ]
      },
      {
       "output_type": "stream",
       "stream": "stdout",
       "text": [
        "                                                \r",
        "[=========                     ]   2.984/9.047MB"
       ]
      },
      {
       "output_type": "stream",
       "stream": "stdout",
       "text": [
        "                                                \r",
        "[=========                     ]   2.992/9.047MB"
       ]
      },
      {
       "output_type": "stream",
       "stream": "stdout",
       "text": [
        "                                                \r",
        "[=========                     ]   3.000/9.047MB"
       ]
      },
      {
       "output_type": "stream",
       "stream": "stdout",
       "text": [
        "                                                \r",
        "[=========                     ]   3.008/9.047MB"
       ]
      },
      {
       "output_type": "stream",
       "stream": "stdout",
       "text": [
        "                                                \r",
        "[==========                    ]   3.016/9.047MB"
       ]
      },
      {
       "output_type": "stream",
       "stream": "stdout",
       "text": [
        "                                                \r",
        "[==========                    ]   3.023/9.047MB"
       ]
      },
      {
       "output_type": "stream",
       "stream": "stdout",
       "text": [
        "                                                \r",
        "[==========                    ]   3.031/9.047MB"
       ]
      },
      {
       "output_type": "stream",
       "stream": "stdout",
       "text": [
        "                                                \r",
        "[==========                    ]   3.039/9.047MB"
       ]
      },
      {
       "output_type": "stream",
       "stream": "stdout",
       "text": [
        "                                                \r",
        "[==========                    ]   3.047/9.047MB"
       ]
      },
      {
       "output_type": "stream",
       "stream": "stdout",
       "text": [
        "                                                \r",
        "[==========                    ]   3.055/9.047MB"
       ]
      },
      {
       "output_type": "stream",
       "stream": "stdout",
       "text": [
        "                                                \r",
        "[==========                    ]   3.062/9.047MB"
       ]
      },
      {
       "output_type": "stream",
       "stream": "stdout",
       "text": [
        "                                                \r",
        "[==========                    ]   3.070/9.047MB"
       ]
      },
      {
       "output_type": "stream",
       "stream": "stdout",
       "text": [
        "                                                \r",
        "[==========                    ]   3.078/9.047MB"
       ]
      },
      {
       "output_type": "stream",
       "stream": "stdout",
       "text": [
        "                                                \r",
        "[==========                    ]   3.086/9.047MB"
       ]
      },
      {
       "output_type": "stream",
       "stream": "stdout",
       "text": [
        "                                                \r",
        "[==========                    ]   3.094/9.047MB"
       ]
      },
      {
       "output_type": "stream",
       "stream": "stdout",
       "text": [
        "                                                \r",
        "[==========                    ]   3.102/9.047MB"
       ]
      },
      {
       "output_type": "stream",
       "stream": "stdout",
       "text": [
        "                                                \r",
        "[==========                    ]   3.109/9.047MB"
       ]
      },
      {
       "output_type": "stream",
       "stream": "stdout",
       "text": [
        "                                                \r",
        "[==========                    ]   3.117/9.047MB"
       ]
      },
      {
       "output_type": "stream",
       "stream": "stdout",
       "text": [
        "                                                \r",
        "[==========                    ]   3.125/9.047MB"
       ]
      },
      {
       "output_type": "stream",
       "stream": "stdout",
       "text": [
        "                                                \r",
        "[==========                    ]   3.133/9.047MB"
       ]
      },
      {
       "output_type": "stream",
       "stream": "stdout",
       "text": [
        "                                                \r",
        "[==========                    ]   3.141/9.047MB"
       ]
      },
      {
       "output_type": "stream",
       "stream": "stdout",
       "text": [
        "                                                \r",
        "[==========                    ]   3.148/9.047MB"
       ]
      },
      {
       "output_type": "stream",
       "stream": "stdout",
       "text": [
        "                                                \r",
        "[==========                    ]   3.156/9.047MB"
       ]
      },
      {
       "output_type": "stream",
       "stream": "stdout",
       "text": [
        "                                                \r",
        "[==========                    ]   3.164/9.047MB"
       ]
      },
      {
       "output_type": "stream",
       "stream": "stdout",
       "text": [
        "                                                \r",
        "[==========                    ]   3.172/9.047MB"
       ]
      },
      {
       "output_type": "stream",
       "stream": "stdout",
       "text": [
        "                                                \r",
        "[==========                    ]   3.180/9.047MB"
       ]
      },
      {
       "output_type": "stream",
       "stream": "stdout",
       "text": [
        "                                                \r",
        "[==========                    ]   3.188/9.047MB"
       ]
      },
      {
       "output_type": "stream",
       "stream": "stdout",
       "text": [
        "                                                \r",
        "[==========                    ]   3.195/9.047MB"
       ]
      },
      {
       "output_type": "stream",
       "stream": "stdout",
       "text": [
        "                                                \r",
        "[==========                    ]   3.203/9.047MB"
       ]
      },
      {
       "output_type": "stream",
       "stream": "stdout",
       "text": [
        "                                                \r",
        "[==========                    ]   3.211/9.047MB"
       ]
      },
      {
       "output_type": "stream",
       "stream": "stdout",
       "text": [
        "                                                \r",
        "[==========                    ]   3.219/9.047MB"
       ]
      },
      {
       "output_type": "stream",
       "stream": "stdout",
       "text": [
        "                                                \r",
        "[==========                    ]   3.227/9.047MB"
       ]
      },
      {
       "output_type": "stream",
       "stream": "stdout",
       "text": [
        "                                                \r",
        "[==========                    ]   3.234/9.047MB"
       ]
      },
      {
       "output_type": "stream",
       "stream": "stdout",
       "text": [
        "                                                \r",
        "[==========                    ]   3.242/9.047MB"
       ]
      },
      {
       "output_type": "stream",
       "stream": "stdout",
       "text": [
        "                                                \r",
        "[==========                    ]   3.250/9.047MB"
       ]
      },
      {
       "output_type": "stream",
       "stream": "stdout",
       "text": [
        "                                                \r",
        "[==========                    ]   3.258/9.047MB"
       ]
      },
      {
       "output_type": "stream",
       "stream": "stdout",
       "text": [
        "                                                \r",
        "[==========                    ]   3.266/9.047MB"
       ]
      },
      {
       "output_type": "stream",
       "stream": "stdout",
       "text": [
        "                                                \r",
        "[==========                    ]   3.273/9.047MB"
       ]
      },
      {
       "output_type": "stream",
       "stream": "stdout",
       "text": [
        "                                                \r",
        "[==========                    ]   3.281/9.047MB"
       ]
      },
      {
       "output_type": "stream",
       "stream": "stdout",
       "text": [
        "                                                \r",
        "[==========                    ]   3.289/9.047MB"
       ]
      },
      {
       "output_type": "stream",
       "stream": "stdout",
       "text": [
        "                                                \r",
        "[==========                    ]   3.297/9.047MB"
       ]
      },
      {
       "output_type": "stream",
       "stream": "stdout",
       "text": [
        "                                                \r",
        "[==========                    ]   3.305/9.047MB"
       ]
      },
      {
       "output_type": "stream",
       "stream": "stdout",
       "text": [
        "                                                \r",
        "[==========                    ]   3.312/9.047MB"
       ]
      },
      {
       "output_type": "stream",
       "stream": "stdout",
       "text": [
        "                                                \r",
        "[===========                   ]   3.320/9.047MB"
       ]
      },
      {
       "output_type": "stream",
       "stream": "stdout",
       "text": [
        "                                                \r",
        "[===========                   ]   3.328/9.047MB"
       ]
      },
      {
       "output_type": "stream",
       "stream": "stdout",
       "text": [
        "                                                \r",
        "[===========                   ]   3.336/9.047MB"
       ]
      },
      {
       "output_type": "stream",
       "stream": "stdout",
       "text": [
        "                                                \r",
        "[===========                   ]   3.344/9.047MB"
       ]
      },
      {
       "output_type": "stream",
       "stream": "stdout",
       "text": [
        "                                                \r",
        "[===========                   ]   3.352/9.047MB"
       ]
      },
      {
       "output_type": "stream",
       "stream": "stdout",
       "text": [
        "                                                \r",
        "[===========                   ]   3.359/9.047MB"
       ]
      },
      {
       "output_type": "stream",
       "stream": "stdout",
       "text": [
        "                                                \r",
        "[===========                   ]   3.367/9.047MB"
       ]
      },
      {
       "output_type": "stream",
       "stream": "stdout",
       "text": [
        "                                                \r",
        "[===========                   ]   3.375/9.047MB"
       ]
      },
      {
       "output_type": "stream",
       "stream": "stdout",
       "text": [
        "                                                \r",
        "[===========                   ]   3.383/9.047MB"
       ]
      },
      {
       "output_type": "stream",
       "stream": "stdout",
       "text": [
        "                                                \r",
        "[===========                   ]   3.391/9.047MB"
       ]
      },
      {
       "output_type": "stream",
       "stream": "stdout",
       "text": [
        "                                                \r",
        "[===========                   ]   3.398/9.047MB"
       ]
      },
      {
       "output_type": "stream",
       "stream": "stdout",
       "text": [
        "                                                \r",
        "[===========                   ]   3.406/9.047MB"
       ]
      },
      {
       "output_type": "stream",
       "stream": "stdout",
       "text": [
        "                                                \r",
        "[===========                   ]   3.414/9.047MB"
       ]
      },
      {
       "output_type": "stream",
       "stream": "stdout",
       "text": [
        "                                                \r",
        "[===========                   ]   3.422/9.047MB"
       ]
      },
      {
       "output_type": "stream",
       "stream": "stdout",
       "text": [
        "                                                \r",
        "[===========                   ]   3.430/9.047MB"
       ]
      },
      {
       "output_type": "stream",
       "stream": "stdout",
       "text": [
        "                                                \r",
        "[===========                   ]   3.438/9.047MB"
       ]
      },
      {
       "output_type": "stream",
       "stream": "stdout",
       "text": [
        "                                                \r",
        "[===========                   ]   3.445/9.047MB"
       ]
      },
      {
       "output_type": "stream",
       "stream": "stdout",
       "text": [
        "                                                \r",
        "[===========                   ]   3.453/9.047MB"
       ]
      },
      {
       "output_type": "stream",
       "stream": "stdout",
       "text": [
        "                                                \r",
        "[===========                   ]   3.461/9.047MB"
       ]
      },
      {
       "output_type": "stream",
       "stream": "stdout",
       "text": [
        "                                                \r",
        "[===========                   ]   3.469/9.047MB"
       ]
      },
      {
       "output_type": "stream",
       "stream": "stdout",
       "text": [
        "                                                \r",
        "[===========                   ]   3.477/9.047MB"
       ]
      },
      {
       "output_type": "stream",
       "stream": "stdout",
       "text": [
        "                                                \r",
        "[===========                   ]   3.484/9.047MB"
       ]
      },
      {
       "output_type": "stream",
       "stream": "stdout",
       "text": [
        "                                                \r",
        "[===========                   ]   3.492/9.047MB"
       ]
      },
      {
       "output_type": "stream",
       "stream": "stdout",
       "text": [
        "                                                \r",
        "[===========                   ]   3.500/9.047MB"
       ]
      },
      {
       "output_type": "stream",
       "stream": "stdout",
       "text": [
        "                                                \r",
        "[===========                   ]   3.508/9.047MB"
       ]
      },
      {
       "output_type": "stream",
       "stream": "stdout",
       "text": [
        "                                                \r",
        "[===========                   ]   3.516/9.047MB"
       ]
      },
      {
       "output_type": "stream",
       "stream": "stdout",
       "text": [
        "                                                \r",
        "[===========                   ]   3.523/9.047MB"
       ]
      },
      {
       "output_type": "stream",
       "stream": "stdout",
       "text": [
        "                                                \r",
        "[===========                   ]   3.531/9.047MB"
       ]
      },
      {
       "output_type": "stream",
       "stream": "stdout",
       "text": [
        "                                                \r",
        "[===========                   ]   3.539/9.047MB"
       ]
      },
      {
       "output_type": "stream",
       "stream": "stdout",
       "text": [
        "                                                \r",
        "[===========                   ]   3.547/9.047MB"
       ]
      },
      {
       "output_type": "stream",
       "stream": "stdout",
       "text": [
        "                                                \r",
        "[===========                   ]   3.555/9.047MB"
       ]
      },
      {
       "output_type": "stream",
       "stream": "stdout",
       "text": [
        "                                                \r",
        "[===========                   ]   3.562/9.047MB"
       ]
      },
      {
       "output_type": "stream",
       "stream": "stdout",
       "text": [
        "                                                \r",
        "[===========                   ]   3.570/9.047MB"
       ]
      },
      {
       "output_type": "stream",
       "stream": "stdout",
       "text": [
        "                                                \r",
        "[===========                   ]   3.578/9.047MB"
       ]
      },
      {
       "output_type": "stream",
       "stream": "stdout",
       "text": [
        "                                                \r",
        "[===========                   ]   3.586/9.047MB"
       ]
      },
      {
       "output_type": "stream",
       "stream": "stdout",
       "text": [
        "                                                \r",
        "[===========                   ]   3.594/9.047MB"
       ]
      },
      {
       "output_type": "stream",
       "stream": "stdout",
       "text": [
        "                                                \r",
        "[===========                   ]   3.602/9.047MB"
       ]
      },
      {
       "output_type": "stream",
       "stream": "stdout",
       "text": [
        "                                                \r",
        "[===========                   ]   3.609/9.047MB"
       ]
      },
      {
       "output_type": "stream",
       "stream": "stdout",
       "text": [
        "                                                \r",
        "[===========                   ]   3.617/9.047MB"
       ]
      },
      {
       "output_type": "stream",
       "stream": "stdout",
       "text": [
        "                                                \r",
        "[============                  ]   3.625/9.047MB"
       ]
      },
      {
       "output_type": "stream",
       "stream": "stdout",
       "text": [
        "                                                \r",
        "[============                  ]   3.633/9.047MB"
       ]
      },
      {
       "output_type": "stream",
       "stream": "stdout",
       "text": [
        "                                                \r",
        "[============                  ]   3.641/9.047MB"
       ]
      },
      {
       "output_type": "stream",
       "stream": "stdout",
       "text": [
        "                                                \r",
        "[============                  ]   3.648/9.047MB"
       ]
      },
      {
       "output_type": "stream",
       "stream": "stdout",
       "text": [
        "                                                \r",
        "[============                  ]   3.656/9.047MB"
       ]
      },
      {
       "output_type": "stream",
       "stream": "stdout",
       "text": [
        "                                                \r",
        "[============                  ]   3.664/9.047MB"
       ]
      },
      {
       "output_type": "stream",
       "stream": "stdout",
       "text": [
        "                                                \r",
        "[============                  ]   3.672/9.047MB"
       ]
      },
      {
       "output_type": "stream",
       "stream": "stdout",
       "text": [
        "                                                \r",
        "[============                  ]   3.680/9.047MB"
       ]
      },
      {
       "output_type": "stream",
       "stream": "stdout",
       "text": [
        "                                                \r",
        "[============                  ]   3.688/9.047MB"
       ]
      },
      {
       "output_type": "stream",
       "stream": "stdout",
       "text": [
        "                                                \r",
        "[============                  ]   3.695/9.047MB"
       ]
      },
      {
       "output_type": "stream",
       "stream": "stdout",
       "text": [
        "                                                \r",
        "[============                  ]   3.703/9.047MB"
       ]
      },
      {
       "output_type": "stream",
       "stream": "stdout",
       "text": [
        "                                                \r",
        "[============                  ]   3.711/9.047MB"
       ]
      },
      {
       "output_type": "stream",
       "stream": "stdout",
       "text": [
        "                                                \r",
        "[============                  ]   3.719/9.047MB"
       ]
      },
      {
       "output_type": "stream",
       "stream": "stdout",
       "text": [
        "                                                \r",
        "[============                  ]   3.727/9.047MB"
       ]
      },
      {
       "output_type": "stream",
       "stream": "stdout",
       "text": [
        "                                                \r",
        "[============                  ]   3.734/9.047MB"
       ]
      },
      {
       "output_type": "stream",
       "stream": "stdout",
       "text": [
        "                                                \r",
        "[============                  ]   3.742/9.047MB"
       ]
      },
      {
       "output_type": "stream",
       "stream": "stdout",
       "text": [
        "                                                \r",
        "[============                  ]   3.750/9.047MB"
       ]
      },
      {
       "output_type": "stream",
       "stream": "stdout",
       "text": [
        "                                                \r",
        "[============                  ]   3.758/9.047MB"
       ]
      },
      {
       "output_type": "stream",
       "stream": "stdout",
       "text": [
        "                                                \r",
        "[============                  ]   3.766/9.047MB"
       ]
      },
      {
       "output_type": "stream",
       "stream": "stdout",
       "text": [
        "                                                \r",
        "[============                  ]   3.773/9.047MB"
       ]
      },
      {
       "output_type": "stream",
       "stream": "stdout",
       "text": [
        "                                                \r",
        "[============                  ]   3.781/9.047MB"
       ]
      },
      {
       "output_type": "stream",
       "stream": "stdout",
       "text": [
        "                                                \r",
        "[============                  ]   3.789/9.047MB"
       ]
      },
      {
       "output_type": "stream",
       "stream": "stdout",
       "text": [
        "                                                \r",
        "[============                  ]   3.797/9.047MB"
       ]
      },
      {
       "output_type": "stream",
       "stream": "stdout",
       "text": [
        "                                                \r",
        "[============                  ]   3.805/9.047MB"
       ]
      },
      {
       "output_type": "stream",
       "stream": "stdout",
       "text": [
        "                                                \r",
        "[============                  ]   3.812/9.047MB"
       ]
      },
      {
       "output_type": "stream",
       "stream": "stdout",
       "text": [
        "                                                \r",
        "[============                  ]   3.820/9.047MB"
       ]
      },
      {
       "output_type": "stream",
       "stream": "stdout",
       "text": [
        "                                                \r",
        "[============                  ]   3.828/9.047MB"
       ]
      },
      {
       "output_type": "stream",
       "stream": "stdout",
       "text": [
        "                                                \r",
        "[============                  ]   3.836/9.047MB"
       ]
      },
      {
       "output_type": "stream",
       "stream": "stdout",
       "text": [
        "                                                \r",
        "[============                  ]   3.844/9.047MB"
       ]
      },
      {
       "output_type": "stream",
       "stream": "stdout",
       "text": [
        "                                                \r",
        "[============                  ]   3.852/9.047MB"
       ]
      },
      {
       "output_type": "stream",
       "stream": "stdout",
       "text": [
        "                                                \r",
        "[============                  ]   3.859/9.047MB"
       ]
      },
      {
       "output_type": "stream",
       "stream": "stdout",
       "text": [
        "                                                \r",
        "[============                  ]   3.867/9.047MB"
       ]
      },
      {
       "output_type": "stream",
       "stream": "stdout",
       "text": [
        "                                                \r",
        "[============                  ]   3.875/9.047MB"
       ]
      },
      {
       "output_type": "stream",
       "stream": "stdout",
       "text": [
        "                                                \r",
        "[============                  ]   3.883/9.047MB"
       ]
      },
      {
       "output_type": "stream",
       "stream": "stdout",
       "text": [
        "                                                \r",
        "[============                  ]   3.891/9.047MB"
       ]
      },
      {
       "output_type": "stream",
       "stream": "stdout",
       "text": [
        "                                                \r",
        "[============                  ]   3.898/9.047MB"
       ]
      },
      {
       "output_type": "stream",
       "stream": "stdout",
       "text": [
        "                                                \r",
        "[============                  ]   3.906/9.047MB"
       ]
      },
      {
       "output_type": "stream",
       "stream": "stdout",
       "text": [
        "                                                \r",
        "[============                  ]   3.914/9.047MB"
       ]
      },
      {
       "output_type": "stream",
       "stream": "stdout",
       "text": [
        "                                                \r",
        "[=============                 ]   3.922/9.047MB"
       ]
      },
      {
       "output_type": "stream",
       "stream": "stdout",
       "text": [
        "                                                \r",
        "[=============                 ]   3.930/9.047MB"
       ]
      },
      {
       "output_type": "stream",
       "stream": "stdout",
       "text": [
        "                                                \r",
        "[=============                 ]   3.938/9.047MB"
       ]
      },
      {
       "output_type": "stream",
       "stream": "stdout",
       "text": [
        "                                                \r",
        "[=============                 ]   3.945/9.047MB"
       ]
      },
      {
       "output_type": "stream",
       "stream": "stdout",
       "text": [
        "                                                \r",
        "[=============                 ]   3.953/9.047MB"
       ]
      },
      {
       "output_type": "stream",
       "stream": "stdout",
       "text": [
        "                                                \r",
        "[=============                 ]   3.961/9.047MB"
       ]
      },
      {
       "output_type": "stream",
       "stream": "stdout",
       "text": [
        "                                                \r",
        "[=============                 ]   3.969/9.047MB"
       ]
      },
      {
       "output_type": "stream",
       "stream": "stdout",
       "text": [
        "                                                \r",
        "[=============                 ]   3.977/9.047MB"
       ]
      },
      {
       "output_type": "stream",
       "stream": "stdout",
       "text": [
        "                                                \r",
        "[=============                 ]   3.984/9.047MB"
       ]
      },
      {
       "output_type": "stream",
       "stream": "stdout",
       "text": [
        "                                                \r",
        "[=============                 ]   3.992/9.047MB"
       ]
      },
      {
       "output_type": "stream",
       "stream": "stdout",
       "text": [
        "                                                \r",
        "[=============                 ]   4.000/9.047MB"
       ]
      },
      {
       "output_type": "stream",
       "stream": "stdout",
       "text": [
        "                                                \r",
        "[=============                 ]   4.008/9.047MB"
       ]
      },
      {
       "output_type": "stream",
       "stream": "stdout",
       "text": [
        "                                                \r",
        "[=============                 ]   4.016/9.047MB"
       ]
      },
      {
       "output_type": "stream",
       "stream": "stdout",
       "text": [
        "                                                \r",
        "[=============                 ]   4.023/9.047MB"
       ]
      },
      {
       "output_type": "stream",
       "stream": "stdout",
       "text": [
        "                                                \r",
        "[=============                 ]   4.031/9.047MB"
       ]
      },
      {
       "output_type": "stream",
       "stream": "stdout",
       "text": [
        "                                                \r",
        "[=============                 ]   4.039/9.047MB"
       ]
      },
      {
       "output_type": "stream",
       "stream": "stdout",
       "text": [
        "                                                \r",
        "[=============                 ]   4.047/9.047MB"
       ]
      },
      {
       "output_type": "stream",
       "stream": "stdout",
       "text": [
        "                                                \r",
        "[=============                 ]   4.055/9.047MB"
       ]
      },
      {
       "output_type": "stream",
       "stream": "stdout",
       "text": [
        "                                                \r",
        "[=============                 ]   4.062/9.047MB"
       ]
      },
      {
       "output_type": "stream",
       "stream": "stdout",
       "text": [
        "                                                \r",
        "[=============                 ]   4.070/9.047MB"
       ]
      },
      {
       "output_type": "stream",
       "stream": "stdout",
       "text": [
        "                                                \r",
        "[=============                 ]   4.078/9.047MB"
       ]
      },
      {
       "output_type": "stream",
       "stream": "stdout",
       "text": [
        "                                                \r",
        "[=============                 ]   4.086/9.047MB"
       ]
      },
      {
       "output_type": "stream",
       "stream": "stdout",
       "text": [
        "                                                \r",
        "[=============                 ]   4.094/9.047MB"
       ]
      },
      {
       "output_type": "stream",
       "stream": "stdout",
       "text": [
        "                                                \r",
        "[=============                 ]   4.102/9.047MB"
       ]
      },
      {
       "output_type": "stream",
       "stream": "stdout",
       "text": [
        "                                                \r",
        "[=============                 ]   4.109/9.047MB"
       ]
      },
      {
       "output_type": "stream",
       "stream": "stdout",
       "text": [
        "                                                \r",
        "[=============                 ]   4.117/9.047MB"
       ]
      },
      {
       "output_type": "stream",
       "stream": "stdout",
       "text": [
        "                                                \r",
        "[=============                 ]   4.125/9.047MB"
       ]
      },
      {
       "output_type": "stream",
       "stream": "stdout",
       "text": [
        "                                                \r",
        "[=============                 ]   4.133/9.047MB"
       ]
      },
      {
       "output_type": "stream",
       "stream": "stdout",
       "text": [
        "                                                \r",
        "[=============                 ]   4.141/9.047MB"
       ]
      },
      {
       "output_type": "stream",
       "stream": "stdout",
       "text": [
        "                                                \r",
        "[=============                 ]   4.148/9.047MB"
       ]
      },
      {
       "output_type": "stream",
       "stream": "stdout",
       "text": [
        "                                                \r",
        "[=============                 ]   4.156/9.047MB"
       ]
      },
      {
       "output_type": "stream",
       "stream": "stdout",
       "text": [
        "                                                \r",
        "[=============                 ]   4.164/9.047MB"
       ]
      },
      {
       "output_type": "stream",
       "stream": "stdout",
       "text": [
        "                                                \r",
        "[=============                 ]   4.172/9.047MB"
       ]
      },
      {
       "output_type": "stream",
       "stream": "stdout",
       "text": [
        "                                                \r",
        "[=============                 ]   4.180/9.047MB"
       ]
      },
      {
       "output_type": "stream",
       "stream": "stdout",
       "text": [
        "                                                \r",
        "[=============                 ]   4.188/9.047MB"
       ]
      },
      {
       "output_type": "stream",
       "stream": "stdout",
       "text": [
        "                                                \r",
        "[=============                 ]   4.195/9.047MB"
       ]
      },
      {
       "output_type": "stream",
       "stream": "stdout",
       "text": [
        "                                                \r",
        "[=============                 ]   4.203/9.047MB"
       ]
      },
      {
       "output_type": "stream",
       "stream": "stdout",
       "text": [
        "                                                \r",
        "[=============                 ]   4.211/9.047MB"
       ]
      },
      {
       "output_type": "stream",
       "stream": "stdout",
       "text": [
        "                                                \r",
        "[=============                 ]   4.219/9.047MB"
       ]
      },
      {
       "output_type": "stream",
       "stream": "stdout",
       "text": [
        "                                                \r",
        "[==============                ]   4.227/9.047MB"
       ]
      },
      {
       "output_type": "stream",
       "stream": "stdout",
       "text": [
        "                                                \r",
        "[==============                ]   4.234/9.047MB"
       ]
      },
      {
       "output_type": "stream",
       "stream": "stdout",
       "text": [
        "                                                \r",
        "[==============                ]   4.242/9.047MB"
       ]
      },
      {
       "output_type": "stream",
       "stream": "stdout",
       "text": [
        "                                                \r",
        "[==============                ]   4.250/9.047MB"
       ]
      },
      {
       "output_type": "stream",
       "stream": "stdout",
       "text": [
        "                                                \r",
        "[==============                ]   4.258/9.047MB"
       ]
      },
      {
       "output_type": "stream",
       "stream": "stdout",
       "text": [
        "                                                \r",
        "[==============                ]   4.266/9.047MB"
       ]
      },
      {
       "output_type": "stream",
       "stream": "stdout",
       "text": [
        "                                                \r",
        "[==============                ]   4.273/9.047MB"
       ]
      },
      {
       "output_type": "stream",
       "stream": "stdout",
       "text": [
        "                                                \r",
        "[==============                ]   4.281/9.047MB"
       ]
      },
      {
       "output_type": "stream",
       "stream": "stdout",
       "text": [
        "                                                \r",
        "[==============                ]   4.289/9.047MB"
       ]
      },
      {
       "output_type": "stream",
       "stream": "stdout",
       "text": [
        "                                                \r",
        "[==============                ]   4.297/9.047MB"
       ]
      },
      {
       "output_type": "stream",
       "stream": "stdout",
       "text": [
        "                                                \r",
        "[==============                ]   4.305/9.047MB"
       ]
      },
      {
       "output_type": "stream",
       "stream": "stdout",
       "text": [
        "                                                \r",
        "[==============                ]   4.312/9.047MB"
       ]
      },
      {
       "output_type": "stream",
       "stream": "stdout",
       "text": [
        "                                                \r",
        "[==============                ]   4.320/9.047MB"
       ]
      },
      {
       "output_type": "stream",
       "stream": "stdout",
       "text": [
        "                                                \r",
        "[==============                ]   4.328/9.047MB"
       ]
      },
      {
       "output_type": "stream",
       "stream": "stdout",
       "text": [
        "                                                \r",
        "[==============                ]   4.336/9.047MB"
       ]
      },
      {
       "output_type": "stream",
       "stream": "stdout",
       "text": [
        "                                                \r",
        "[==============                ]   4.344/9.047MB"
       ]
      },
      {
       "output_type": "stream",
       "stream": "stdout",
       "text": [
        "                                                \r",
        "[==============                ]   4.352/9.047MB"
       ]
      },
      {
       "output_type": "stream",
       "stream": "stdout",
       "text": [
        "                                                \r",
        "[==============                ]   4.359/9.047MB"
       ]
      },
      {
       "output_type": "stream",
       "stream": "stdout",
       "text": [
        "                                                \r",
        "[==============                ]   4.367/9.047MB"
       ]
      },
      {
       "output_type": "stream",
       "stream": "stdout",
       "text": [
        "                                                \r",
        "[==============                ]   4.375/9.047MB"
       ]
      },
      {
       "output_type": "stream",
       "stream": "stdout",
       "text": [
        "                                                \r",
        "[==============                ]   4.383/9.047MB"
       ]
      },
      {
       "output_type": "stream",
       "stream": "stdout",
       "text": [
        "                                                \r",
        "[==============                ]   4.391/9.047MB"
       ]
      },
      {
       "output_type": "stream",
       "stream": "stdout",
       "text": [
        "                                                \r",
        "[==============                ]   4.398/9.047MB"
       ]
      },
      {
       "output_type": "stream",
       "stream": "stdout",
       "text": [
        "                                                \r",
        "[==============                ]   4.406/9.047MB"
       ]
      },
      {
       "output_type": "stream",
       "stream": "stdout",
       "text": [
        "                                                \r",
        "[==============                ]   4.414/9.047MB"
       ]
      },
      {
       "output_type": "stream",
       "stream": "stdout",
       "text": [
        "                                                \r",
        "[==============                ]   4.422/9.047MB"
       ]
      },
      {
       "output_type": "stream",
       "stream": "stdout",
       "text": [
        "                                                \r",
        "[==============                ]   4.430/9.047MB"
       ]
      },
      {
       "output_type": "stream",
       "stream": "stdout",
       "text": [
        "                                                \r",
        "[==============                ]   4.438/9.047MB"
       ]
      },
      {
       "output_type": "stream",
       "stream": "stdout",
       "text": [
        "                                                \r",
        "[==============                ]   4.445/9.047MB"
       ]
      },
      {
       "output_type": "stream",
       "stream": "stdout",
       "text": [
        "                                                \r",
        "[==============                ]   4.453/9.047MB"
       ]
      },
      {
       "output_type": "stream",
       "stream": "stdout",
       "text": [
        "                                                \r",
        "[==============                ]   4.461/9.047MB"
       ]
      },
      {
       "output_type": "stream",
       "stream": "stdout",
       "text": [
        "                                                \r",
        "[==============                ]   4.469/9.047MB"
       ]
      },
      {
       "output_type": "stream",
       "stream": "stdout",
       "text": [
        "                                                \r",
        "[==============                ]   4.477/9.047MB"
       ]
      },
      {
       "output_type": "stream",
       "stream": "stdout",
       "text": [
        "                                                \r",
        "[==============                ]   4.484/9.047MB"
       ]
      },
      {
       "output_type": "stream",
       "stream": "stdout",
       "text": [
        "                                                \r",
        "[==============                ]   4.492/9.047MB"
       ]
      },
      {
       "output_type": "stream",
       "stream": "stdout",
       "text": [
        "                                                \r",
        "[==============                ]   4.500/9.047MB"
       ]
      },
      {
       "output_type": "stream",
       "stream": "stdout",
       "text": [
        "                                                \r",
        "[==============                ]   4.508/9.047MB"
       ]
      },
      {
       "output_type": "stream",
       "stream": "stdout",
       "text": [
        "                                                \r",
        "[==============                ]   4.516/9.047MB"
       ]
      },
      {
       "output_type": "stream",
       "stream": "stdout",
       "text": [
        "                                                \r",
        "[===============               ]   4.523/9.047MB"
       ]
      },
      {
       "output_type": "stream",
       "stream": "stdout",
       "text": [
        "                                                \r",
        "[===============               ]   4.531/9.047MB"
       ]
      },
      {
       "output_type": "stream",
       "stream": "stdout",
       "text": [
        "                                                \r",
        "[===============               ]   4.539/9.047MB"
       ]
      },
      {
       "output_type": "stream",
       "stream": "stdout",
       "text": [
        "                                                \r",
        "[===============               ]   4.547/9.047MB"
       ]
      },
      {
       "output_type": "stream",
       "stream": "stdout",
       "text": [
        "                                                \r",
        "[===============               ]   4.555/9.047MB"
       ]
      },
      {
       "output_type": "stream",
       "stream": "stdout",
       "text": [
        "                                                \r",
        "[===============               ]   4.562/9.047MB"
       ]
      },
      {
       "output_type": "stream",
       "stream": "stdout",
       "text": [
        "                                                \r",
        "[===============               ]   4.570/9.047MB"
       ]
      },
      {
       "output_type": "stream",
       "stream": "stdout",
       "text": [
        "                                                \r",
        "[===============               ]   4.578/9.047MB"
       ]
      },
      {
       "output_type": "stream",
       "stream": "stdout",
       "text": [
        "                                                \r",
        "[===============               ]   4.586/9.047MB"
       ]
      },
      {
       "output_type": "stream",
       "stream": "stdout",
       "text": [
        "                                                \r",
        "[===============               ]   4.594/9.047MB"
       ]
      },
      {
       "output_type": "stream",
       "stream": "stdout",
       "text": [
        "                                                \r",
        "[===============               ]   4.602/9.047MB"
       ]
      },
      {
       "output_type": "stream",
       "stream": "stdout",
       "text": [
        "                                                \r",
        "[===============               ]   4.609/9.047MB"
       ]
      },
      {
       "output_type": "stream",
       "stream": "stdout",
       "text": [
        "                                                \r",
        "[===============               ]   4.617/9.047MB"
       ]
      },
      {
       "output_type": "stream",
       "stream": "stdout",
       "text": [
        "                                                \r",
        "[===============               ]   4.625/9.047MB"
       ]
      },
      {
       "output_type": "stream",
       "stream": "stdout",
       "text": [
        "                                                \r",
        "[===============               ]   4.633/9.047MB"
       ]
      },
      {
       "output_type": "stream",
       "stream": "stdout",
       "text": [
        "                                                \r",
        "[===============               ]   4.641/9.047MB"
       ]
      },
      {
       "output_type": "stream",
       "stream": "stdout",
       "text": [
        "                                                \r",
        "[===============               ]   4.648/9.047MB"
       ]
      },
      {
       "output_type": "stream",
       "stream": "stdout",
       "text": [
        "                                                \r",
        "[===============               ]   4.656/9.047MB"
       ]
      },
      {
       "output_type": "stream",
       "stream": "stdout",
       "text": [
        "                                                \r",
        "[===============               ]   4.664/9.047MB"
       ]
      },
      {
       "output_type": "stream",
       "stream": "stdout",
       "text": [
        "                                                \r",
        "[===============               ]   4.672/9.047MB"
       ]
      },
      {
       "output_type": "stream",
       "stream": "stdout",
       "text": [
        "                                                \r",
        "[===============               ]   4.680/9.047MB"
       ]
      },
      {
       "output_type": "stream",
       "stream": "stdout",
       "text": [
        "                                                \r",
        "[===============               ]   4.688/9.047MB"
       ]
      },
      {
       "output_type": "stream",
       "stream": "stdout",
       "text": [
        "                                                \r",
        "[===============               ]   4.695/9.047MB"
       ]
      },
      {
       "output_type": "stream",
       "stream": "stdout",
       "text": [
        "                                                \r",
        "[===============               ]   4.703/9.047MB"
       ]
      },
      {
       "output_type": "stream",
       "stream": "stdout",
       "text": [
        "                                                \r",
        "[===============               ]   4.711/9.047MB"
       ]
      },
      {
       "output_type": "stream",
       "stream": "stdout",
       "text": [
        "                                                \r",
        "[===============               ]   4.719/9.047MB"
       ]
      },
      {
       "output_type": "stream",
       "stream": "stdout",
       "text": [
        "                                                \r",
        "[===============               ]   4.727/9.047MB"
       ]
      },
      {
       "output_type": "stream",
       "stream": "stdout",
       "text": [
        "                                                \r",
        "[===============               ]   4.734/9.047MB"
       ]
      },
      {
       "output_type": "stream",
       "stream": "stdout",
       "text": [
        "                                                \r",
        "[===============               ]   4.742/9.047MB"
       ]
      },
      {
       "output_type": "stream",
       "stream": "stdout",
       "text": [
        "                                                \r",
        "[===============               ]   4.750/9.047MB"
       ]
      },
      {
       "output_type": "stream",
       "stream": "stdout",
       "text": [
        "                                                \r",
        "[===============               ]   4.758/9.047MB"
       ]
      },
      {
       "output_type": "stream",
       "stream": "stdout",
       "text": [
        "                                                \r",
        "[===============               ]   4.766/9.047MB"
       ]
      },
      {
       "output_type": "stream",
       "stream": "stdout",
       "text": [
        "                                                \r",
        "[===============               ]   4.773/9.047MB"
       ]
      },
      {
       "output_type": "stream",
       "stream": "stdout",
       "text": [
        "                                                \r",
        "[===============               ]   4.781/9.047MB"
       ]
      },
      {
       "output_type": "stream",
       "stream": "stdout",
       "text": [
        "                                                \r",
        "[===============               ]   4.789/9.047MB"
       ]
      },
      {
       "output_type": "stream",
       "stream": "stdout",
       "text": [
        "                                                \r",
        "[===============               ]   4.797/9.047MB"
       ]
      },
      {
       "output_type": "stream",
       "stream": "stdout",
       "text": [
        "                                                \r",
        "[===============               ]   4.805/9.047MB"
       ]
      },
      {
       "output_type": "stream",
       "stream": "stdout",
       "text": [
        "                                                \r",
        "[===============               ]   4.812/9.047MB"
       ]
      },
      {
       "output_type": "stream",
       "stream": "stdout",
       "text": [
        "                                                \r",
        "[===============               ]   4.820/9.047MB"
       ]
      },
      {
       "output_type": "stream",
       "stream": "stdout",
       "text": [
        "                                                \r",
        "[================              ]   4.828/9.047MB"
       ]
      },
      {
       "output_type": "stream",
       "stream": "stdout",
       "text": [
        "                                                \r",
        "[================              ]   4.836/9.047MB"
       ]
      },
      {
       "output_type": "stream",
       "stream": "stdout",
       "text": [
        "                                                \r",
        "[================              ]   4.844/9.047MB"
       ]
      },
      {
       "output_type": "stream",
       "stream": "stdout",
       "text": [
        "                                                \r",
        "[================              ]   4.852/9.047MB"
       ]
      },
      {
       "output_type": "stream",
       "stream": "stdout",
       "text": [
        "                                                \r",
        "[================              ]   4.859/9.047MB"
       ]
      },
      {
       "output_type": "stream",
       "stream": "stdout",
       "text": [
        "                                                \r",
        "[================              ]   4.867/9.047MB"
       ]
      },
      {
       "output_type": "stream",
       "stream": "stdout",
       "text": [
        "                                                \r",
        "[================              ]   4.875/9.047MB"
       ]
      },
      {
       "output_type": "stream",
       "stream": "stdout",
       "text": [
        "                                                \r",
        "[================              ]   4.883/9.047MB"
       ]
      },
      {
       "output_type": "stream",
       "stream": "stdout",
       "text": [
        "                                                \r",
        "[================              ]   4.891/9.047MB"
       ]
      },
      {
       "output_type": "stream",
       "stream": "stdout",
       "text": [
        "                                                \r",
        "[================              ]   4.898/9.047MB"
       ]
      },
      {
       "output_type": "stream",
       "stream": "stdout",
       "text": [
        "                                                \r",
        "[================              ]   4.906/9.047MB"
       ]
      },
      {
       "output_type": "stream",
       "stream": "stdout",
       "text": [
        "                                                \r",
        "[================              ]   4.914/9.047MB"
       ]
      },
      {
       "output_type": "stream",
       "stream": "stdout",
       "text": [
        "                                                \r",
        "[================              ]   4.922/9.047MB"
       ]
      },
      {
       "output_type": "stream",
       "stream": "stdout",
       "text": [
        "                                                \r",
        "[================              ]   4.930/9.047MB"
       ]
      },
      {
       "output_type": "stream",
       "stream": "stdout",
       "text": [
        "                                                \r",
        "[================              ]   4.938/9.047MB"
       ]
      },
      {
       "output_type": "stream",
       "stream": "stdout",
       "text": [
        "                                                \r",
        "[================              ]   4.945/9.047MB"
       ]
      },
      {
       "output_type": "stream",
       "stream": "stdout",
       "text": [
        "                                                \r",
        "[================              ]   4.953/9.047MB"
       ]
      },
      {
       "output_type": "stream",
       "stream": "stdout",
       "text": [
        "                                                \r",
        "[================              ]   4.961/9.047MB"
       ]
      },
      {
       "output_type": "stream",
       "stream": "stdout",
       "text": [
        "                                                \r",
        "[================              ]   4.969/9.047MB"
       ]
      },
      {
       "output_type": "stream",
       "stream": "stdout",
       "text": [
        "                                                \r",
        "[================              ]   4.977/9.047MB"
       ]
      },
      {
       "output_type": "stream",
       "stream": "stdout",
       "text": [
        "                                                \r",
        "[================              ]   4.984/9.047MB"
       ]
      },
      {
       "output_type": "stream",
       "stream": "stdout",
       "text": [
        "                                                \r",
        "[================              ]   4.992/9.047MB"
       ]
      },
      {
       "output_type": "stream",
       "stream": "stdout",
       "text": [
        "                                                \r",
        "[================              ]   5.000/9.047MB"
       ]
      },
      {
       "output_type": "stream",
       "stream": "stdout",
       "text": [
        "                                                \r",
        "[================              ]   5.008/9.047MB"
       ]
      },
      {
       "output_type": "stream",
       "stream": "stdout",
       "text": [
        "                                                \r",
        "[================              ]   5.016/9.047MB"
       ]
      },
      {
       "output_type": "stream",
       "stream": "stdout",
       "text": [
        "                                                \r",
        "[================              ]   5.023/9.047MB"
       ]
      },
      {
       "output_type": "stream",
       "stream": "stdout",
       "text": [
        "                                                \r",
        "[================              ]   5.031/9.047MB"
       ]
      },
      {
       "output_type": "stream",
       "stream": "stdout",
       "text": [
        "                                                \r",
        "[================              ]   5.039/9.047MB"
       ]
      },
      {
       "output_type": "stream",
       "stream": "stdout",
       "text": [
        "                                                \r",
        "[================              ]   5.047/9.047MB"
       ]
      },
      {
       "output_type": "stream",
       "stream": "stdout",
       "text": [
        "                                                \r",
        "[================              ]   5.055/9.047MB"
       ]
      },
      {
       "output_type": "stream",
       "stream": "stdout",
       "text": [
        "                                                \r",
        "[================              ]   5.062/9.047MB"
       ]
      },
      {
       "output_type": "stream",
       "stream": "stdout",
       "text": [
        "                                                \r",
        "[================              ]   5.070/9.047MB"
       ]
      },
      {
       "output_type": "stream",
       "stream": "stdout",
       "text": [
        "                                                \r",
        "[================              ]   5.078/9.047MB"
       ]
      },
      {
       "output_type": "stream",
       "stream": "stdout",
       "text": [
        "                                                \r",
        "[================              ]   5.086/9.047MB"
       ]
      },
      {
       "output_type": "stream",
       "stream": "stdout",
       "text": [
        "                                                \r",
        "[================              ]   5.094/9.047MB"
       ]
      },
      {
       "output_type": "stream",
       "stream": "stdout",
       "text": [
        "                                                \r",
        "[================              ]   5.102/9.047MB"
       ]
      },
      {
       "output_type": "stream",
       "stream": "stdout",
       "text": [
        "                                                \r",
        "[================              ]   5.109/9.047MB"
       ]
      },
      {
       "output_type": "stream",
       "stream": "stdout",
       "text": [
        "                                                \r",
        "[================              ]   5.117/9.047MB"
       ]
      },
      {
       "output_type": "stream",
       "stream": "stdout",
       "text": [
        "                                                \r",
        "[================              ]   5.125/9.047MB"
       ]
      },
      {
       "output_type": "stream",
       "stream": "stdout",
       "text": [
        "                                                \r",
        "[=================             ]   5.133/9.047MB"
       ]
      },
      {
       "output_type": "stream",
       "stream": "stdout",
       "text": [
        "                                                \r",
        "[=================             ]   5.141/9.047MB"
       ]
      },
      {
       "output_type": "stream",
       "stream": "stdout",
       "text": [
        "                                                \r",
        "[=================             ]   5.148/9.047MB"
       ]
      },
      {
       "output_type": "stream",
       "stream": "stdout",
       "text": [
        "                                                \r",
        "[=================             ]   5.156/9.047MB"
       ]
      },
      {
       "output_type": "stream",
       "stream": "stdout",
       "text": [
        "                                                \r",
        "[=================             ]   5.164/9.047MB"
       ]
      },
      {
       "output_type": "stream",
       "stream": "stdout",
       "text": [
        "                                                \r",
        "[=================             ]   5.172/9.047MB"
       ]
      },
      {
       "output_type": "stream",
       "stream": "stdout",
       "text": [
        "                                                \r",
        "[=================             ]   5.180/9.047MB"
       ]
      },
      {
       "output_type": "stream",
       "stream": "stdout",
       "text": [
        "                                                \r",
        "[=================             ]   5.188/9.047MB"
       ]
      },
      {
       "output_type": "stream",
       "stream": "stdout",
       "text": [
        "                                                \r",
        "[=================             ]   5.195/9.047MB"
       ]
      },
      {
       "output_type": "stream",
       "stream": "stdout",
       "text": [
        "                                                \r",
        "[=================             ]   5.203/9.047MB"
       ]
      },
      {
       "output_type": "stream",
       "stream": "stdout",
       "text": [
        "                                                \r",
        "[=================             ]   5.211/9.047MB"
       ]
      },
      {
       "output_type": "stream",
       "stream": "stdout",
       "text": [
        "                                                \r",
        "[=================             ]   5.219/9.047MB"
       ]
      },
      {
       "output_type": "stream",
       "stream": "stdout",
       "text": [
        "                                                \r",
        "[=================             ]   5.227/9.047MB"
       ]
      },
      {
       "output_type": "stream",
       "stream": "stdout",
       "text": [
        "                                                \r",
        "[=================             ]   5.234/9.047MB"
       ]
      },
      {
       "output_type": "stream",
       "stream": "stdout",
       "text": [
        "                                                \r",
        "[=================             ]   5.242/9.047MB"
       ]
      },
      {
       "output_type": "stream",
       "stream": "stdout",
       "text": [
        "                                                \r",
        "[=================             ]   5.250/9.047MB"
       ]
      },
      {
       "output_type": "stream",
       "stream": "stdout",
       "text": [
        "                                                \r",
        "[=================             ]   5.258/9.047MB"
       ]
      },
      {
       "output_type": "stream",
       "stream": "stdout",
       "text": [
        "                                                \r",
        "[=================             ]   5.266/9.047MB"
       ]
      },
      {
       "output_type": "stream",
       "stream": "stdout",
       "text": [
        "                                                \r",
        "[=================             ]   5.273/9.047MB"
       ]
      },
      {
       "output_type": "stream",
       "stream": "stdout",
       "text": [
        "                                                \r",
        "[=================             ]   5.281/9.047MB"
       ]
      },
      {
       "output_type": "stream",
       "stream": "stdout",
       "text": [
        "                                                \r",
        "[=================             ]   5.289/9.047MB"
       ]
      },
      {
       "output_type": "stream",
       "stream": "stdout",
       "text": [
        "                                                \r",
        "[=================             ]   5.297/9.047MB"
       ]
      },
      {
       "output_type": "stream",
       "stream": "stdout",
       "text": [
        "                                                \r",
        "[=================             ]   5.305/9.047MB"
       ]
      },
      {
       "output_type": "stream",
       "stream": "stdout",
       "text": [
        "                                                \r",
        "[=================             ]   5.312/9.047MB"
       ]
      },
      {
       "output_type": "stream",
       "stream": "stdout",
       "text": [
        "                                                \r",
        "[=================             ]   5.320/9.047MB"
       ]
      },
      {
       "output_type": "stream",
       "stream": "stdout",
       "text": [
        "                                                \r",
        "[=================             ]   5.328/9.047MB"
       ]
      },
      {
       "output_type": "stream",
       "stream": "stdout",
       "text": [
        "                                                \r",
        "[=================             ]   5.336/9.047MB"
       ]
      },
      {
       "output_type": "stream",
       "stream": "stdout",
       "text": [
        "                                                \r",
        "[=================             ]   5.344/9.047MB"
       ]
      },
      {
       "output_type": "stream",
       "stream": "stdout",
       "text": [
        "                                                \r",
        "[=================             ]   5.352/9.047MB"
       ]
      },
      {
       "output_type": "stream",
       "stream": "stdout",
       "text": [
        "                                                \r",
        "[=================             ]   5.359/9.047MB"
       ]
      },
      {
       "output_type": "stream",
       "stream": "stdout",
       "text": [
        "                                                \r",
        "[=================             ]   5.367/9.047MB"
       ]
      },
      {
       "output_type": "stream",
       "stream": "stdout",
       "text": [
        "                                                \r",
        "[=================             ]   5.375/9.047MB"
       ]
      },
      {
       "output_type": "stream",
       "stream": "stdout",
       "text": [
        "                                                \r",
        "[=================             ]   5.383/9.047MB"
       ]
      },
      {
       "output_type": "stream",
       "stream": "stdout",
       "text": [
        "                                                \r",
        "[=================             ]   5.391/9.047MB"
       ]
      },
      {
       "output_type": "stream",
       "stream": "stdout",
       "text": [
        "                                                \r",
        "[=================             ]   5.398/9.047MB"
       ]
      },
      {
       "output_type": "stream",
       "stream": "stdout",
       "text": [
        "                                                \r",
        "[=================             ]   5.406/9.047MB"
       ]
      },
      {
       "output_type": "stream",
       "stream": "stdout",
       "text": [
        "                                                \r",
        "[=================             ]   5.414/9.047MB"
       ]
      },
      {
       "output_type": "stream",
       "stream": "stdout",
       "text": [
        "                                                \r",
        "[=================             ]   5.422/9.047MB"
       ]
      },
      {
       "output_type": "stream",
       "stream": "stdout",
       "text": [
        "                                                \r",
        "[==================            ]   5.430/9.047MB"
       ]
      },
      {
       "output_type": "stream",
       "stream": "stdout",
       "text": [
        "                                                \r",
        "[==================            ]   5.438/9.047MB"
       ]
      },
      {
       "output_type": "stream",
       "stream": "stdout",
       "text": [
        "                                                \r",
        "[==================            ]   5.445/9.047MB"
       ]
      },
      {
       "output_type": "stream",
       "stream": "stdout",
       "text": [
        "                                                \r",
        "[==================            ]   5.453/9.047MB"
       ]
      },
      {
       "output_type": "stream",
       "stream": "stdout",
       "text": [
        "                                                \r",
        "[==================            ]   5.461/9.047MB"
       ]
      },
      {
       "output_type": "stream",
       "stream": "stdout",
       "text": [
        "                                                \r",
        "[==================            ]   5.469/9.047MB"
       ]
      },
      {
       "output_type": "stream",
       "stream": "stdout",
       "text": [
        "                                                \r",
        "[==================            ]   5.477/9.047MB"
       ]
      },
      {
       "output_type": "stream",
       "stream": "stdout",
       "text": [
        "                                                \r",
        "[==================            ]   5.484/9.047MB"
       ]
      },
      {
       "output_type": "stream",
       "stream": "stdout",
       "text": [
        "                                                \r",
        "[==================            ]   5.492/9.047MB"
       ]
      },
      {
       "output_type": "stream",
       "stream": "stdout",
       "text": [
        "                                                \r",
        "[==================            ]   5.500/9.047MB"
       ]
      },
      {
       "output_type": "stream",
       "stream": "stdout",
       "text": [
        "                                                \r",
        "[==================            ]   5.508/9.047MB"
       ]
      },
      {
       "output_type": "stream",
       "stream": "stdout",
       "text": [
        "                                                \r",
        "[==================            ]   5.516/9.047MB"
       ]
      },
      {
       "output_type": "stream",
       "stream": "stdout",
       "text": [
        "                                                \r",
        "[==================            ]   5.523/9.047MB"
       ]
      },
      {
       "output_type": "stream",
       "stream": "stdout",
       "text": [
        "                                                \r",
        "[==================            ]   5.531/9.047MB"
       ]
      },
      {
       "output_type": "stream",
       "stream": "stdout",
       "text": [
        "                                                \r",
        "[==================            ]   5.539/9.047MB"
       ]
      },
      {
       "output_type": "stream",
       "stream": "stdout",
       "text": [
        "                                                \r",
        "[==================            ]   5.547/9.047MB"
       ]
      },
      {
       "output_type": "stream",
       "stream": "stdout",
       "text": [
        "                                                \r",
        "[==================            ]   5.555/9.047MB"
       ]
      },
      {
       "output_type": "stream",
       "stream": "stdout",
       "text": [
        "                                                \r",
        "[==================            ]   5.562/9.047MB"
       ]
      },
      {
       "output_type": "stream",
       "stream": "stdout",
       "text": [
        "                                                \r",
        "[==================            ]   5.570/9.047MB"
       ]
      },
      {
       "output_type": "stream",
       "stream": "stdout",
       "text": [
        "                                                \r",
        "[==================            ]   5.578/9.047MB"
       ]
      },
      {
       "output_type": "stream",
       "stream": "stdout",
       "text": [
        "                                                \r",
        "[==================            ]   5.586/9.047MB"
       ]
      },
      {
       "output_type": "stream",
       "stream": "stdout",
       "text": [
        "                                                \r",
        "[==================            ]   5.594/9.047MB"
       ]
      },
      {
       "output_type": "stream",
       "stream": "stdout",
       "text": [
        "                                                \r",
        "[==================            ]   5.602/9.047MB"
       ]
      },
      {
       "output_type": "stream",
       "stream": "stdout",
       "text": [
        "                                                \r",
        "[==================            ]   5.609/9.047MB"
       ]
      },
      {
       "output_type": "stream",
       "stream": "stdout",
       "text": [
        "                                                \r",
        "[==================            ]   5.617/9.047MB"
       ]
      },
      {
       "output_type": "stream",
       "stream": "stdout",
       "text": [
        "                                                \r",
        "[==================            ]   5.625/9.047MB"
       ]
      },
      {
       "output_type": "stream",
       "stream": "stdout",
       "text": [
        "                                                \r",
        "[==================            ]   5.633/9.047MB"
       ]
      },
      {
       "output_type": "stream",
       "stream": "stdout",
       "text": [
        "                                                \r",
        "[==================            ]   5.641/9.047MB"
       ]
      },
      {
       "output_type": "stream",
       "stream": "stdout",
       "text": [
        "                                                \r",
        "[==================            ]   5.648/9.047MB"
       ]
      },
      {
       "output_type": "stream",
       "stream": "stdout",
       "text": [
        "                                                \r",
        "[==================            ]   5.656/9.047MB"
       ]
      },
      {
       "output_type": "stream",
       "stream": "stdout",
       "text": [
        "                                                \r",
        "[==================            ]   5.664/9.047MB"
       ]
      },
      {
       "output_type": "stream",
       "stream": "stdout",
       "text": [
        "                                                \r",
        "[==================            ]   5.672/9.047MB"
       ]
      },
      {
       "output_type": "stream",
       "stream": "stdout",
       "text": [
        "                                                \r",
        "[==================            ]   5.680/9.047MB"
       ]
      },
      {
       "output_type": "stream",
       "stream": "stdout",
       "text": [
        "                                                \r",
        "[==================            ]   5.688/9.047MB"
       ]
      },
      {
       "output_type": "stream",
       "stream": "stdout",
       "text": [
        "                                                \r",
        "[==================            ]   5.695/9.047MB"
       ]
      },
      {
       "output_type": "stream",
       "stream": "stdout",
       "text": [
        "                                                \r",
        "[==================            ]   5.703/9.047MB"
       ]
      },
      {
       "output_type": "stream",
       "stream": "stdout",
       "text": [
        "                                                \r",
        "[==================            ]   5.711/9.047MB"
       ]
      },
      {
       "output_type": "stream",
       "stream": "stdout",
       "text": [
        "                                                \r",
        "[==================            ]   5.719/9.047MB"
       ]
      },
      {
       "output_type": "stream",
       "stream": "stdout",
       "text": [
        "                                                \r",
        "[==================            ]   5.727/9.047MB"
       ]
      },
      {
       "output_type": "stream",
       "stream": "stdout",
       "text": [
        "                                                \r",
        "[===================           ]   5.734/9.047MB"
       ]
      },
      {
       "output_type": "stream",
       "stream": "stdout",
       "text": [
        "                                                \r",
        "[===================           ]   5.742/9.047MB"
       ]
      },
      {
       "output_type": "stream",
       "stream": "stdout",
       "text": [
        "                                                \r",
        "[===================           ]   5.750/9.047MB"
       ]
      },
      {
       "output_type": "stream",
       "stream": "stdout",
       "text": [
        "                                                \r",
        "[===================           ]   5.758/9.047MB"
       ]
      },
      {
       "output_type": "stream",
       "stream": "stdout",
       "text": [
        "                                                \r",
        "[===================           ]   5.766/9.047MB"
       ]
      },
      {
       "output_type": "stream",
       "stream": "stdout",
       "text": [
        "                                                \r",
        "[===================           ]   5.773/9.047MB"
       ]
      },
      {
       "output_type": "stream",
       "stream": "stdout",
       "text": [
        "                                                \r",
        "[===================           ]   5.781/9.047MB"
       ]
      },
      {
       "output_type": "stream",
       "stream": "stdout",
       "text": [
        "                                                \r",
        "[===================           ]   5.789/9.047MB"
       ]
      },
      {
       "output_type": "stream",
       "stream": "stdout",
       "text": [
        "                                                \r",
        "[===================           ]   5.797/9.047MB"
       ]
      },
      {
       "output_type": "stream",
       "stream": "stdout",
       "text": [
        "                                                \r",
        "[===================           ]   5.805/9.047MB"
       ]
      },
      {
       "output_type": "stream",
       "stream": "stdout",
       "text": [
        "                                                \r",
        "[===================           ]   5.812/9.047MB"
       ]
      },
      {
       "output_type": "stream",
       "stream": "stdout",
       "text": [
        "                                                \r",
        "[===================           ]   5.820/9.047MB"
       ]
      },
      {
       "output_type": "stream",
       "stream": "stdout",
       "text": [
        "                                                \r",
        "[===================           ]   5.828/9.047MB"
       ]
      },
      {
       "output_type": "stream",
       "stream": "stdout",
       "text": [
        "                                                \r",
        "[===================           ]   5.836/9.047MB"
       ]
      },
      {
       "output_type": "stream",
       "stream": "stdout",
       "text": [
        "                                                \r",
        "[===================           ]   5.844/9.047MB"
       ]
      },
      {
       "output_type": "stream",
       "stream": "stdout",
       "text": [
        "                                                \r",
        "[===================           ]   5.852/9.047MB"
       ]
      },
      {
       "output_type": "stream",
       "stream": "stdout",
       "text": [
        "                                                \r",
        "[===================           ]   5.859/9.047MB"
       ]
      },
      {
       "output_type": "stream",
       "stream": "stdout",
       "text": [
        "                                                \r",
        "[===================           ]   5.867/9.047MB"
       ]
      },
      {
       "output_type": "stream",
       "stream": "stdout",
       "text": [
        "                                                \r",
        "[===================           ]   5.875/9.047MB"
       ]
      },
      {
       "output_type": "stream",
       "stream": "stdout",
       "text": [
        "                                                \r",
        "[===================           ]   5.883/9.047MB"
       ]
      },
      {
       "output_type": "stream",
       "stream": "stdout",
       "text": [
        "                                                \r",
        "[===================           ]   5.891/9.047MB"
       ]
      },
      {
       "output_type": "stream",
       "stream": "stdout",
       "text": [
        "                                                \r",
        "[===================           ]   5.898/9.047MB"
       ]
      },
      {
       "output_type": "stream",
       "stream": "stdout",
       "text": [
        "                                                \r",
        "[===================           ]   5.906/9.047MB"
       ]
      },
      {
       "output_type": "stream",
       "stream": "stdout",
       "text": [
        "                                                \r",
        "[===================           ]   5.914/9.047MB"
       ]
      },
      {
       "output_type": "stream",
       "stream": "stdout",
       "text": [
        "                                                \r",
        "[===================           ]   5.922/9.047MB"
       ]
      },
      {
       "output_type": "stream",
       "stream": "stdout",
       "text": [
        "                                                \r",
        "[===================           ]   5.930/9.047MB"
       ]
      },
      {
       "output_type": "stream",
       "stream": "stdout",
       "text": [
        "                                                \r",
        "[===================           ]   5.938/9.047MB"
       ]
      },
      {
       "output_type": "stream",
       "stream": "stdout",
       "text": [
        "                                                \r",
        "[===================           ]   5.945/9.047MB"
       ]
      },
      {
       "output_type": "stream",
       "stream": "stdout",
       "text": [
        "                                                \r",
        "[===================           ]   5.953/9.047MB"
       ]
      },
      {
       "output_type": "stream",
       "stream": "stdout",
       "text": [
        "                                                \r",
        "[===================           ]   5.961/9.047MB"
       ]
      },
      {
       "output_type": "stream",
       "stream": "stdout",
       "text": [
        "                                                \r",
        "[===================           ]   5.969/9.047MB"
       ]
      },
      {
       "output_type": "stream",
       "stream": "stdout",
       "text": [
        "                                                \r",
        "[===================           ]   5.977/9.047MB"
       ]
      },
      {
       "output_type": "stream",
       "stream": "stdout",
       "text": [
        "                                                \r",
        "[===================           ]   5.984/9.047MB"
       ]
      },
      {
       "output_type": "stream",
       "stream": "stdout",
       "text": [
        "                                                \r",
        "[===================           ]   5.992/9.047MB"
       ]
      },
      {
       "output_type": "stream",
       "stream": "stdout",
       "text": [
        "                                                \r",
        "[===================           ]   6.000/9.047MB"
       ]
      },
      {
       "output_type": "stream",
       "stream": "stdout",
       "text": [
        "                                                \r",
        "[===================           ]   6.008/9.047MB"
       ]
      },
      {
       "output_type": "stream",
       "stream": "stdout",
       "text": [
        "                                                \r",
        "[===================           ]   6.016/9.047MB"
       ]
      },
      {
       "output_type": "stream",
       "stream": "stdout",
       "text": [
        "                                                \r",
        "[===================           ]   6.023/9.047MB"
       ]
      },
      {
       "output_type": "stream",
       "stream": "stdout",
       "text": [
        "                                                \r",
        "[====================          ]   6.031/9.047MB"
       ]
      },
      {
       "output_type": "stream",
       "stream": "stdout",
       "text": [
        "                                                \r",
        "[====================          ]   6.039/9.047MB"
       ]
      },
      {
       "output_type": "stream",
       "stream": "stdout",
       "text": [
        "                                                \r",
        "[====================          ]   6.047/9.047MB"
       ]
      },
      {
       "output_type": "stream",
       "stream": "stdout",
       "text": [
        "                                                \r",
        "[====================          ]   6.055/9.047MB"
       ]
      },
      {
       "output_type": "stream",
       "stream": "stdout",
       "text": [
        "                                                \r",
        "[====================          ]   6.062/9.047MB"
       ]
      },
      {
       "output_type": "stream",
       "stream": "stdout",
       "text": [
        "                                                \r",
        "[====================          ]   6.070/9.047MB"
       ]
      },
      {
       "output_type": "stream",
       "stream": "stdout",
       "text": [
        "                                                \r",
        "[====================          ]   6.078/9.047MB"
       ]
      },
      {
       "output_type": "stream",
       "stream": "stdout",
       "text": [
        "                                                \r",
        "[====================          ]   6.086/9.047MB"
       ]
      },
      {
       "output_type": "stream",
       "stream": "stdout",
       "text": [
        "                                                \r",
        "[====================          ]   6.094/9.047MB"
       ]
      },
      {
       "output_type": "stream",
       "stream": "stdout",
       "text": [
        "                                                \r",
        "[====================          ]   6.102/9.047MB"
       ]
      },
      {
       "output_type": "stream",
       "stream": "stdout",
       "text": [
        "                                                \r",
        "[====================          ]   6.109/9.047MB"
       ]
      },
      {
       "output_type": "stream",
       "stream": "stdout",
       "text": [
        "                                                \r",
        "[====================          ]   6.117/9.047MB"
       ]
      },
      {
       "output_type": "stream",
       "stream": "stdout",
       "text": [
        "                                                \r",
        "[====================          ]   6.125/9.047MB"
       ]
      },
      {
       "output_type": "stream",
       "stream": "stdout",
       "text": [
        "                                                \r",
        "[====================          ]   6.133/9.047MB"
       ]
      },
      {
       "output_type": "stream",
       "stream": "stdout",
       "text": [
        "                                                \r",
        "[====================          ]   6.141/9.047MB"
       ]
      },
      {
       "output_type": "stream",
       "stream": "stdout",
       "text": [
        "                                                \r",
        "[====================          ]   6.148/9.047MB"
       ]
      },
      {
       "output_type": "stream",
       "stream": "stdout",
       "text": [
        "                                                \r",
        "[====================          ]   6.156/9.047MB"
       ]
      },
      {
       "output_type": "stream",
       "stream": "stdout",
       "text": [
        "                                                \r",
        "[====================          ]   6.164/9.047MB"
       ]
      },
      {
       "output_type": "stream",
       "stream": "stdout",
       "text": [
        "                                                \r",
        "[====================          ]   6.172/9.047MB"
       ]
      },
      {
       "output_type": "stream",
       "stream": "stdout",
       "text": [
        "                                                \r",
        "[====================          ]   6.180/9.047MB"
       ]
      },
      {
       "output_type": "stream",
       "stream": "stdout",
       "text": [
        "                                                \r",
        "[====================          ]   6.188/9.047MB"
       ]
      },
      {
       "output_type": "stream",
       "stream": "stdout",
       "text": [
        "                                                \r",
        "[====================          ]   6.195/9.047MB"
       ]
      },
      {
       "output_type": "stream",
       "stream": "stdout",
       "text": [
        "                                                \r",
        "[====================          ]   6.203/9.047MB"
       ]
      },
      {
       "output_type": "stream",
       "stream": "stdout",
       "text": [
        "                                                \r",
        "[====================          ]   6.211/9.047MB"
       ]
      },
      {
       "output_type": "stream",
       "stream": "stdout",
       "text": [
        "                                                \r",
        "[====================          ]   6.219/9.047MB"
       ]
      },
      {
       "output_type": "stream",
       "stream": "stdout",
       "text": [
        "                                                \r",
        "[====================          ]   6.227/9.047MB"
       ]
      },
      {
       "output_type": "stream",
       "stream": "stdout",
       "text": [
        "                                                \r",
        "[====================          ]   6.234/9.047MB"
       ]
      },
      {
       "output_type": "stream",
       "stream": "stdout",
       "text": [
        "                                                \r",
        "[====================          ]   6.242/9.047MB"
       ]
      },
      {
       "output_type": "stream",
       "stream": "stdout",
       "text": [
        "                                                \r",
        "[====================          ]   6.250/9.047MB"
       ]
      },
      {
       "output_type": "stream",
       "stream": "stdout",
       "text": [
        "                                                \r",
        "[====================          ]   6.258/9.047MB"
       ]
      },
      {
       "output_type": "stream",
       "stream": "stdout",
       "text": [
        "                                                \r",
        "[====================          ]   6.266/9.047MB"
       ]
      },
      {
       "output_type": "stream",
       "stream": "stdout",
       "text": [
        "                                                \r",
        "[====================          ]   6.273/9.047MB"
       ]
      },
      {
       "output_type": "stream",
       "stream": "stdout",
       "text": [
        "                                                \r",
        "[====================          ]   6.281/9.047MB"
       ]
      },
      {
       "output_type": "stream",
       "stream": "stdout",
       "text": [
        "                                                \r",
        "[====================          ]   6.289/9.047MB"
       ]
      },
      {
       "output_type": "stream",
       "stream": "stdout",
       "text": [
        "                                                \r",
        "[====================          ]   6.297/9.047MB"
       ]
      },
      {
       "output_type": "stream",
       "stream": "stdout",
       "text": [
        "                                                \r",
        "[====================          ]   6.305/9.047MB"
       ]
      },
      {
       "output_type": "stream",
       "stream": "stdout",
       "text": [
        "                                                \r",
        "[====================          ]   6.312/9.047MB"
       ]
      },
      {
       "output_type": "stream",
       "stream": "stdout",
       "text": [
        "                                                \r",
        "[====================          ]   6.320/9.047MB"
       ]
      },
      {
       "output_type": "stream",
       "stream": "stdout",
       "text": [
        "                                                \r",
        "[====================          ]   6.328/9.047MB"
       ]
      },
      {
       "output_type": "stream",
       "stream": "stdout",
       "text": [
        "                                                \r",
        "[=====================         ]   6.336/9.047MB"
       ]
      },
      {
       "output_type": "stream",
       "stream": "stdout",
       "text": [
        "                                                \r",
        "[=====================         ]   6.344/9.047MB"
       ]
      },
      {
       "output_type": "stream",
       "stream": "stdout",
       "text": [
        "                                                \r",
        "[=====================         ]   6.352/9.047MB"
       ]
      },
      {
       "output_type": "stream",
       "stream": "stdout",
       "text": [
        "                                                \r",
        "[=====================         ]   6.359/9.047MB"
       ]
      },
      {
       "output_type": "stream",
       "stream": "stdout",
       "text": [
        "                                                \r",
        "[=====================         ]   6.367/9.047MB"
       ]
      },
      {
       "output_type": "stream",
       "stream": "stdout",
       "text": [
        "                                                \r",
        "[=====================         ]   6.375/9.047MB"
       ]
      },
      {
       "output_type": "stream",
       "stream": "stdout",
       "text": [
        "                                                \r",
        "[=====================         ]   6.383/9.047MB"
       ]
      },
      {
       "output_type": "stream",
       "stream": "stdout",
       "text": [
        "                                                \r",
        "[=====================         ]   6.391/9.047MB"
       ]
      },
      {
       "output_type": "stream",
       "stream": "stdout",
       "text": [
        "                                                \r",
        "[=====================         ]   6.398/9.047MB"
       ]
      },
      {
       "output_type": "stream",
       "stream": "stdout",
       "text": [
        "                                                \r",
        "[=====================         ]   6.406/9.047MB"
       ]
      },
      {
       "output_type": "stream",
       "stream": "stdout",
       "text": [
        "                                                \r",
        "[=====================         ]   6.414/9.047MB"
       ]
      },
      {
       "output_type": "stream",
       "stream": "stdout",
       "text": [
        "                                                \r",
        "[=====================         ]   6.422/9.047MB"
       ]
      },
      {
       "output_type": "stream",
       "stream": "stdout",
       "text": [
        "                                                \r",
        "[=====================         ]   6.430/9.047MB"
       ]
      },
      {
       "output_type": "stream",
       "stream": "stdout",
       "text": [
        "                                                \r",
        "[=====================         ]   6.438/9.047MB"
       ]
      },
      {
       "output_type": "stream",
       "stream": "stdout",
       "text": [
        "                                                \r",
        "[=====================         ]   6.445/9.047MB"
       ]
      },
      {
       "output_type": "stream",
       "stream": "stdout",
       "text": [
        "                                                \r",
        "[=====================         ]   6.453/9.047MB"
       ]
      },
      {
       "output_type": "stream",
       "stream": "stdout",
       "text": [
        "                                                \r",
        "[=====================         ]   6.461/9.047MB"
       ]
      },
      {
       "output_type": "stream",
       "stream": "stdout",
       "text": [
        "                                                \r",
        "[=====================         ]   6.469/9.047MB"
       ]
      },
      {
       "output_type": "stream",
       "stream": "stdout",
       "text": [
        "                                                \r",
        "[=====================         ]   6.477/9.047MB"
       ]
      },
      {
       "output_type": "stream",
       "stream": "stdout",
       "text": [
        "                                                \r",
        "[=====================         ]   6.484/9.047MB"
       ]
      },
      {
       "output_type": "stream",
       "stream": "stdout",
       "text": [
        "                                                \r",
        "[=====================         ]   6.492/9.047MB"
       ]
      },
      {
       "output_type": "stream",
       "stream": "stdout",
       "text": [
        "                                                \r",
        "[=====================         ]   6.500/9.047MB"
       ]
      },
      {
       "output_type": "stream",
       "stream": "stdout",
       "text": [
        "                                                \r",
        "[=====================         ]   6.508/9.047MB"
       ]
      },
      {
       "output_type": "stream",
       "stream": "stdout",
       "text": [
        "                                                \r",
        "[=====================         ]   6.516/9.047MB"
       ]
      },
      {
       "output_type": "stream",
       "stream": "stdout",
       "text": [
        "                                                \r",
        "[=====================         ]   6.523/9.047MB"
       ]
      },
      {
       "output_type": "stream",
       "stream": "stdout",
       "text": [
        "                                                \r",
        "[=====================         ]   6.531/9.047MB"
       ]
      },
      {
       "output_type": "stream",
       "stream": "stdout",
       "text": [
        "                                                \r",
        "[=====================         ]   6.539/9.047MB"
       ]
      },
      {
       "output_type": "stream",
       "stream": "stdout",
       "text": [
        "                                                \r",
        "[=====================         ]   6.547/9.047MB"
       ]
      },
      {
       "output_type": "stream",
       "stream": "stdout",
       "text": [
        "                                                \r",
        "[=====================         ]   6.555/9.047MB"
       ]
      },
      {
       "output_type": "stream",
       "stream": "stdout",
       "text": [
        "                                                \r",
        "[=====================         ]   6.562/9.047MB"
       ]
      },
      {
       "output_type": "stream",
       "stream": "stdout",
       "text": [
        "                                                \r",
        "[=====================         ]   6.570/9.047MB"
       ]
      },
      {
       "output_type": "stream",
       "stream": "stdout",
       "text": [
        "                                                \r",
        "[=====================         ]   6.578/9.047MB"
       ]
      },
      {
       "output_type": "stream",
       "stream": "stdout",
       "text": [
        "                                                \r",
        "[=====================         ]   6.586/9.047MB"
       ]
      },
      {
       "output_type": "stream",
       "stream": "stdout",
       "text": [
        "                                                \r",
        "[=====================         ]   6.594/9.047MB"
       ]
      },
      {
       "output_type": "stream",
       "stream": "stdout",
       "text": [
        "                                                \r",
        "[=====================         ]   6.602/9.047MB"
       ]
      },
      {
       "output_type": "stream",
       "stream": "stdout",
       "text": [
        "                                                \r",
        "[=====================         ]   6.609/9.047MB"
       ]
      },
      {
       "output_type": "stream",
       "stream": "stdout",
       "text": [
        "                                                \r",
        "[=====================         ]   6.617/9.047MB"
       ]
      },
      {
       "output_type": "stream",
       "stream": "stdout",
       "text": [
        "                                                \r",
        "[=====================         ]   6.625/9.047MB"
       ]
      },
      {
       "output_type": "stream",
       "stream": "stdout",
       "text": [
        "                                                \r",
        "[=====================         ]   6.633/9.047MB"
       ]
      },
      {
       "output_type": "stream",
       "stream": "stdout",
       "text": [
        "                                                \r",
        "[======================        ]   6.641/9.047MB"
       ]
      },
      {
       "output_type": "stream",
       "stream": "stdout",
       "text": [
        "                                                \r",
        "[======================        ]   6.648/9.047MB"
       ]
      },
      {
       "output_type": "stream",
       "stream": "stdout",
       "text": [
        "                                                \r",
        "[======================        ]   6.656/9.047MB"
       ]
      },
      {
       "output_type": "stream",
       "stream": "stdout",
       "text": [
        "                                                \r",
        "[======================        ]   6.664/9.047MB"
       ]
      },
      {
       "output_type": "stream",
       "stream": "stdout",
       "text": [
        "                                                \r",
        "[======================        ]   6.672/9.047MB"
       ]
      },
      {
       "output_type": "stream",
       "stream": "stdout",
       "text": [
        "                                                \r",
        "[======================        ]   6.680/9.047MB"
       ]
      },
      {
       "output_type": "stream",
       "stream": "stdout",
       "text": [
        "                                                \r",
        "[======================        ]   6.688/9.047MB"
       ]
      },
      {
       "output_type": "stream",
       "stream": "stdout",
       "text": [
        "                                                \r",
        "[======================        ]   6.695/9.047MB"
       ]
      },
      {
       "output_type": "stream",
       "stream": "stdout",
       "text": [
        "                                                \r",
        "[======================        ]   6.703/9.047MB"
       ]
      },
      {
       "output_type": "stream",
       "stream": "stdout",
       "text": [
        "                                                \r",
        "[======================        ]   6.711/9.047MB"
       ]
      },
      {
       "output_type": "stream",
       "stream": "stdout",
       "text": [
        "                                                \r",
        "[======================        ]   6.719/9.047MB"
       ]
      },
      {
       "output_type": "stream",
       "stream": "stdout",
       "text": [
        "                                                \r",
        "[======================        ]   6.727/9.047MB"
       ]
      },
      {
       "output_type": "stream",
       "stream": "stdout",
       "text": [
        "                                                \r",
        "[======================        ]   6.734/9.047MB"
       ]
      },
      {
       "output_type": "stream",
       "stream": "stdout",
       "text": [
        "                                                \r",
        "[======================        ]   6.742/9.047MB"
       ]
      },
      {
       "output_type": "stream",
       "stream": "stdout",
       "text": [
        "                                                \r",
        "[======================        ]   6.750/9.047MB"
       ]
      },
      {
       "output_type": "stream",
       "stream": "stdout",
       "text": [
        "                                                \r",
        "[======================        ]   6.758/9.047MB"
       ]
      },
      {
       "output_type": "stream",
       "stream": "stdout",
       "text": [
        "                                                \r",
        "[======================        ]   6.766/9.047MB"
       ]
      },
      {
       "output_type": "stream",
       "stream": "stdout",
       "text": [
        "                                                \r",
        "[======================        ]   6.773/9.047MB"
       ]
      },
      {
       "output_type": "stream",
       "stream": "stdout",
       "text": [
        "                                                \r",
        "[======================        ]   6.781/9.047MB"
       ]
      },
      {
       "output_type": "stream",
       "stream": "stdout",
       "text": [
        "                                                \r",
        "[======================        ]   6.789/9.047MB"
       ]
      },
      {
       "output_type": "stream",
       "stream": "stdout",
       "text": [
        "                                                \r",
        "[======================        ]   6.797/9.047MB"
       ]
      },
      {
       "output_type": "stream",
       "stream": "stdout",
       "text": [
        "                                                \r",
        "[======================        ]   6.805/9.047MB"
       ]
      },
      {
       "output_type": "stream",
       "stream": "stdout",
       "text": [
        "                                                \r",
        "[======================        ]   6.812/9.047MB"
       ]
      },
      {
       "output_type": "stream",
       "stream": "stdout",
       "text": [
        "                                                \r",
        "[======================        ]   6.820/9.047MB"
       ]
      },
      {
       "output_type": "stream",
       "stream": "stdout",
       "text": [
        "                                                \r",
        "[======================        ]   6.828/9.047MB"
       ]
      },
      {
       "output_type": "stream",
       "stream": "stdout",
       "text": [
        "                                                \r",
        "[======================        ]   6.836/9.047MB"
       ]
      },
      {
       "output_type": "stream",
       "stream": "stdout",
       "text": [
        "                                                \r",
        "[======================        ]   6.844/9.047MB"
       ]
      },
      {
       "output_type": "stream",
       "stream": "stdout",
       "text": [
        "                                                \r",
        "[======================        ]   6.852/9.047MB"
       ]
      },
      {
       "output_type": "stream",
       "stream": "stdout",
       "text": [
        "                                                \r",
        "[======================        ]   6.859/9.047MB"
       ]
      },
      {
       "output_type": "stream",
       "stream": "stdout",
       "text": [
        "                                                \r",
        "[======================        ]   6.867/9.047MB"
       ]
      },
      {
       "output_type": "stream",
       "stream": "stdout",
       "text": [
        "                                                \r",
        "[======================        ]   6.875/9.047MB"
       ]
      },
      {
       "output_type": "stream",
       "stream": "stdout",
       "text": [
        "                                                \r",
        "[======================        ]   6.883/9.047MB"
       ]
      },
      {
       "output_type": "stream",
       "stream": "stdout",
       "text": [
        "                                                \r",
        "[======================        ]   6.891/9.047MB"
       ]
      },
      {
       "output_type": "stream",
       "stream": "stdout",
       "text": [
        "                                                \r",
        "[======================        ]   6.898/9.047MB"
       ]
      },
      {
       "output_type": "stream",
       "stream": "stdout",
       "text": [
        "                                                \r",
        "[======================        ]   6.906/9.047MB"
       ]
      },
      {
       "output_type": "stream",
       "stream": "stdout",
       "text": [
        "                                                \r",
        "[======================        ]   6.914/9.047MB"
       ]
      },
      {
       "output_type": "stream",
       "stream": "stdout",
       "text": [
        "                                                \r",
        "[======================        ]   6.922/9.047MB"
       ]
      },
      {
       "output_type": "stream",
       "stream": "stdout",
       "text": [
        "                                                \r",
        "[======================        ]   6.930/9.047MB"
       ]
      },
      {
       "output_type": "stream",
       "stream": "stdout",
       "text": [
        "                                                \r",
        "[=======================       ]   6.938/9.047MB"
       ]
      },
      {
       "output_type": "stream",
       "stream": "stdout",
       "text": [
        "                                                \r",
        "[=======================       ]   6.945/9.047MB"
       ]
      },
      {
       "output_type": "stream",
       "stream": "stdout",
       "text": [
        "                                                \r",
        "[=======================       ]   6.953/9.047MB"
       ]
      },
      {
       "output_type": "stream",
       "stream": "stdout",
       "text": [
        "                                                \r",
        "[=======================       ]   6.961/9.047MB"
       ]
      },
      {
       "output_type": "stream",
       "stream": "stdout",
       "text": [
        "                                                \r",
        "[=======================       ]   6.969/9.047MB"
       ]
      },
      {
       "output_type": "stream",
       "stream": "stdout",
       "text": [
        "                                                \r",
        "[=======================       ]   6.977/9.047MB"
       ]
      },
      {
       "output_type": "stream",
       "stream": "stdout",
       "text": [
        "                                                \r",
        "[=======================       ]   6.984/9.047MB"
       ]
      },
      {
       "output_type": "stream",
       "stream": "stdout",
       "text": [
        "                                                \r",
        "[=======================       ]   6.992/9.047MB"
       ]
      },
      {
       "output_type": "stream",
       "stream": "stdout",
       "text": [
        "                                                \r",
        "[=======================       ]   7.000/9.047MB"
       ]
      },
      {
       "output_type": "stream",
       "stream": "stdout",
       "text": [
        "                                                \r",
        "[=======================       ]   7.008/9.047MB"
       ]
      },
      {
       "output_type": "stream",
       "stream": "stdout",
       "text": [
        "                                                \r",
        "[=======================       ]   7.016/9.047MB"
       ]
      },
      {
       "output_type": "stream",
       "stream": "stdout",
       "text": [
        "                                                \r",
        "[=======================       ]   7.023/9.047MB"
       ]
      },
      {
       "output_type": "stream",
       "stream": "stdout",
       "text": [
        "                                                \r",
        "[=======================       ]   7.031/9.047MB"
       ]
      },
      {
       "output_type": "stream",
       "stream": "stdout",
       "text": [
        "                                                \r",
        "[=======================       ]   7.039/9.047MB"
       ]
      },
      {
       "output_type": "stream",
       "stream": "stdout",
       "text": [
        "                                                \r",
        "[=======================       ]   7.047/9.047MB"
       ]
      },
      {
       "output_type": "stream",
       "stream": "stdout",
       "text": [
        "                                                \r",
        "[=======================       ]   7.055/9.047MB"
       ]
      },
      {
       "output_type": "stream",
       "stream": "stdout",
       "text": [
        "                                                \r",
        "[=======================       ]   7.062/9.047MB"
       ]
      },
      {
       "output_type": "stream",
       "stream": "stdout",
       "text": [
        "                                                \r",
        "[=======================       ]   7.070/9.047MB"
       ]
      },
      {
       "output_type": "stream",
       "stream": "stdout",
       "text": [
        "                                                \r",
        "[=======================       ]   7.078/9.047MB"
       ]
      },
      {
       "output_type": "stream",
       "stream": "stdout",
       "text": [
        "                                                \r",
        "[=======================       ]   7.086/9.047MB"
       ]
      },
      {
       "output_type": "stream",
       "stream": "stdout",
       "text": [
        "                                                \r",
        "[=======================       ]   7.094/9.047MB"
       ]
      },
      {
       "output_type": "stream",
       "stream": "stdout",
       "text": [
        "                                                \r",
        "[=======================       ]   7.102/9.047MB"
       ]
      },
      {
       "output_type": "stream",
       "stream": "stdout",
       "text": [
        "                                                \r",
        "[=======================       ]   7.109/9.047MB"
       ]
      },
      {
       "output_type": "stream",
       "stream": "stdout",
       "text": [
        "                                                \r",
        "[=======================       ]   7.117/9.047MB"
       ]
      },
      {
       "output_type": "stream",
       "stream": "stdout",
       "text": [
        "                                                \r",
        "[=======================       ]   7.125/9.047MB"
       ]
      },
      {
       "output_type": "stream",
       "stream": "stdout",
       "text": [
        "                                                \r",
        "[=======================       ]   7.133/9.047MB"
       ]
      },
      {
       "output_type": "stream",
       "stream": "stdout",
       "text": [
        "                                                \r",
        "[=======================       ]   7.141/9.047MB"
       ]
      },
      {
       "output_type": "stream",
       "stream": "stdout",
       "text": [
        "                                                \r",
        "[=======================       ]   7.148/9.047MB"
       ]
      },
      {
       "output_type": "stream",
       "stream": "stdout",
       "text": [
        "                                                \r",
        "[=======================       ]   7.156/9.047MB"
       ]
      },
      {
       "output_type": "stream",
       "stream": "stdout",
       "text": [
        "                                                \r",
        "[=======================       ]   7.164/9.047MB"
       ]
      },
      {
       "output_type": "stream",
       "stream": "stdout",
       "text": [
        "                                                \r",
        "[=======================       ]   7.172/9.047MB"
       ]
      },
      {
       "output_type": "stream",
       "stream": "stdout",
       "text": [
        "                                                \r",
        "[=======================       ]   7.180/9.047MB"
       ]
      },
      {
       "output_type": "stream",
       "stream": "stdout",
       "text": [
        "                                                \r",
        "[=======================       ]   7.188/9.047MB"
       ]
      },
      {
       "output_type": "stream",
       "stream": "stdout",
       "text": [
        "                                                \r",
        "[=======================       ]   7.195/9.047MB"
       ]
      },
      {
       "output_type": "stream",
       "stream": "stdout",
       "text": [
        "                                                \r",
        "[=======================       ]   7.203/9.047MB"
       ]
      },
      {
       "output_type": "stream",
       "stream": "stdout",
       "text": [
        "                                                \r",
        "[=======================       ]   7.211/9.047MB"
       ]
      },
      {
       "output_type": "stream",
       "stream": "stdout",
       "text": [
        "                                                \r",
        "[=======================       ]   7.219/9.047MB"
       ]
      },
      {
       "output_type": "stream",
       "stream": "stdout",
       "text": [
        "                                                \r",
        "[=======================       ]   7.227/9.047MB"
       ]
      },
      {
       "output_type": "stream",
       "stream": "stdout",
       "text": [
        "                                                \r",
        "[=======================       ]   7.234/9.047MB"
       ]
      },
      {
       "output_type": "stream",
       "stream": "stdout",
       "text": [
        "                                                \r",
        "[========================      ]   7.242/9.047MB"
       ]
      },
      {
       "output_type": "stream",
       "stream": "stdout",
       "text": [
        "                                                \r",
        "[========================      ]   7.250/9.047MB"
       ]
      },
      {
       "output_type": "stream",
       "stream": "stdout",
       "text": [
        "                                                \r",
        "[========================      ]   7.258/9.047MB"
       ]
      },
      {
       "output_type": "stream",
       "stream": "stdout",
       "text": [
        "                                                \r",
        "[========================      ]   7.266/9.047MB"
       ]
      },
      {
       "output_type": "stream",
       "stream": "stdout",
       "text": [
        "                                                \r",
        "[========================      ]   7.273/9.047MB"
       ]
      },
      {
       "output_type": "stream",
       "stream": "stdout",
       "text": [
        "                                                \r",
        "[========================      ]   7.281/9.047MB"
       ]
      },
      {
       "output_type": "stream",
       "stream": "stdout",
       "text": [
        "                                                \r",
        "[========================      ]   7.289/9.047MB"
       ]
      },
      {
       "output_type": "stream",
       "stream": "stdout",
       "text": [
        "                                                \r",
        "[========================      ]   7.297/9.047MB"
       ]
      },
      {
       "output_type": "stream",
       "stream": "stdout",
       "text": [
        "                                                \r",
        "[========================      ]   7.305/9.047MB"
       ]
      },
      {
       "output_type": "stream",
       "stream": "stdout",
       "text": [
        "                                                \r",
        "[========================      ]   7.312/9.047MB"
       ]
      },
      {
       "output_type": "stream",
       "stream": "stdout",
       "text": [
        "                                                \r",
        "[========================      ]   7.320/9.047MB"
       ]
      },
      {
       "output_type": "stream",
       "stream": "stdout",
       "text": [
        "                                                \r",
        "[========================      ]   7.328/9.047MB"
       ]
      },
      {
       "output_type": "stream",
       "stream": "stdout",
       "text": [
        "                                                \r",
        "[========================      ]   7.336/9.047MB"
       ]
      },
      {
       "output_type": "stream",
       "stream": "stdout",
       "text": [
        "                                                \r",
        "[========================      ]   7.344/9.047MB"
       ]
      },
      {
       "output_type": "stream",
       "stream": "stdout",
       "text": [
        "                                                \r",
        "[========================      ]   7.352/9.047MB"
       ]
      },
      {
       "output_type": "stream",
       "stream": "stdout",
       "text": [
        "                                                \r",
        "[========================      ]   7.359/9.047MB"
       ]
      },
      {
       "output_type": "stream",
       "stream": "stdout",
       "text": [
        "                                                \r",
        "[========================      ]   7.367/9.047MB"
       ]
      },
      {
       "output_type": "stream",
       "stream": "stdout",
       "text": [
        "                                                \r",
        "[========================      ]   7.375/9.047MB"
       ]
      },
      {
       "output_type": "stream",
       "stream": "stdout",
       "text": [
        "                                                \r",
        "[========================      ]   7.383/9.047MB"
       ]
      },
      {
       "output_type": "stream",
       "stream": "stdout",
       "text": [
        "                                                \r",
        "[========================      ]   7.391/9.047MB"
       ]
      },
      {
       "output_type": "stream",
       "stream": "stdout",
       "text": [
        "                                                \r",
        "[========================      ]   7.398/9.047MB"
       ]
      },
      {
       "output_type": "stream",
       "stream": "stdout",
       "text": [
        "                                                \r",
        "[========================      ]   7.406/9.047MB"
       ]
      },
      {
       "output_type": "stream",
       "stream": "stdout",
       "text": [
        "                                                \r",
        "[========================      ]   7.414/9.047MB"
       ]
      },
      {
       "output_type": "stream",
       "stream": "stdout",
       "text": [
        "                                                \r",
        "[========================      ]   7.422/9.047MB"
       ]
      },
      {
       "output_type": "stream",
       "stream": "stdout",
       "text": [
        "                                                \r",
        "[========================      ]   7.430/9.047MB"
       ]
      },
      {
       "output_type": "stream",
       "stream": "stdout",
       "text": [
        "                                                \r",
        "[========================      ]   7.438/9.047MB"
       ]
      },
      {
       "output_type": "stream",
       "stream": "stdout",
       "text": [
        "                                                \r",
        "[========================      ]   7.445/9.047MB"
       ]
      },
      {
       "output_type": "stream",
       "stream": "stdout",
       "text": [
        "                                                \r",
        "[========================      ]   7.453/9.047MB"
       ]
      },
      {
       "output_type": "stream",
       "stream": "stdout",
       "text": [
        "                                                \r",
        "[========================      ]   7.461/9.047MB"
       ]
      },
      {
       "output_type": "stream",
       "stream": "stdout",
       "text": [
        "                                                \r",
        "[========================      ]   7.469/9.047MB"
       ]
      },
      {
       "output_type": "stream",
       "stream": "stdout",
       "text": [
        "                                                \r",
        "[========================      ]   7.477/9.047MB"
       ]
      },
      {
       "output_type": "stream",
       "stream": "stdout",
       "text": [
        "                                                \r",
        "[========================      ]   7.484/9.047MB"
       ]
      },
      {
       "output_type": "stream",
       "stream": "stdout",
       "text": [
        "                                                \r",
        "[========================      ]   7.492/9.047MB"
       ]
      },
      {
       "output_type": "stream",
       "stream": "stdout",
       "text": [
        "                                                \r",
        "[========================      ]   7.500/9.047MB"
       ]
      },
      {
       "output_type": "stream",
       "stream": "stdout",
       "text": [
        "                                                \r",
        "[========================      ]   7.508/9.047MB"
       ]
      },
      {
       "output_type": "stream",
       "stream": "stdout",
       "text": [
        "                                                \r",
        "[========================      ]   7.516/9.047MB"
       ]
      },
      {
       "output_type": "stream",
       "stream": "stdout",
       "text": [
        "                                                \r",
        "[========================      ]   7.523/9.047MB"
       ]
      },
      {
       "output_type": "stream",
       "stream": "stdout",
       "text": [
        "                                                \r",
        "[========================      ]   7.531/9.047MB"
       ]
      },
      {
       "output_type": "stream",
       "stream": "stdout",
       "text": [
        "                                                \r",
        "[=========================     ]   7.539/9.047MB"
       ]
      },
      {
       "output_type": "stream",
       "stream": "stdout",
       "text": [
        "                                                \r",
        "[=========================     ]   7.547/9.047MB"
       ]
      },
      {
       "output_type": "stream",
       "stream": "stdout",
       "text": [
        "                                                \r",
        "[=========================     ]   7.555/9.047MB"
       ]
      },
      {
       "output_type": "stream",
       "stream": "stdout",
       "text": [
        "                                                \r",
        "[=========================     ]   7.562/9.047MB"
       ]
      },
      {
       "output_type": "stream",
       "stream": "stdout",
       "text": [
        "                                                \r",
        "[=========================     ]   7.570/9.047MB"
       ]
      },
      {
       "output_type": "stream",
       "stream": "stdout",
       "text": [
        "                                                \r",
        "[=========================     ]   7.578/9.047MB"
       ]
      },
      {
       "output_type": "stream",
       "stream": "stdout",
       "text": [
        "                                                \r",
        "[=========================     ]   7.586/9.047MB"
       ]
      },
      {
       "output_type": "stream",
       "stream": "stdout",
       "text": [
        "                                                \r",
        "[=========================     ]   7.594/9.047MB"
       ]
      },
      {
       "output_type": "stream",
       "stream": "stdout",
       "text": [
        "                                                \r",
        "[=========================     ]   7.602/9.047MB"
       ]
      },
      {
       "output_type": "stream",
       "stream": "stdout",
       "text": [
        "                                                \r",
        "[=========================     ]   7.609/9.047MB"
       ]
      },
      {
       "output_type": "stream",
       "stream": "stdout",
       "text": [
        "                                                \r",
        "[=========================     ]   7.617/9.047MB"
       ]
      },
      {
       "output_type": "stream",
       "stream": "stdout",
       "text": [
        "                                                \r",
        "[=========================     ]   7.625/9.047MB"
       ]
      },
      {
       "output_type": "stream",
       "stream": "stdout",
       "text": [
        "                                                \r",
        "[=========================     ]   7.633/9.047MB"
       ]
      },
      {
       "output_type": "stream",
       "stream": "stdout",
       "text": [
        "                                                \r",
        "[=========================     ]   7.641/9.047MB"
       ]
      },
      {
       "output_type": "stream",
       "stream": "stdout",
       "text": [
        "                                                \r",
        "[=========================     ]   7.648/9.047MB"
       ]
      },
      {
       "output_type": "stream",
       "stream": "stdout",
       "text": [
        "                                                \r",
        "[=========================     ]   7.656/9.047MB"
       ]
      },
      {
       "output_type": "stream",
       "stream": "stdout",
       "text": [
        "                                                \r",
        "[=========================     ]   7.664/9.047MB"
       ]
      },
      {
       "output_type": "stream",
       "stream": "stdout",
       "text": [
        "                                                \r",
        "[=========================     ]   7.672/9.047MB"
       ]
      },
      {
       "output_type": "stream",
       "stream": "stdout",
       "text": [
        "                                                \r",
        "[=========================     ]   7.680/9.047MB"
       ]
      },
      {
       "output_type": "stream",
       "stream": "stdout",
       "text": [
        "                                                \r",
        "[=========================     ]   7.688/9.047MB"
       ]
      },
      {
       "output_type": "stream",
       "stream": "stdout",
       "text": [
        "                                                \r",
        "[=========================     ]   7.695/9.047MB"
       ]
      },
      {
       "output_type": "stream",
       "stream": "stdout",
       "text": [
        "                                                \r",
        "[=========================     ]   7.703/9.047MB"
       ]
      },
      {
       "output_type": "stream",
       "stream": "stdout",
       "text": [
        "                                                \r",
        "[=========================     ]   7.711/9.047MB"
       ]
      },
      {
       "output_type": "stream",
       "stream": "stdout",
       "text": [
        "                                                \r",
        "[=========================     ]   7.719/9.047MB"
       ]
      },
      {
       "output_type": "stream",
       "stream": "stdout",
       "text": [
        "                                                \r",
        "[=========================     ]   7.727/9.047MB"
       ]
      },
      {
       "output_type": "stream",
       "stream": "stdout",
       "text": [
        "                                                \r",
        "[=========================     ]   7.734/9.047MB"
       ]
      },
      {
       "output_type": "stream",
       "stream": "stdout",
       "text": [
        "                                                \r",
        "[=========================     ]   7.742/9.047MB"
       ]
      },
      {
       "output_type": "stream",
       "stream": "stdout",
       "text": [
        "                                                \r",
        "[=========================     ]   7.750/9.047MB"
       ]
      },
      {
       "output_type": "stream",
       "stream": "stdout",
       "text": [
        "                                                \r",
        "[=========================     ]   7.758/9.047MB"
       ]
      },
      {
       "output_type": "stream",
       "stream": "stdout",
       "text": [
        "                                                \r",
        "[=========================     ]   7.766/9.047MB"
       ]
      },
      {
       "output_type": "stream",
       "stream": "stdout",
       "text": [
        "                                                \r",
        "[=========================     ]   7.773/9.047MB"
       ]
      },
      {
       "output_type": "stream",
       "stream": "stdout",
       "text": [
        "                                                \r",
        "[=========================     ]   7.781/9.047MB"
       ]
      },
      {
       "output_type": "stream",
       "stream": "stdout",
       "text": [
        "                                                \r",
        "[=========================     ]   7.789/9.047MB"
       ]
      },
      {
       "output_type": "stream",
       "stream": "stdout",
       "text": [
        "                                                \r",
        "[=========================     ]   7.797/9.047MB"
       ]
      },
      {
       "output_type": "stream",
       "stream": "stdout",
       "text": [
        "                                                \r",
        "[=========================     ]   7.805/9.047MB"
       ]
      },
      {
       "output_type": "stream",
       "stream": "stdout",
       "text": [
        "                                                \r",
        "[=========================     ]   7.812/9.047MB"
       ]
      },
      {
       "output_type": "stream",
       "stream": "stdout",
       "text": [
        "                                                \r",
        "[=========================     ]   7.820/9.047MB"
       ]
      },
      {
       "output_type": "stream",
       "stream": "stdout",
       "text": [
        "                                                \r",
        "[=========================     ]   7.828/9.047MB"
       ]
      },
      {
       "output_type": "stream",
       "stream": "stdout",
       "text": [
        "                                                \r",
        "[=========================     ]   7.836/9.047MB"
       ]
      },
      {
       "output_type": "stream",
       "stream": "stdout",
       "text": [
        "                                                \r",
        "[==========================    ]   7.844/9.047MB"
       ]
      },
      {
       "output_type": "stream",
       "stream": "stdout",
       "text": [
        "                                                \r",
        "[==========================    ]   7.852/9.047MB"
       ]
      },
      {
       "output_type": "stream",
       "stream": "stdout",
       "text": [
        "                                                \r",
        "[==========================    ]   7.859/9.047MB"
       ]
      },
      {
       "output_type": "stream",
       "stream": "stdout",
       "text": [
        "                                                \r",
        "[==========================    ]   7.867/9.047MB"
       ]
      },
      {
       "output_type": "stream",
       "stream": "stdout",
       "text": [
        "                                                \r",
        "[==========================    ]   7.875/9.047MB"
       ]
      },
      {
       "output_type": "stream",
       "stream": "stdout",
       "text": [
        "                                                \r",
        "[==========================    ]   7.883/9.047MB"
       ]
      },
      {
       "output_type": "stream",
       "stream": "stdout",
       "text": [
        "                                                \r",
        "[==========================    ]   7.891/9.047MB"
       ]
      },
      {
       "output_type": "stream",
       "stream": "stdout",
       "text": [
        "                                                \r",
        "[==========================    ]   7.898/9.047MB"
       ]
      },
      {
       "output_type": "stream",
       "stream": "stdout",
       "text": [
        "                                                \r",
        "[==========================    ]   7.906/9.047MB"
       ]
      },
      {
       "output_type": "stream",
       "stream": "stdout",
       "text": [
        "                                                \r",
        "[==========================    ]   7.914/9.047MB"
       ]
      },
      {
       "output_type": "stream",
       "stream": "stdout",
       "text": [
        "                                                \r",
        "[==========================    ]   7.922/9.047MB"
       ]
      },
      {
       "output_type": "stream",
       "stream": "stdout",
       "text": [
        "                                                \r",
        "[==========================    ]   7.930/9.047MB"
       ]
      },
      {
       "output_type": "stream",
       "stream": "stdout",
       "text": [
        "                                                \r",
        "[==========================    ]   7.938/9.047MB"
       ]
      },
      {
       "output_type": "stream",
       "stream": "stdout",
       "text": [
        "                                                \r",
        "[==========================    ]   7.945/9.047MB"
       ]
      },
      {
       "output_type": "stream",
       "stream": "stdout",
       "text": [
        "                                                \r",
        "[==========================    ]   7.953/9.047MB"
       ]
      },
      {
       "output_type": "stream",
       "stream": "stdout",
       "text": [
        "                                                \r",
        "[==========================    ]   7.961/9.047MB"
       ]
      },
      {
       "output_type": "stream",
       "stream": "stdout",
       "text": [
        "                                                \r",
        "[==========================    ]   7.969/9.047MB"
       ]
      },
      {
       "output_type": "stream",
       "stream": "stdout",
       "text": [
        "                                                \r",
        "[==========================    ]   7.977/9.047MB"
       ]
      },
      {
       "output_type": "stream",
       "stream": "stdout",
       "text": [
        "                                                \r",
        "[==========================    ]   7.984/9.047MB"
       ]
      },
      {
       "output_type": "stream",
       "stream": "stdout",
       "text": [
        "                                                \r",
        "[==========================    ]   7.992/9.047MB"
       ]
      },
      {
       "output_type": "stream",
       "stream": "stdout",
       "text": [
        "                                                \r",
        "[==========================    ]   8.000/9.047MB"
       ]
      },
      {
       "output_type": "stream",
       "stream": "stdout",
       "text": [
        "                                                \r",
        "[==========================    ]   8.008/9.047MB"
       ]
      },
      {
       "output_type": "stream",
       "stream": "stdout",
       "text": [
        "                                                \r",
        "[==========================    ]   8.016/9.047MB"
       ]
      },
      {
       "output_type": "stream",
       "stream": "stdout",
       "text": [
        "                                                \r",
        "[==========================    ]   8.023/9.047MB"
       ]
      },
      {
       "output_type": "stream",
       "stream": "stdout",
       "text": [
        "                                                \r",
        "[==========================    ]   8.031/9.047MB"
       ]
      },
      {
       "output_type": "stream",
       "stream": "stdout",
       "text": [
        "                                                \r",
        "[==========================    ]   8.039/9.047MB"
       ]
      },
      {
       "output_type": "stream",
       "stream": "stdout",
       "text": [
        "                                                \r",
        "[==========================    ]   8.047/9.047MB"
       ]
      },
      {
       "output_type": "stream",
       "stream": "stdout",
       "text": [
        "                                                \r",
        "[==========================    ]   8.055/9.047MB"
       ]
      },
      {
       "output_type": "stream",
       "stream": "stdout",
       "text": [
        "                                                \r",
        "[==========================    ]   8.062/9.047MB"
       ]
      },
      {
       "output_type": "stream",
       "stream": "stdout",
       "text": [
        "                                                \r",
        "[==========================    ]   8.070/9.047MB"
       ]
      },
      {
       "output_type": "stream",
       "stream": "stdout",
       "text": [
        "                                                \r",
        "[==========================    ]   8.078/9.047MB"
       ]
      },
      {
       "output_type": "stream",
       "stream": "stdout",
       "text": [
        "                                                \r",
        "[==========================    ]   8.086/9.047MB"
       ]
      },
      {
       "output_type": "stream",
       "stream": "stdout",
       "text": [
        "                                                \r",
        "[==========================    ]   8.094/9.047MB"
       ]
      },
      {
       "output_type": "stream",
       "stream": "stdout",
       "text": [
        "                                                \r",
        "[==========================    ]   8.102/9.047MB"
       ]
      },
      {
       "output_type": "stream",
       "stream": "stdout",
       "text": [
        "                                                \r",
        "[==========================    ]   8.109/9.047MB"
       ]
      },
      {
       "output_type": "stream",
       "stream": "stdout",
       "text": [
        "                                                \r",
        "[==========================    ]   8.117/9.047MB"
       ]
      },
      {
       "output_type": "stream",
       "stream": "stdout",
       "text": [
        "                                                \r",
        "[==========================    ]   8.125/9.047MB"
       ]
      },
      {
       "output_type": "stream",
       "stream": "stdout",
       "text": [
        "                                                \r",
        "[==========================    ]   8.133/9.047MB"
       ]
      },
      {
       "output_type": "stream",
       "stream": "stdout",
       "text": [
        "                                                \r",
        "[==========================    ]   8.141/9.047MB"
       ]
      },
      {
       "output_type": "stream",
       "stream": "stdout",
       "text": [
        "                                                \r",
        "[===========================   ]   8.148/9.047MB"
       ]
      },
      {
       "output_type": "stream",
       "stream": "stdout",
       "text": [
        "                                                \r",
        "[===========================   ]   8.156/9.047MB"
       ]
      },
      {
       "output_type": "stream",
       "stream": "stdout",
       "text": [
        "                                                \r",
        "[===========================   ]   8.164/9.047MB"
       ]
      },
      {
       "output_type": "stream",
       "stream": "stdout",
       "text": [
        "                                                \r",
        "[===========================   ]   8.172/9.047MB"
       ]
      },
      {
       "output_type": "stream",
       "stream": "stdout",
       "text": [
        "                                                \r",
        "[===========================   ]   8.180/9.047MB"
       ]
      },
      {
       "output_type": "stream",
       "stream": "stdout",
       "text": [
        "                                                \r",
        "[===========================   ]   8.188/9.047MB"
       ]
      },
      {
       "output_type": "stream",
       "stream": "stdout",
       "text": [
        "                                                \r",
        "[===========================   ]   8.195/9.047MB"
       ]
      },
      {
       "output_type": "stream",
       "stream": "stdout",
       "text": [
        "                                                \r",
        "[===========================   ]   8.203/9.047MB"
       ]
      },
      {
       "output_type": "stream",
       "stream": "stdout",
       "text": [
        "                                                \r",
        "[===========================   ]   8.211/9.047MB"
       ]
      },
      {
       "output_type": "stream",
       "stream": "stdout",
       "text": [
        "                                                \r",
        "[===========================   ]   8.219/9.047MB"
       ]
      },
      {
       "output_type": "stream",
       "stream": "stdout",
       "text": [
        "                                                \r",
        "[===========================   ]   8.227/9.047MB"
       ]
      },
      {
       "output_type": "stream",
       "stream": "stdout",
       "text": [
        "                                                \r",
        "[===========================   ]   8.234/9.047MB"
       ]
      },
      {
       "output_type": "stream",
       "stream": "stdout",
       "text": [
        "                                                \r",
        "[===========================   ]   8.242/9.047MB"
       ]
      },
      {
       "output_type": "stream",
       "stream": "stdout",
       "text": [
        "                                                \r",
        "[===========================   ]   8.250/9.047MB"
       ]
      },
      {
       "output_type": "stream",
       "stream": "stdout",
       "text": [
        "                                                \r",
        "[===========================   ]   8.258/9.047MB"
       ]
      },
      {
       "output_type": "stream",
       "stream": "stdout",
       "text": [
        "                                                \r",
        "[===========================   ]   8.266/9.047MB"
       ]
      },
      {
       "output_type": "stream",
       "stream": "stdout",
       "text": [
        "                                                \r",
        "[===========================   ]   8.273/9.047MB"
       ]
      },
      {
       "output_type": "stream",
       "stream": "stdout",
       "text": [
        "                                                \r",
        "[===========================   ]   8.281/9.047MB"
       ]
      },
      {
       "output_type": "stream",
       "stream": "stdout",
       "text": [
        "                                                \r",
        "[===========================   ]   8.289/9.047MB"
       ]
      },
      {
       "output_type": "stream",
       "stream": "stdout",
       "text": [
        "                                                \r",
        "[===========================   ]   8.297/9.047MB"
       ]
      },
      {
       "output_type": "stream",
       "stream": "stdout",
       "text": [
        "                                                \r",
        "[===========================   ]   8.305/9.047MB"
       ]
      },
      {
       "output_type": "stream",
       "stream": "stdout",
       "text": [
        "                                                \r",
        "[===========================   ]   8.312/9.047MB"
       ]
      },
      {
       "output_type": "stream",
       "stream": "stdout",
       "text": [
        "                                                \r",
        "[===========================   ]   8.320/9.047MB"
       ]
      },
      {
       "output_type": "stream",
       "stream": "stdout",
       "text": [
        "                                                \r",
        "[===========================   ]   8.328/9.047MB"
       ]
      },
      {
       "output_type": "stream",
       "stream": "stdout",
       "text": [
        "                                                \r",
        "[===========================   ]   8.336/9.047MB"
       ]
      },
      {
       "output_type": "stream",
       "stream": "stdout",
       "text": [
        "                                                \r",
        "[===========================   ]   8.344/9.047MB"
       ]
      },
      {
       "output_type": "stream",
       "stream": "stdout",
       "text": [
        "                                                \r",
        "[===========================   ]   8.352/9.047MB"
       ]
      },
      {
       "output_type": "stream",
       "stream": "stdout",
       "text": [
        "                                                \r",
        "[===========================   ]   8.359/9.047MB"
       ]
      },
      {
       "output_type": "stream",
       "stream": "stdout",
       "text": [
        "                                                \r",
        "[===========================   ]   8.367/9.047MB"
       ]
      },
      {
       "output_type": "stream",
       "stream": "stdout",
       "text": [
        "                                                \r",
        "[===========================   ]   8.375/9.047MB"
       ]
      },
      {
       "output_type": "stream",
       "stream": "stdout",
       "text": [
        "                                                \r",
        "[===========================   ]   8.383/9.047MB"
       ]
      },
      {
       "output_type": "stream",
       "stream": "stdout",
       "text": [
        "                                                \r",
        "[===========================   ]   8.391/9.047MB"
       ]
      },
      {
       "output_type": "stream",
       "stream": "stdout",
       "text": [
        "                                                \r",
        "[===========================   ]   8.398/9.047MB"
       ]
      },
      {
       "output_type": "stream",
       "stream": "stdout",
       "text": [
        "                                                \r",
        "[===========================   ]   8.406/9.047MB"
       ]
      },
      {
       "output_type": "stream",
       "stream": "stdout",
       "text": [
        "                                                \r",
        "[===========================   ]   8.414/9.047MB"
       ]
      },
      {
       "output_type": "stream",
       "stream": "stdout",
       "text": [
        "                                                \r",
        "[===========================   ]   8.422/9.047MB"
       ]
      },
      {
       "output_type": "stream",
       "stream": "stdout",
       "text": [
        "                                                \r",
        "[===========================   ]   8.430/9.047MB"
       ]
      },
      {
       "output_type": "stream",
       "stream": "stdout",
       "text": [
        "                                                \r",
        "[===========================   ]   8.438/9.047MB"
       ]
      },
      {
       "output_type": "stream",
       "stream": "stdout",
       "text": [
        "                                                \r",
        "[============================  ]   8.445/9.047MB"
       ]
      },
      {
       "output_type": "stream",
       "stream": "stdout",
       "text": [
        "                                                \r",
        "[============================  ]   8.453/9.047MB"
       ]
      },
      {
       "output_type": "stream",
       "stream": "stdout",
       "text": [
        "                                                \r",
        "[============================  ]   8.461/9.047MB"
       ]
      },
      {
       "output_type": "stream",
       "stream": "stdout",
       "text": [
        "                                                \r",
        "[============================  ]   8.469/9.047MB"
       ]
      },
      {
       "output_type": "stream",
       "stream": "stdout",
       "text": [
        "                                                \r",
        "[============================  ]   8.477/9.047MB"
       ]
      },
      {
       "output_type": "stream",
       "stream": "stdout",
       "text": [
        "                                                \r",
        "[============================  ]   8.484/9.047MB"
       ]
      },
      {
       "output_type": "stream",
       "stream": "stdout",
       "text": [
        "                                                \r",
        "[============================  ]   8.492/9.047MB"
       ]
      },
      {
       "output_type": "stream",
       "stream": "stdout",
       "text": [
        "                                                \r",
        "[============================  ]   8.500/9.047MB"
       ]
      },
      {
       "output_type": "stream",
       "stream": "stdout",
       "text": [
        "                                                \r",
        "[============================  ]   8.508/9.047MB"
       ]
      },
      {
       "output_type": "stream",
       "stream": "stdout",
       "text": [
        "                                                \r",
        "[============================  ]   8.516/9.047MB"
       ]
      },
      {
       "output_type": "stream",
       "stream": "stdout",
       "text": [
        "                                                \r",
        "[============================  ]   8.523/9.047MB"
       ]
      },
      {
       "output_type": "stream",
       "stream": "stdout",
       "text": [
        "                                                \r",
        "[============================  ]   8.531/9.047MB"
       ]
      },
      {
       "output_type": "stream",
       "stream": "stdout",
       "text": [
        "                                                \r",
        "[============================  ]   8.539/9.047MB"
       ]
      },
      {
       "output_type": "stream",
       "stream": "stdout",
       "text": [
        "                                                \r",
        "[============================  ]   8.547/9.047MB"
       ]
      },
      {
       "output_type": "stream",
       "stream": "stdout",
       "text": [
        "                                                \r",
        "[============================  ]   8.555/9.047MB"
       ]
      },
      {
       "output_type": "stream",
       "stream": "stdout",
       "text": [
        "                                                \r",
        "[============================  ]   8.562/9.047MB"
       ]
      },
      {
       "output_type": "stream",
       "stream": "stdout",
       "text": [
        "                                                \r",
        "[============================  ]   8.570/9.047MB"
       ]
      },
      {
       "output_type": "stream",
       "stream": "stdout",
       "text": [
        "                                                \r",
        "[============================  ]   8.578/9.047MB"
       ]
      },
      {
       "output_type": "stream",
       "stream": "stdout",
       "text": [
        "                                                \r",
        "[============================  ]   8.586/9.047MB"
       ]
      },
      {
       "output_type": "stream",
       "stream": "stdout",
       "text": [
        "                                                \r",
        "[============================  ]   8.594/9.047MB"
       ]
      },
      {
       "output_type": "stream",
       "stream": "stdout",
       "text": [
        "                                                \r",
        "[============================  ]   8.602/9.047MB"
       ]
      },
      {
       "output_type": "stream",
       "stream": "stdout",
       "text": [
        "                                                \r",
        "[============================  ]   8.609/9.047MB"
       ]
      },
      {
       "output_type": "stream",
       "stream": "stdout",
       "text": [
        "                                                \r",
        "[============================  ]   8.617/9.047MB"
       ]
      },
      {
       "output_type": "stream",
       "stream": "stdout",
       "text": [
        "                                                \r",
        "[============================  ]   8.625/9.047MB"
       ]
      },
      {
       "output_type": "stream",
       "stream": "stdout",
       "text": [
        "                                                \r",
        "[============================  ]   8.633/9.047MB"
       ]
      },
      {
       "output_type": "stream",
       "stream": "stdout",
       "text": [
        "                                                \r",
        "[============================  ]   8.641/9.047MB"
       ]
      },
      {
       "output_type": "stream",
       "stream": "stdout",
       "text": [
        "                                                \r",
        "[============================  ]   8.648/9.047MB"
       ]
      },
      {
       "output_type": "stream",
       "stream": "stdout",
       "text": [
        "                                                \r",
        "[============================  ]   8.656/9.047MB"
       ]
      },
      {
       "output_type": "stream",
       "stream": "stdout",
       "text": [
        "                                                \r",
        "[============================  ]   8.664/9.047MB"
       ]
      },
      {
       "output_type": "stream",
       "stream": "stdout",
       "text": [
        "                                                \r",
        "[============================  ]   8.672/9.047MB"
       ]
      },
      {
       "output_type": "stream",
       "stream": "stdout",
       "text": [
        "                                                \r",
        "[============================  ]   8.680/9.047MB"
       ]
      },
      {
       "output_type": "stream",
       "stream": "stdout",
       "text": [
        "                                                \r",
        "[============================  ]   8.688/9.047MB"
       ]
      },
      {
       "output_type": "stream",
       "stream": "stdout",
       "text": [
        "                                                \r",
        "[============================  ]   8.695/9.047MB"
       ]
      },
      {
       "output_type": "stream",
       "stream": "stdout",
       "text": [
        "                                                \r",
        "[============================  ]   8.703/9.047MB"
       ]
      },
      {
       "output_type": "stream",
       "stream": "stdout",
       "text": [
        "                                                \r",
        "[============================  ]   8.711/9.047MB"
       ]
      },
      {
       "output_type": "stream",
       "stream": "stdout",
       "text": [
        "                                                \r",
        "[============================  ]   8.719/9.047MB"
       ]
      },
      {
       "output_type": "stream",
       "stream": "stdout",
       "text": [
        "                                                \r",
        "[============================  ]   8.727/9.047MB"
       ]
      },
      {
       "output_type": "stream",
       "stream": "stdout",
       "text": [
        "                                                \r",
        "[============================  ]   8.734/9.047MB"
       ]
      },
      {
       "output_type": "stream",
       "stream": "stdout",
       "text": [
        "                                                \r",
        "[============================  ]   8.742/9.047MB"
       ]
      },
      {
       "output_type": "stream",
       "stream": "stdout",
       "text": [
        "                                                \r",
        "[============================= ]   8.750/9.047MB"
       ]
      },
      {
       "output_type": "stream",
       "stream": "stdout",
       "text": [
        "                                                \r",
        "[============================= ]   8.758/9.047MB"
       ]
      },
      {
       "output_type": "stream",
       "stream": "stdout",
       "text": [
        "                                                \r",
        "[============================= ]   8.766/9.047MB"
       ]
      },
      {
       "output_type": "stream",
       "stream": "stdout",
       "text": [
        "                                                \r",
        "[============================= ]   8.773/9.047MB"
       ]
      },
      {
       "output_type": "stream",
       "stream": "stdout",
       "text": [
        "                                                \r",
        "[============================= ]   8.781/9.047MB"
       ]
      },
      {
       "output_type": "stream",
       "stream": "stdout",
       "text": [
        "                                                \r",
        "[============================= ]   8.789/9.047MB"
       ]
      },
      {
       "output_type": "stream",
       "stream": "stdout",
       "text": [
        "                                                \r",
        "[============================= ]   8.797/9.047MB"
       ]
      },
      {
       "output_type": "stream",
       "stream": "stdout",
       "text": [
        "                                                \r",
        "[============================= ]   8.805/9.047MB"
       ]
      },
      {
       "output_type": "stream",
       "stream": "stdout",
       "text": [
        "                                                \r",
        "[============================= ]   8.812/9.047MB"
       ]
      },
      {
       "output_type": "stream",
       "stream": "stdout",
       "text": [
        "                                                \r",
        "[============================= ]   8.820/9.047MB"
       ]
      },
      {
       "output_type": "stream",
       "stream": "stdout",
       "text": [
        "                                                \r",
        "[============================= ]   8.828/9.047MB"
       ]
      },
      {
       "output_type": "stream",
       "stream": "stdout",
       "text": [
        "                                                \r",
        "[============================= ]   8.836/9.047MB"
       ]
      },
      {
       "output_type": "stream",
       "stream": "stdout",
       "text": [
        "                                                \r",
        "[============================= ]   8.844/9.047MB"
       ]
      },
      {
       "output_type": "stream",
       "stream": "stdout",
       "text": [
        "                                                \r",
        "[============================= ]   8.852/9.047MB"
       ]
      },
      {
       "output_type": "stream",
       "stream": "stdout",
       "text": [
        "                                                \r",
        "[============================= ]   8.859/9.047MB"
       ]
      },
      {
       "output_type": "stream",
       "stream": "stdout",
       "text": [
        "                                                \r",
        "[============================= ]   8.867/9.047MB"
       ]
      },
      {
       "output_type": "stream",
       "stream": "stdout",
       "text": [
        "                                                \r",
        "[============================= ]   8.875/9.047MB"
       ]
      },
      {
       "output_type": "stream",
       "stream": "stdout",
       "text": [
        "                                                \r",
        "[============================= ]   8.883/9.047MB"
       ]
      },
      {
       "output_type": "stream",
       "stream": "stdout",
       "text": [
        "                                                \r",
        "[============================= ]   8.891/9.047MB"
       ]
      },
      {
       "output_type": "stream",
       "stream": "stdout",
       "text": [
        "                                                \r",
        "[============================= ]   8.898/9.047MB"
       ]
      },
      {
       "output_type": "stream",
       "stream": "stdout",
       "text": [
        "                                                \r",
        "[============================= ]   8.906/9.047MB"
       ]
      },
      {
       "output_type": "stream",
       "stream": "stdout",
       "text": [
        "                                                \r",
        "[============================= ]   8.914/9.047MB"
       ]
      },
      {
       "output_type": "stream",
       "stream": "stdout",
       "text": [
        "                                                \r",
        "[============================= ]   8.922/9.047MB"
       ]
      },
      {
       "output_type": "stream",
       "stream": "stdout",
       "text": [
        "                                                \r",
        "[============================= ]   8.930/9.047MB"
       ]
      },
      {
       "output_type": "stream",
       "stream": "stdout",
       "text": [
        "                                                \r",
        "[============================= ]   8.938/9.047MB"
       ]
      },
      {
       "output_type": "stream",
       "stream": "stdout",
       "text": [
        "                                                \r",
        "[============================= ]   8.945/9.047MB"
       ]
      },
      {
       "output_type": "stream",
       "stream": "stdout",
       "text": [
        "                                                \r",
        "[============================= ]   8.953/9.047MB"
       ]
      },
      {
       "output_type": "stream",
       "stream": "stdout",
       "text": [
        "                                                \r",
        "[============================= ]   8.961/9.047MB"
       ]
      },
      {
       "output_type": "stream",
       "stream": "stdout",
       "text": [
        "                                                \r",
        "[============================= ]   8.969/9.047MB"
       ]
      },
      {
       "output_type": "stream",
       "stream": "stdout",
       "text": [
        "                                                \r",
        "[============================= ]   8.977/9.047MB"
       ]
      },
      {
       "output_type": "stream",
       "stream": "stdout",
       "text": [
        "                                                \r",
        "[============================= ]   8.984/9.047MB"
       ]
      },
      {
       "output_type": "stream",
       "stream": "stdout",
       "text": [
        "                                                \r",
        "[============================= ]   8.992/9.047MB"
       ]
      },
      {
       "output_type": "stream",
       "stream": "stdout",
       "text": [
        "                                                \r",
        "[============================= ]   9.000/9.047MB"
       ]
      },
      {
       "output_type": "stream",
       "stream": "stdout",
       "text": [
        "                                                \r",
        "[============================= ]   9.008/9.047MB"
       ]
      },
      {
       "output_type": "stream",
       "stream": "stdout",
       "text": [
        "                                                \r",
        "[============================= ]   9.016/9.047MB"
       ]
      },
      {
       "output_type": "stream",
       "stream": "stdout",
       "text": [
        "                                                \r",
        "[============================= ]   9.023/9.047MB"
       ]
      },
      {
       "output_type": "stream",
       "stream": "stdout",
       "text": [
        "                                                \r",
        "[============================= ]   9.031/9.047MB"
       ]
      },
      {
       "output_type": "stream",
       "stream": "stdout",
       "text": [
        "                                                \r",
        "[============================= ]   9.039/9.047MB"
       ]
      },
      {
       "output_type": "stream",
       "stream": "stdout",
       "text": [
        "                                                \r",
        "[==============================]   9.047/9.047MB"
       ]
      },
      {
       "output_type": "stream",
       "stream": "stdout",
       "text": [
        "                                                \r",
        "[==============================]   9.047/9.047MB\n"
       ]
      }
     ],
     "prompt_number": 2
    },
    {
     "cell_type": "markdown",
     "metadata": {},
     "source": [
      "The data consists of $p$-values for the hypothesized relationships between the transcription factors and the genes. There are 113 transcription factors represented in `data['transcription_factors']`."
     ]
    },
    {
     "cell_type": "code",
     "collapsed": false,
     "input": [
      "print data['transcription_factors']\n"
     ],
     "language": "python",
     "metadata": {},
     "outputs": [
      {
       "output_type": "stream",
       "stream": "stdout",
       "text": [
        "['ABF1', 'ACE2', 'ADR1', 'ARG80', 'ARG81', 'ARO80', 'ASH1', 'AZF1', 'BAS1', 'CAD1', 'CBF1', 'CHA4', 'CIN5', 'CRZ1', 'CUP9', 'DAL81', 'DAL82', 'DIG1', 'DOT6', 'ECM22', 'FHL1', 'FKH1', 'FKH2', 'FZF1', 'GAL4', 'GAT1', 'GAT3', 'GCN4', 'GCR1', 'GCR2', 'GLN3', 'GRF10(Pho2)', 'GTS1', 'HAA1', 'HAL9', 'HAP2', 'HAP3', 'HAP4', 'HAP5', 'HIR1', 'HIR2', 'HMS1', 'HSF1', 'IME4', 'INO2', 'INO4', 'IXR1', 'LEU3', 'MAC1', 'MAL13', 'MAL33', 'MATa1', 'MBP1', 'MCM1', 'MET31', 'MET4', 'MIG1', 'MOT3', 'MSN1', 'MSN2', 'MSN4', 'MSS11', 'MTH1', 'NDD1', 'NRG1', 'PDR1', 'PHD1', 'PHO4', 'PUT3', 'RAP1', 'RCS1', 'REB1', 'RFX1', 'RGM1', 'RGT1', 'RIM101', 'RLM1', 'RME1', 'ROX1', 'RPH1', 'RTG1', 'RTG3', 'RTS2', 'SFL1', 'SFP1', 'SIG1', 'SIP4', 'SKN7', 'SKO1', 'SMP1', 'SOK2', 'SRD1', 'STB1', 'STE12', 'STP1', 'STP2', 'SUM1', 'SWI4', 'SWI5', 'SWI6', 'THI2', 'UGA3', 'USV1', 'YAP1', 'YAP3', 'YAP5', 'YAP6', 'YAP7', 'YBR267W', 'YFL044C', 'YJL206C', 'ZAP1', 'ZMS1']\n"
       ]
      }
     ],
     "prompt_number": 3
    },
    {
     "cell_type": "markdown",
     "metadata": {},
     "source": [
      "And the 6270 gene names and their annotations are given in `data['annotations']`."
     ]
    },
    {
     "cell_type": "markdown",
     "metadata": {},
     "source": [
      "A `pandas` data frame containing all the $p$-values for the binding between genes and transcription factors data is available in `data['Y']`."
     ]
    },
    {
     "cell_type": "code",
     "collapsed": false,
     "input": [
      "data['Y'].describe()"
     ],
     "language": "python",
     "metadata": {},
     "outputs": [
      {
       "html": [
        "<div style=\"max-height:1000px;max-width:1500px;overflow:auto;\">\n",
        "<table border=\"1\" class=\"dataframe\">\n",
        "  <thead>\n",
        "    <tr style=\"text-align: right;\">\n",
        "      <th></th>\n",
        "      <th>ABF1</th>\n",
        "      <th>ACE2</th>\n",
        "      <th>ADR1</th>\n",
        "      <th>ARG80</th>\n",
        "      <th>ARG81</th>\n",
        "      <th>ARO80</th>\n",
        "      <th>ASH1</th>\n",
        "      <th>AZF1</th>\n",
        "      <th>BAS1</th>\n",
        "      <th>CAD1</th>\n",
        "      <th>...</th>\n",
        "      <th>YAP1</th>\n",
        "      <th>YAP3</th>\n",
        "      <th>YAP5</th>\n",
        "      <th>YAP6</th>\n",
        "      <th>YAP7</th>\n",
        "      <th>YBR267W</th>\n",
        "      <th>YFL044C</th>\n",
        "      <th>YJL206C</th>\n",
        "      <th>ZAP1</th>\n",
        "      <th>ZMS1</th>\n",
        "    </tr>\n",
        "  </thead>\n",
        "  <tbody>\n",
        "    <tr>\n",
        "      <th>count</th>\n",
        "      <td> 6270.000000</td>\n",
        "      <td> 6.270000e+03</td>\n",
        "      <td> 6270.000000</td>\n",
        "      <td> 6.270000e+03</td>\n",
        "      <td> 6.270000e+03</td>\n",
        "      <td> 6.270000e+03</td>\n",
        "      <td> 6270.00000</td>\n",
        "      <td> 6270.000000</td>\n",
        "      <td> 6.270000e+03</td>\n",
        "      <td> 6.270000e+03</td>\n",
        "      <td>...</td>\n",
        "      <td> 6.270000e+03</td>\n",
        "      <td> 6270.000000</td>\n",
        "      <td> 6270.000000</td>\n",
        "      <td> 6.270000e+03</td>\n",
        "      <td> 6270.000000</td>\n",
        "      <td> 6270.000000</td>\n",
        "      <td> 6270.000000</td>\n",
        "      <td> 6.270000e+03</td>\n",
        "      <td> 6.270000e+03</td>\n",
        "      <td> 6270.000000</td>\n",
        "    </tr>\n",
        "    <tr>\n",
        "      <th>mean</th>\n",
        "      <td>    0.520917</td>\n",
        "      <td> 4.953694e-01</td>\n",
        "      <td>    0.467962</td>\n",
        "      <td> 5.647799e-01</td>\n",
        "      <td> 5.676383e-01</td>\n",
        "      <td> 5.386131e-01</td>\n",
        "      <td>    0.46732</td>\n",
        "      <td>    0.524318</td>\n",
        "      <td> 5.387386e-01</td>\n",
        "      <td> 5.160878e-01</td>\n",
        "      <td>...</td>\n",
        "      <td> 5.186252e-01</td>\n",
        "      <td>    0.529313</td>\n",
        "      <td>    0.559987</td>\n",
        "      <td> 5.512690e-01</td>\n",
        "      <td>    0.526091</td>\n",
        "      <td>    0.556157</td>\n",
        "      <td>    0.539022</td>\n",
        "      <td> 5.175713e-01</td>\n",
        "      <td> 5.671431e-01</td>\n",
        "      <td>    0.560589</td>\n",
        "    </tr>\n",
        "    <tr>\n",
        "      <th>std</th>\n",
        "      <td>    0.270981</td>\n",
        "      <td> 2.823651e-01</td>\n",
        "      <td>    0.279200</td>\n",
        "      <td> 2.773574e-01</td>\n",
        "      <td> 2.715823e-01</td>\n",
        "      <td> 2.787993e-01</td>\n",
        "      <td>    0.29646</td>\n",
        "      <td>    0.293448</td>\n",
        "      <td> 2.743980e-01</td>\n",
        "      <td> 2.852743e-01</td>\n",
        "      <td>...</td>\n",
        "      <td> 2.882458e-01</td>\n",
        "      <td>    0.305721</td>\n",
        "      <td>    0.268339</td>\n",
        "      <td> 2.570737e-01</td>\n",
        "      <td>    0.298690</td>\n",
        "      <td>    0.308842</td>\n",
        "      <td>    0.289868</td>\n",
        "      <td> 3.058519e-01</td>\n",
        "      <td> 2.819108e-01</td>\n",
        "      <td>    0.314172</td>\n",
        "    </tr>\n",
        "    <tr>\n",
        "      <th>min</th>\n",
        "      <td>    0.000037</td>\n",
        "      <td> 4.600000e-11</td>\n",
        "      <td>    0.000001</td>\n",
        "      <td> 8.100000e-09</td>\n",
        "      <td> 1.700000e-15</td>\n",
        "      <td> 6.400000e-15</td>\n",
        "      <td>    0.00033</td>\n",
        "      <td>    0.000240</td>\n",
        "      <td> 1.100000e-16</td>\n",
        "      <td> 1.200000e-10</td>\n",
        "      <td>...</td>\n",
        "      <td> 4.700000e-08</td>\n",
        "      <td>    0.001300</td>\n",
        "      <td>    0.000000</td>\n",
        "      <td> 4.100000e-15</td>\n",
        "      <td>    0.002300</td>\n",
        "      <td>    0.012000</td>\n",
        "      <td>    0.000080</td>\n",
        "      <td> 4.300000e-13</td>\n",
        "      <td> 8.900000e-16</td>\n",
        "      <td>    0.000210</td>\n",
        "    </tr>\n",
        "    <tr>\n",
        "      <th>25%</th>\n",
        "      <td>    0.380000</td>\n",
        "      <td> 2.600000e-01</td>\n",
        "      <td>    0.240000</td>\n",
        "      <td> 3.600000e-01</td>\n",
        "      <td> 3.700000e-01</td>\n",
        "      <td> 3.300000e-01</td>\n",
        "      <td>    0.18000</td>\n",
        "      <td>    0.280000</td>\n",
        "      <td> 3.200000e-01</td>\n",
        "      <td> 3.000000e-01</td>\n",
        "      <td>...</td>\n",
        "      <td> 2.800000e-01</td>\n",
        "      <td>    0.250000</td>\n",
        "      <td>    0.380000</td>\n",
        "      <td> 3.900000e-01</td>\n",
        "      <td>    0.260000</td>\n",
        "      <td>    0.270000</td>\n",
        "      <td>    0.310000</td>\n",
        "      <td> 2.600000e-01</td>\n",
        "      <td> 3.500000e-01</td>\n",
        "      <td>    0.300000</td>\n",
        "    </tr>\n",
        "    <tr>\n",
        "      <th>50%</th>\n",
        "      <td>    0.570000</td>\n",
        "      <td> 4.900000e-01</td>\n",
        "      <td>    0.440000</td>\n",
        "      <td> 5.800000e-01</td>\n",
        "      <td> 5.800000e-01</td>\n",
        "      <td> 5.400000e-01</td>\n",
        "      <td>    0.47000</td>\n",
        "      <td>    0.530000</td>\n",
        "      <td> 5.500000e-01</td>\n",
        "      <td> 4.700000e-01</td>\n",
        "      <td>...</td>\n",
        "      <td> 5.300000e-01</td>\n",
        "      <td>    0.520000</td>\n",
        "      <td>    0.550000</td>\n",
        "      <td> 5.900000e-01</td>\n",
        "      <td>    0.510000</td>\n",
        "      <td>    0.560000</td>\n",
        "      <td>    0.540000</td>\n",
        "      <td> 5.000000e-01</td>\n",
        "      <td> 5.700000e-01</td>\n",
        "      <td>    0.550000</td>\n",
        "    </tr>\n",
        "    <tr>\n",
        "      <th>75%</th>\n",
        "      <td>    0.720000</td>\n",
        "      <td> 7.300000e-01</td>\n",
        "      <td>    0.680000</td>\n",
        "      <td> 8.100000e-01</td>\n",
        "      <td> 8.000000e-01</td>\n",
        "      <td> 7.800000e-01</td>\n",
        "      <td>    0.70000</td>\n",
        "      <td>    0.780000</td>\n",
        "      <td> 7.700000e-01</td>\n",
        "      <td> 7.600000e-01</td>\n",
        "      <td>...</td>\n",
        "      <td> 7.600000e-01</td>\n",
        "      <td>    0.800000</td>\n",
        "      <td>    0.770000</td>\n",
        "      <td> 7.500000e-01</td>\n",
        "      <td>    0.790000</td>\n",
        "      <td>    0.840000</td>\n",
        "      <td>    0.797500</td>\n",
        "      <td> 7.800000e-01</td>\n",
        "      <td> 8.100000e-01</td>\n",
        "      <td>    0.860000</td>\n",
        "    </tr>\n",
        "    <tr>\n",
        "      <th>max</th>\n",
        "      <td>    1.000000</td>\n",
        "      <td> 1.000000e+00</td>\n",
        "      <td>    1.000000</td>\n",
        "      <td> 1.000000e+00</td>\n",
        "      <td> 1.000000e+00</td>\n",
        "      <td> 1.000000e+00</td>\n",
        "      <td>    1.00000</td>\n",
        "      <td>    1.000000</td>\n",
        "      <td> 1.000000e+00</td>\n",
        "      <td> 1.000000e+00</td>\n",
        "      <td>...</td>\n",
        "      <td> 1.000000e+00</td>\n",
        "      <td>    1.000000</td>\n",
        "      <td>    1.000000</td>\n",
        "      <td> 1.000000e+00</td>\n",
        "      <td>    1.000000</td>\n",
        "      <td>    1.000000</td>\n",
        "      <td>    1.000000</td>\n",
        "      <td> 1.000000e+00</td>\n",
        "      <td> 1.000000e+00</td>\n",
        "      <td>    1.000000</td>\n",
        "    </tr>\n",
        "  </tbody>\n",
        "</table>\n",
        "<p>8 rows \u00d7 113 columns</p>\n",
        "</div>"
       ],
       "metadata": {},
       "output_type": "pyout",
       "prompt_number": 4,
       "text": [
        "              ABF1          ACE2         ADR1         ARG80         ARG81  \\\n",
        "count  6270.000000  6.270000e+03  6270.000000  6.270000e+03  6.270000e+03   \n",
        "mean      0.520917  4.953694e-01     0.467962  5.647799e-01  5.676383e-01   \n",
        "std       0.270981  2.823651e-01     0.279200  2.773574e-01  2.715823e-01   \n",
        "min       0.000037  4.600000e-11     0.000001  8.100000e-09  1.700000e-15   \n",
        "25%       0.380000  2.600000e-01     0.240000  3.600000e-01  3.700000e-01   \n",
        "50%       0.570000  4.900000e-01     0.440000  5.800000e-01  5.800000e-01   \n",
        "75%       0.720000  7.300000e-01     0.680000  8.100000e-01  8.000000e-01   \n",
        "max       1.000000  1.000000e+00     1.000000  1.000000e+00  1.000000e+00   \n",
        "\n",
        "              ARO80        ASH1         AZF1          BAS1          CAD1  \\\n",
        "count  6.270000e+03  6270.00000  6270.000000  6.270000e+03  6.270000e+03   \n",
        "mean   5.386131e-01     0.46732     0.524318  5.387386e-01  5.160878e-01   \n",
        "std    2.787993e-01     0.29646     0.293448  2.743980e-01  2.852743e-01   \n",
        "min    6.400000e-15     0.00033     0.000240  1.100000e-16  1.200000e-10   \n",
        "25%    3.300000e-01     0.18000     0.280000  3.200000e-01  3.000000e-01   \n",
        "50%    5.400000e-01     0.47000     0.530000  5.500000e-01  4.700000e-01   \n",
        "75%    7.800000e-01     0.70000     0.780000  7.700000e-01  7.600000e-01   \n",
        "max    1.000000e+00     1.00000     1.000000  1.000000e+00  1.000000e+00   \n",
        "\n",
        "           ...               YAP1         YAP3         YAP5          YAP6  \\\n",
        "count      ...       6.270000e+03  6270.000000  6270.000000  6.270000e+03   \n",
        "mean       ...       5.186252e-01     0.529313     0.559987  5.512690e-01   \n",
        "std        ...       2.882458e-01     0.305721     0.268339  2.570737e-01   \n",
        "min        ...       4.700000e-08     0.001300     0.000000  4.100000e-15   \n",
        "25%        ...       2.800000e-01     0.250000     0.380000  3.900000e-01   \n",
        "50%        ...       5.300000e-01     0.520000     0.550000  5.900000e-01   \n",
        "75%        ...       7.600000e-01     0.800000     0.770000  7.500000e-01   \n",
        "max        ...       1.000000e+00     1.000000     1.000000  1.000000e+00   \n",
        "\n",
        "              YAP7      YBR267W      YFL044C       YJL206C          ZAP1  \\\n",
        "count  6270.000000  6270.000000  6270.000000  6.270000e+03  6.270000e+03   \n",
        "mean      0.526091     0.556157     0.539022  5.175713e-01  5.671431e-01   \n",
        "std       0.298690     0.308842     0.289868  3.058519e-01  2.819108e-01   \n",
        "min       0.002300     0.012000     0.000080  4.300000e-13  8.900000e-16   \n",
        "25%       0.260000     0.270000     0.310000  2.600000e-01  3.500000e-01   \n",
        "50%       0.510000     0.560000     0.540000  5.000000e-01  5.700000e-01   \n",
        "75%       0.790000     0.840000     0.797500  7.800000e-01  8.100000e-01   \n",
        "max       1.000000     1.000000     1.000000  1.000000e+00  1.000000e+00   \n",
        "\n",
        "              ZMS1  \n",
        "count  6270.000000  \n",
        "mean      0.560589  \n",
        "std       0.314172  \n",
        "min       0.000210  \n",
        "25%       0.300000  \n",
        "50%       0.550000  \n",
        "75%       0.860000  \n",
        "max       1.000000  \n",
        "\n",
        "[8 rows x 113 columns]"
       ]
      }
     ],
     "prompt_number": 4
    },
    {
     "cell_type": "code",
     "collapsed": false,
     "input": [],
     "language": "python",
     "metadata": {},
     "outputs": []
    }
   ],
   "metadata": {}
  }
 ]
}