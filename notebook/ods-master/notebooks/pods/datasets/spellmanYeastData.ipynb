{
 "cells": [
  {
   "cell_type": "markdown",
   "metadata": {},
   "source": [
    "# Datasets: The Spellman Yeast Data\n",
    "\n",
    "## Open Data Science Initiative\n",
    "\n",
    "### 29th May 2014 Neil D. Lawrence"
   ]
  },
  {
   "cell_type": "markdown",
   "metadata": {},
   "source": [
    "This data set collection is from an classic early microarray paper on the yeast cell cycle, [Spellman et al (1998)](http://www.molbiolcell.org/content/9/12/3273.full)."
   ]
  },
  {
   "cell_type": "code",
   "execution_count": 1,
   "metadata": {
    "collapsed": false
   },
   "outputs": [],
   "source": [
    "import pods\n",
    "import pylab as plt\n",
    "%matplotlib inline"
   ]
  },
  {
   "cell_type": "code",
   "execution_count": 2,
   "metadata": {
    "collapsed": false
   },
   "outputs": [
    {
     "name": "stdout",
     "output_type": "stream",
     "text": [
      "Acquiring resource: spellman_yeast\n",
      "\n",
      "Details of data: \n",
      "Two colour spotted cDNA array data set of a series of experiments to identify which genes in Yeast are cell cycle regulated.\n",
      "\n",
      "Please cite:\n",
      "Paul T. Spellman, Gavin Sherlock, Michael Q. Zhang, Vishwanath R. Iyer, Kirk Anders, Michael B. Eisen, Patrick O. Brown, David Botstein, and Bruce Futcher 'Comprehensive Identification of Cell Cycle-regulated Genes of the Yeast Saccharomyces cerevisiae by Microarray Hybridization.'  Molecular Biology of the Cell 9, 3273-3297\n",
      "\n",
      "After downloading the data will take up 2510955 bytes of space.\n",
      "\n",
      "Data will be stored in /Users/neill/ods_data_cache/spellman_yeast.\n",
      "\n",
      "Do you wish to proceed with the download? [yes/no]\n",
      "yes\n",
      "combined.txt\n",
      "Downloading  http://genome-www.stanford.edu/cellcycle/data/rawdata/combined.txt -> /Users/neill/ods_data_cache/spellman_yeast/combined.txt\n",
      "[==============================]   2.395/2.395MB\n"
     ]
    }
   ],
   "source": [
    "data = pods.datasets.spellman_yeast()"
   ]
  },
  {
   "cell_type": "markdown",
   "metadata": {},
   "source": [
    "The data is from two colour spotted cDNA arrays. It has been widely studied in computational biology. There are four different time series in the data as well as induction experiments. The data is returned in the form of a `pandas` data frame which can be described as follows."
   ]
  },
  {
   "cell_type": "code",
   "execution_count": 3,
   "metadata": {
    "collapsed": false
   },
   "outputs": [
    {
     "data": {
      "text/html": [
       "<div style=\"max-height:1000px;max-width:1500px;overflow:auto;\">\n",
       "<table border=\"1\" class=\"dataframe\">\n",
       "  <thead>\n",
       "    <tr style=\"text-align: right;\">\n",
       "      <th></th>\n",
       "      <th>cln3-1</th>\n",
       "      <th>cln3-2</th>\n",
       "      <th>clb</th>\n",
       "      <th>clb2-2</th>\n",
       "      <th>clb2-1</th>\n",
       "      <th>alpha</th>\n",
       "      <th>alpha0</th>\n",
       "      <th>alpha7</th>\n",
       "      <th>alpha14</th>\n",
       "      <th>alpha21</th>\n",
       "      <th>...</th>\n",
       "      <th>elu120</th>\n",
       "      <th>elu150</th>\n",
       "      <th>elu180</th>\n",
       "      <th>elu210</th>\n",
       "      <th>elu240</th>\n",
       "      <th>elu270</th>\n",
       "      <th>elu300</th>\n",
       "      <th>elu330</th>\n",
       "      <th>elu360</th>\n",
       "      <th>elu390</th>\n",
       "    </tr>\n",
       "  </thead>\n",
       "  <tbody>\n",
       "    <tr>\n",
       "      <th>count</th>\n",
       "      <td> 5985.000000</td>\n",
       "      <td> 5813.000000</td>\n",
       "      <td>  0</td>\n",
       "      <td> 5724.000000</td>\n",
       "      <td> 6036.000000</td>\n",
       "      <td>  0</td>\n",
       "      <td> 6013.000000</td>\n",
       "      <td> 5653.000000</td>\n",
       "      <td> 5987.000000</td>\n",
       "      <td> 5866.000000</td>\n",
       "      <td>...</td>\n",
       "      <td> 6075.000000</td>\n",
       "      <td> 6059.000000</td>\n",
       "      <td> 6067.000000</td>\n",
       "      <td> 6060.000000</td>\n",
       "      <td> 6047.000000</td>\n",
       "      <td> 6068.000000</td>\n",
       "      <td> 6066.000000</td>\n",
       "      <td> 6066.000000</td>\n",
       "      <td> 6022.000000</td>\n",
       "      <td> 6064.000000</td>\n",
       "    </tr>\n",
       "    <tr>\n",
       "      <th>mean</th>\n",
       "      <td>    0.011270</td>\n",
       "      <td>   -0.284361</td>\n",
       "      <td>NaN</td>\n",
       "      <td>   -0.214780</td>\n",
       "      <td>   -0.027646</td>\n",
       "      <td>NaN</td>\n",
       "      <td>    0.004695</td>\n",
       "      <td>   -0.049756</td>\n",
       "      <td>    0.025881</td>\n",
       "      <td>   -0.006715</td>\n",
       "      <td>...</td>\n",
       "      <td>    0.038517</td>\n",
       "      <td>   -0.010840</td>\n",
       "      <td>   -0.003516</td>\n",
       "      <td>    0.056287</td>\n",
       "      <td>    0.037281</td>\n",
       "      <td>    0.016523</td>\n",
       "      <td>    0.007295</td>\n",
       "      <td>    0.026142</td>\n",
       "      <td>   -0.069389</td>\n",
       "      <td>    0.037169</td>\n",
       "    </tr>\n",
       "    <tr>\n",
       "      <th>std</th>\n",
       "      <td>    0.552941</td>\n",
       "      <td>    0.620545</td>\n",
       "      <td>NaN</td>\n",
       "      <td>    0.420586</td>\n",
       "      <td>    0.432394</td>\n",
       "      <td>NaN</td>\n",
       "      <td>    0.413762</td>\n",
       "      <td>    0.446178</td>\n",
       "      <td>    0.360738</td>\n",
       "      <td>    0.329861</td>\n",
       "      <td>...</td>\n",
       "      <td>    0.346560</td>\n",
       "      <td>    0.326094</td>\n",
       "      <td>    0.276335</td>\n",
       "      <td>    0.236677</td>\n",
       "      <td>    0.243618</td>\n",
       "      <td>    0.263399</td>\n",
       "      <td>    0.249453</td>\n",
       "      <td>    0.300645</td>\n",
       "      <td>    0.352169</td>\n",
       "      <td>    0.236035</td>\n",
       "    </tr>\n",
       "    <tr>\n",
       "      <th>min</th>\n",
       "      <td>   -2.940000</td>\n",
       "      <td>   -3.320000</td>\n",
       "      <td>NaN</td>\n",
       "      <td>   -2.940000</td>\n",
       "      <td>   -2.940000</td>\n",
       "      <td>NaN</td>\n",
       "      <td>   -2.420000</td>\n",
       "      <td>   -2.710000</td>\n",
       "      <td>   -1.960000</td>\n",
       "      <td>   -2.290000</td>\n",
       "      <td>...</td>\n",
       "      <td>   -1.950000</td>\n",
       "      <td>   -1.700000</td>\n",
       "      <td>   -2.040000</td>\n",
       "      <td>   -1.890000</td>\n",
       "      <td>   -1.520000</td>\n",
       "      <td>   -1.860000</td>\n",
       "      <td>   -1.940000</td>\n",
       "      <td>   -1.420000</td>\n",
       "      <td>   -1.470000</td>\n",
       "      <td>   -1.020000</td>\n",
       "    </tr>\n",
       "    <tr>\n",
       "      <th>25%</th>\n",
       "      <td>   -0.300000</td>\n",
       "      <td>   -0.640000</td>\n",
       "      <td>NaN</td>\n",
       "      <td>   -0.430000</td>\n",
       "      <td>   -0.270000</td>\n",
       "      <td>NaN</td>\n",
       "      <td>   -0.160000</td>\n",
       "      <td>   -0.280000</td>\n",
       "      <td>   -0.150000</td>\n",
       "      <td>   -0.180000</td>\n",
       "      <td>...</td>\n",
       "      <td>   -0.170000</td>\n",
       "      <td>   -0.200000</td>\n",
       "      <td>   -0.160000</td>\n",
       "      <td>   -0.090000</td>\n",
       "      <td>   -0.120000</td>\n",
       "      <td>   -0.150000</td>\n",
       "      <td>   -0.130000</td>\n",
       "      <td>   -0.150000</td>\n",
       "      <td>   -0.280000</td>\n",
       "      <td>   -0.110000</td>\n",
       "    </tr>\n",
       "    <tr>\n",
       "      <th>50%</th>\n",
       "      <td>    0.000000</td>\n",
       "      <td>   -0.320000</td>\n",
       "      <td>NaN</td>\n",
       "      <td>   -0.230000</td>\n",
       "      <td>   -0.040000</td>\n",
       "      <td>NaN</td>\n",
       "      <td>    0.010000</td>\n",
       "      <td>   -0.060000</td>\n",
       "      <td>    0.030000</td>\n",
       "      <td>   -0.020000</td>\n",
       "      <td>...</td>\n",
       "      <td>    0.040000</td>\n",
       "      <td>   -0.010000</td>\n",
       "      <td>    0.000000</td>\n",
       "      <td>    0.050000</td>\n",
       "      <td>    0.030000</td>\n",
       "      <td>    0.010000</td>\n",
       "      <td>    0.020000</td>\n",
       "      <td>    0.030000</td>\n",
       "      <td>   -0.070000</td>\n",
       "      <td>    0.030000</td>\n",
       "    </tr>\n",
       "    <tr>\n",
       "      <th>75%</th>\n",
       "      <td>    0.300000</td>\n",
       "      <td>    0.030000</td>\n",
       "      <td>NaN</td>\n",
       "      <td>   -0.040000</td>\n",
       "      <td>    0.190000</td>\n",
       "      <td>NaN</td>\n",
       "      <td>    0.170000</td>\n",
       "      <td>    0.150000</td>\n",
       "      <td>    0.210000</td>\n",
       "      <td>    0.150000</td>\n",
       "      <td>...</td>\n",
       "      <td>    0.240000</td>\n",
       "      <td>    0.180000</td>\n",
       "      <td>    0.160000</td>\n",
       "      <td>    0.190000</td>\n",
       "      <td>    0.190000</td>\n",
       "      <td>    0.180000</td>\n",
       "      <td>    0.160000</td>\n",
       "      <td>    0.210000</td>\n",
       "      <td>    0.130000</td>\n",
       "      <td>    0.160000</td>\n",
       "    </tr>\n",
       "    <tr>\n",
       "      <th>max</th>\n",
       "      <td>    5.550000</td>\n",
       "      <td>    4.120000</td>\n",
       "      <td>NaN</td>\n",
       "      <td>    4.510000</td>\n",
       "      <td>    5.840000</td>\n",
       "      <td>NaN</td>\n",
       "      <td>    4.950000</td>\n",
       "      <td>    4.230000</td>\n",
       "      <td>    2.380000</td>\n",
       "      <td>    2.110000</td>\n",
       "      <td>...</td>\n",
       "      <td>    1.490000</td>\n",
       "      <td>    1.400000</td>\n",
       "      <td>    1.260000</td>\n",
       "      <td>    1.290000</td>\n",
       "      <td>    1.260000</td>\n",
       "      <td>    1.310000</td>\n",
       "      <td>    2.070000</td>\n",
       "      <td>    2.160000</td>\n",
       "      <td>    2.140000</td>\n",
       "      <td>    2.250000</td>\n",
       "    </tr>\n",
       "  </tbody>\n",
       "</table>\n",
       "<p>8 rows × 82 columns</p>\n",
       "</div>"
      ],
      "text/plain": [
       "            cln3-1       cln3-2  clb       clb2-2       clb2-1  alpha  \\\n",
       "count  5985.000000  5813.000000    0  5724.000000  6036.000000      0   \n",
       "mean      0.011270    -0.284361  NaN    -0.214780    -0.027646    NaN   \n",
       "std       0.552941     0.620545  NaN     0.420586     0.432394    NaN   \n",
       "min      -2.940000    -3.320000  NaN    -2.940000    -2.940000    NaN   \n",
       "25%      -0.300000    -0.640000  NaN    -0.430000    -0.270000    NaN   \n",
       "50%       0.000000    -0.320000  NaN    -0.230000    -0.040000    NaN   \n",
       "75%       0.300000     0.030000  NaN    -0.040000     0.190000    NaN   \n",
       "max       5.550000     4.120000  NaN     4.510000     5.840000    NaN   \n",
       "\n",
       "            alpha0       alpha7      alpha14      alpha21     ...       \\\n",
       "count  6013.000000  5653.000000  5987.000000  5866.000000     ...        \n",
       "mean      0.004695    -0.049756     0.025881    -0.006715     ...        \n",
       "std       0.413762     0.446178     0.360738     0.329861     ...        \n",
       "min      -2.420000    -2.710000    -1.960000    -2.290000     ...        \n",
       "25%      -0.160000    -0.280000    -0.150000    -0.180000     ...        \n",
       "50%       0.010000    -0.060000     0.030000    -0.020000     ...        \n",
       "75%       0.170000     0.150000     0.210000     0.150000     ...        \n",
       "max       4.950000     4.230000     2.380000     2.110000     ...        \n",
       "\n",
       "            elu120       elu150       elu180       elu210       elu240  \\\n",
       "count  6075.000000  6059.000000  6067.000000  6060.000000  6047.000000   \n",
       "mean      0.038517    -0.010840    -0.003516     0.056287     0.037281   \n",
       "std       0.346560     0.326094     0.276335     0.236677     0.243618   \n",
       "min      -1.950000    -1.700000    -2.040000    -1.890000    -1.520000   \n",
       "25%      -0.170000    -0.200000    -0.160000    -0.090000    -0.120000   \n",
       "50%       0.040000    -0.010000     0.000000     0.050000     0.030000   \n",
       "75%       0.240000     0.180000     0.160000     0.190000     0.190000   \n",
       "max       1.490000     1.400000     1.260000     1.290000     1.260000   \n",
       "\n",
       "            elu270       elu300       elu330       elu360       elu390  \n",
       "count  6068.000000  6066.000000  6066.000000  6022.000000  6064.000000  \n",
       "mean      0.016523     0.007295     0.026142    -0.069389     0.037169  \n",
       "std       0.263399     0.249453     0.300645     0.352169     0.236035  \n",
       "min      -1.860000    -1.940000    -1.420000    -1.470000    -1.020000  \n",
       "25%      -0.150000    -0.130000    -0.150000    -0.280000    -0.110000  \n",
       "50%       0.010000     0.020000     0.030000    -0.070000     0.030000  \n",
       "75%       0.180000     0.160000     0.210000     0.130000     0.160000  \n",
       "max       1.310000     2.070000     2.160000     2.140000     2.250000  \n",
       "\n",
       "[8 rows x 82 columns]"
      ]
     },
     "execution_count": 3,
     "metadata": {},
     "output_type": "execute_result"
    }
   ],
   "source": [
    "data['Y'].describe()"
   ]
  },
  {
   "cell_type": "markdown",
   "metadata": {},
   "source": [
    "The first five columns are the clb2 and cln3 induction experiments. The columns that follow are the alpha, cdc15, cdc28 and elutriation time course experiments. The index gives the gene names. The columns are named according to the experiment."
   ]
  },
  {
   "cell_type": "code",
   "execution_count": 4,
   "metadata": {
    "collapsed": false
   },
   "outputs": [
    {
     "name": "stdout",
     "output_type": "stream",
     "text": [
      "Index([u'cln3-1', u'cln3-2', u'clb', u'clb2-2', u'clb2-1', u'alpha', u'alpha0', u'alpha7', u'alpha14', u'alpha21', u'alpha28', u'alpha35', u'alpha42', u'alpha49', u'alpha56', u'alpha63', u'alpha70', u'alpha77', u'alpha84', u'alpha91', u'alpha98', u'alpha105', u'alpha112', u'alpha119', u'cdc15', u'cdc15_10', u'cdc15_30', u'cdc15_50', u'cdc15_70', u'cdc15_80', u'cdc15_90', u'cdc15_100', u'cdc15_110', u'cdc15_120', u'cdc15_130', u'cdc15_140', u'cdc15_150', u'cdc15_160', u'cdc15_170', u'cdc15_180', u'cdc15_190', u'cdc15_200', u'cdc15_210', u'cdc15_220', u'cdc15_230', u'cdc15_240', u'cdc15_250', u'cdc15_270', u'cdc15_290', u'cdc28', u'cdc28_0', u'cdc28_10', u'cdc28_20', u'cdc28_30', u'cdc28_40', u'cdc28_50', u'cdc28_60', u'cdc28_70', u'cdc28_80', u'cdc28_90', u'cdc28_100', u'cdc28_110', u'cdc28_120', u'cdc28_130', u'cdc28_140', u'cdc28_150', u'cdc28_160', u'elu', u'elu0', u'elu30', u'elu60', u'elu90', u'elu120', u'elu150', u'elu180', u'elu210', u'elu240', u'elu270', u'elu300', u'elu330', u'elu360', u'elu390'], dtype='object')\n"
     ]
    }
   ],
   "source": [
    "print data['Y'].columns"
   ]
  },
  {
   "cell_type": "markdown",
   "metadata": {},
   "source": [
    "And the index is given by the gene name, there are 6178 genes in total."
   ]
  },
  {
   "cell_type": "code",
   "execution_count": 5,
   "metadata": {
    "collapsed": false
   },
   "outputs": [
    {
     "name": "stdout",
     "output_type": "stream",
     "text": [
      "Index([u'YAL001C', u'YAL002W', u'YAL003W', u'YAL004W', u'YAL005C', u'YAL007C', u'YAL008W', u'YAL009W', u'YAL010C', u'YAL011W', u'YAL012W', u'YAL013W', u'YAL014C', u'YAL015C', u'YAL016W', u'YAL017W', u'YAL018C', u'YAL019W', u'YAL020C', u'YAL021C', u'YAL022C', u'YAL023C', u'YAL024C', u'YAL025C', u'YAL026C', u'YAL027W', u'YAL028W', u'YAL029C', u'YAL030W', u'YAL031C', u'YAL032C', u'YAL033W', u'YAL034C', u'YAL035C-A', u'YAL035W', u'YAL036C', u'YAL037W', u'YAL038W', u'YAL039C', u'YAL040C', u'YAL041W', u'YAL042W', u'YAL043C', u'YAL043C-A', u'YAL044C', u'YAL045C', u'YAL046C', u'YAL047C', u'YAL048C', u'YAL049C', u'YAL051W', u'YAL053W', u'YAL054C', u'YAL055W', u'YAL056W', u'YAL058C-A', u'YAL058W', u'YAL059W', u'YAL060W', u'YAL061W', u'YAL062W', u'YAL063C', u'YAL064C-A', u'YAL064W', u'YAL064W-B', u'YAL065C', u'YAL066W', u'YAL067C', u'YAL068C', u'YAL069W', u'YAR002C-A', u'YAR002W', u'YAR003W', u'YAR007C', u'YAR008W', u'YAR009C', u'YAR010C', u'YAR014C', u'YAR015W', u'YAR018C', u'YAR019C', u'YAR020C', u'YAR023C', u'YAR027W', u'YAR028W', u'YAR029W', u'YAR030C', u'YAR031W', u'YAR033W', u'YAR035W', u'YAR037W', u'YAR040C', u'YAR042W', u'YAR043C', u'YAR044W', u'YAR047C', u'YAR050W', u'YAR052C', u'YAR053W', u'YAR060C', ...], dtype='object')\n"
     ]
    }
   ],
   "source": [
    "print data['Y'].index"
   ]
  },
  {
   "cell_type": "markdown",
   "metadata": {},
   "source": [
    "We also provide a variant of the data for just the cdc15 time course. "
   ]
  },
  {
   "cell_type": "code",
   "execution_count": 6,
   "metadata": {
    "collapsed": false
   },
   "outputs": [],
   "source": [
    "data = pods.datasets.spellman_yeast_cdc15()"
   ]
  },
  {
   "cell_type": "markdown",
   "metadata": {},
   "source": [
    "And in this data we also provide the associated time points."
   ]
  },
  {
   "cell_type": "code",
   "execution_count": 7,
   "metadata": {
    "collapsed": false
   },
   "outputs": [
    {
     "data": {
      "text/plain": [
       "<matplotlib.text.Text at 0x10e777290>"
      ]
     },
     "execution_count": 7,
     "metadata": {},
     "output_type": "execute_result"
    },
    {
     "data": {
      "image/png": "[encoded data removed]",
      "text/plain": [
       "<matplotlib.figure.Figure at 0x103619e10>"
      ]
     },
     "metadata": {},
     "output_type": "display_data"
    }
   ],
   "source": [
    "plt.plot(data['t'], data['Y']['YAR015W'],'rx')\n",
    "plt.title('Gene YAR015W from Spellman et al for the cdc15 Time Course')\n",
    "plt.xlabel('time')\n",
    "plt.ylabel('$\\log_2$ expression ratio')"
   ]
  },
  {
   "cell_type": "markdown",
   "metadata": {},
   "source": [
    "As normal we include the citation information for the data."
   ]
  },
  {
   "cell_type": "code",
   "execution_count": 8,
   "metadata": {
    "collapsed": false
   },
   "outputs": [
    {
     "name": "stdout",
     "output_type": "stream",
     "text": [
      "Paul T. Spellman, Gavin Sherlock, Michael Q. Zhang, Vishwanath R. Iyer, Kirk Anders, Michael B. Eisen, Patrick O. Brown, David Botstein, and Bruce Futcher 'Comprehensive Identification of Cell Cycle-regulated Genes of the Yeast Saccharomyces cerevisiae by Microarray Hybridization.'  Molecular Biology of the Cell 9, 3273-3297\n"
     ]
    }
   ],
   "source": [
    "print data['citation']"
   ]
  },
  {
   "cell_type": "markdown",
   "metadata": {},
   "source": [
    "And extra information about the data is included, as standard, under the keys `info` and `details`."
   ]
  },
  {
   "cell_type": "code",
   "execution_count": 9,
   "metadata": {
    "collapsed": false
   },
   "outputs": [
    {
     "name": "stdout",
     "output_type": "stream",
     "text": [
      "Time series of synchronized yeast cells from the CDC-15 experiment of Spellman et al (1998).\n",
      "\n",
      "Two colour spotted cDNA array data set of a series of experiments to identify which genes in Yeast are cell cycle regulated.\n"
     ]
    }
   ],
   "source": [
    "print data['info']\n",
    "print\n",
    "print data['details']"
   ]
  }
 ],
 "metadata": {
  "kernelspec": {
   "display_name": "Python 2",
   "language": "python",
   "name": "python2"
  },
  "language_info": {
   "codemirror_mode": {
    "name": "ipython",
    "version": 2
   },
   "file_extension": ".py",
   "mimetype": "text/x-python",
   "name": "python",
   "nbconvert_exporter": "python",
   "pygments_lexer": "ipython2",
   "version": "2.7.6"
  }
 },
 "nbformat": 4,
 "nbformat_minor": 0
}
