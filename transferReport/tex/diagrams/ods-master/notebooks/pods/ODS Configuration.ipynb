{
 "metadata": {
  "name": "",
  "signature": "sha256:75f315457749d0a32845b30d4fc37a193679117ffad18bd21487cad9d3d1bad4"
 },
 "nbformat": 3,
 "nbformat_minor": 0,
 "worksheets": [
  {
   "cells": [
    {
     "cell_type": "markdown",
     "metadata": {},
     "source": [
      "# Local Config File\n",
      "\n",
      "## Open Data Science Initiative\n",
      "\n",
      "### 3rd November 2014 Neil D. Lawrence\n",
      "\n",
      "To make use of the python open data science software, you need to create a local configuration file in your home directory called `.ods_user.cfg` which stores the following entries."
     ]
    },
    {
     "cell_type": "raw",
     "metadata": {},
     "source": [
      "# This is a user's personal configuration file for ods\n",
      "[datasets]\n",
      "# location for the local data cache\n",
      "dir=~/ods_data_cache/\n",
      "\n",
      "[google docs] \n",
      "# Set the email address of an account to access google doc information.\n",
      "user = user@gmail.com\n",
      "# Set the password of an account to access google doc information.\n",
      "password = password\n",
      "\n",
      "[Gmail]\n",
      "user = user@gmail.com\n",
      "name = Name Surname"
     ]
    },
    {
     "cell_type": "code",
     "collapsed": false,
     "input": [],
     "language": "python",
     "metadata": {},
     "outputs": []
    }
   ],
   "metadata": {}
  }
 ]
}