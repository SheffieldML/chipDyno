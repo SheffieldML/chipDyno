{
 "metadata": {
  "name": "",
  "signature": "sha256:3dc8929cfdb1157387694fbdd8b4f8d1279c3f2da17870d6b92f8b45aedb01c9"
 },
 "nbformat": 3,
 "nbformat_minor": 0,
 "worksheets": [
  {
   "cells": [
    {
     "cell_type": "markdown",
     "metadata": {},
     "source": [
      "# Software for Open Data Science\n",
      "\n",
      "## Open Data Science Initiative\n",
      "\n",
      "### 3rd November 2014 Neil D. Lawrence\n",
      "\n",
      "This repository contains some general software for open data science. In these notebooks we include examples on how to use the `pods` software or python open data science software. \n",
      "\n",
      "There is [information on initialising the software](./ODS Configuration.ipynb) with the configuration file.\n",
      "\n",
      "#### Data Sets\n",
      "\n",
      "As part of the repository we provide an interface to data sets used for demonstrating machine learning algorithms. Some of the datasets and descriptions of how to add them are provided [here](./datasets/index.ipynb).\n",
      "\n",
      "#### Google Docs Interface\n",
      "\n",
      "We also provide an [interface to Google docs](./Google Docs Interface.ipynb) for `pandas` for sharing and updating data."
     ]
    },
    {
     "cell_type": "code",
     "collapsed": false,
     "input": [],
     "language": "python",
     "metadata": {},
     "outputs": []
    }
   ],
   "metadata": {}
  }
 ]
}